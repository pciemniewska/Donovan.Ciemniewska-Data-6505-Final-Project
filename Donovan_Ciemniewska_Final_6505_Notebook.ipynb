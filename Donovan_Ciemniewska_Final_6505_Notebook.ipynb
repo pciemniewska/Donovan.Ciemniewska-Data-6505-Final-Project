{
  "nbformat": 4,
  "nbformat_minor": 0,
  "metadata": {
    "colab": {
      "provenance": [],
      "toc_visible": true,
      "include_colab_link": true
    },
    "kernelspec": {
      "name": "python3",
      "display_name": "Python 3"
    },
    "language_info": {
      "name": "python"
    }
  },
  "cells": [
    {
      "cell_type": "markdown",
      "metadata": {
        "id": "view-in-github",
        "colab_type": "text"
      },
      "source": [
        "<a href=\"https://colab.research.google.com/github/pciemniewska/Donovan.Ciemniewska-Data-6505-Final-Project/blob/main/Donovan_Ciemniewska_Final_6505_Notebook.ipynb\" target=\"_parent\"><img src=\"https://colab.research.google.com/assets/colab-badge.svg\" alt=\"Open In Colab\"/></a>"
      ]
    },
    {
      "cell_type": "markdown",
      "source": [
        "# **Analysis of 2022 ML and Data Science Jobs**\n",
        "\n",
        "\n"
      ],
      "metadata": {
        "id": "TqMWMqYour0I"
      }
    },
    {
      "cell_type": "markdown",
      "source": [
        "By: Caroline Donovan and Patrycja Ciemniewska \n"
      ],
      "metadata": {
        "id": "WkUmOfF_u0DM"
      }
    },
    {
      "cell_type": "markdown",
      "source": [
        "Professor: Dr. Jie Tao"
      ],
      "metadata": {
        "id": "BM7Bl8yOJiam"
      }
    },
    {
      "cell_type": "markdown",
      "source": [
        "Course: DATA 6505- Data Munging in Python\n"
      ],
      "metadata": {
        "id": "bz88QQyjJeng"
      }
    },
    {
      "cell_type": "markdown",
      "source": [
        "Date: December 15th, 2022"
      ],
      "metadata": {
        "id": "Bd9skxkAJhJg"
      }
    },
    {
      "cell_type": "markdown",
      "source": [
        "# ↪Section 1: Introduction to our Data "
      ],
      "metadata": {
        "id": "xY5DXUXWu4Yk"
      }
    },
    {
      "cell_type": "markdown",
      "source": [
        "## Description of the Data Set\n",
        "Our data set was the [2022 Kaggle Machine Learning & Data Science Survey](https://www.kaggle.com/competitions/kaggle-survey-2022/data). The survey was composed of 43 questions ranging from age and gender to programming language ability and job responsibilities for many different responders around the world. The survey received 23,997 responses and resulted in 296 columns. Many of the questions resulted in one column per response option which is the reason for the large number of columns. For example, Programming Languages resulted in one column per langugae- ie: Python, SQL, and R ended up in three separate columns. \n"
      ],
      "metadata": {
        "id": "KGnRcPdASnEv"
      }
    },
    {
      "cell_type": "markdown",
      "source": [
        "##Data Dictionary\n",
        "| **Column Names**                               | **Data Descriptions** | \n",
        " | --------------------                            | --------------------- |\n",
        "|Age | 18-21, 22-24, 25-29, 30-34, 35-39, 40-44, 45-49, 50-54, 55-59, 60-69,70+\n",
        "|Gender |Man, Woman, nonbinary, Prefer not to say, Prefer to self-describe\n",
        "Country | Various Countries\n",
        "Are you curretly in school? |  Yes, No\n",
        "On what platfrom have you done datascience | Datacamp, University Courses, Kaggle, Linked-In Learning, edX, Coursera, Fast_ai, Udacity, Udemy,Cloud Cert. Program, None, Other\n",
        "What is the highest level of education | No formal education? past high school, Some college/university with no degree earned, Bachelor's Degree, Professional doctorate, Master's degree, Doctoral degree\n",
        "For how many years have you been writing code? |Bins: Never written code, > 1, 1-3, 3-5, 5-10, 10-20, 20+\n",
        "Which programming language do you use? | Python, R, SQL, Javascript, Java, Bash, C++, C, C#, PHP, Julia, Go, MATLAB, Other\n",
        "| Select the title most similar to your current role | Data Scientist, Data Analyst, Manager, Other\n",
        "In which industry is your current employer? | Various industries\n",
        "Size of company | Bins: 0-49, 40-249, 250-999, 1,000-9,999, 10,000+ employees\n",
        "How many people do what you do at your company? | 0, 1-2, 3-4, 5-9, 10-14, 15-19, 20 +\n",
        "Select any activities that make up an important part of your role | Analyze and understand data, Build and run data infastructure, Build prototypes to explore ML , Build and run ML service, Improve existing ML methods, Research ML\n",
        "What is your current yearly compensation in USD? | $0 - $1,000,000+\n",
        "BI tools | Amazon Quicksight, Power BI, Google Data Studio, Looker, Tableau, Qlik Sense, Domo, TIBCO Spotfire, Alteryx, Sisense, SAP Analytical Cloud, Azure Synpase, Thoughtspot, None, Other\n"
      ],
      "metadata": {
        "id": "y7AR7ZIEP_K8"
      }
    },
    {
      "cell_type": "markdown",
      "source": [
        "##Importance of Our Data and Our Story\n",
        "We chose to conduct our analysis for our DATA 6505 final on 2022 Machine Learning and Data Science job opportunity data. We chose this because both of us have come from a different educational background and we do not know much about the analytics job market or the skills we should have. Additionally, we both face the fear of feeling as if we do not know enough or are not 'good' enough to get into this field. Overall, we conducted this analysis for ourselves and our peers to better understand the job opportunities that become available for students leaving Fairfield University's MSBA. \n"
      ],
      "metadata": {
        "id": "XzUahdyGxyB-"
      }
    },
    {
      "cell_type": "markdown",
      "source": [
        "#↪Section 2: Research Questions"
      ],
      "metadata": {
        "id": "lwGi5-a3vEJl"
      }
    },
    {
      "cell_type": "markdown",
      "source": [
        "## Analysis 1: Job TODAY!\n",
        "To better understand job opportunities in the Data Analytics field today, we are going to review the following questions for a Data Analyst or a Data Scientist:\n",
        "1. What industries do data analysts and data scientists work in?\n",
        "2. What company sizes are the most popular amongst data analysts and data scientists? \n",
        "3. How many years have data analysts and data scientists been coding?\n",
        "4. What programming languages are the most popular amogst data analysts and data scientists? \n",
        "5. How do our coding abilities compare against data analysts and data scientists? \n",
        "6. What are the most popular combinations of programming languages amongst data analysts and data scientists? \n",
        "7. What BI tools do data analysts and data scientists use?\n",
        "8. What data science platforms do data analysts and data scientists use?\n",
        "9. What are the most popular combinations of job responsibilites amongst data analysts and data scientists? \n",
        "10. How big is the analytics team?\n",
        "11. How does the amount of people differ for a data analysts vs a data scientists? \n",
        "12. What are the Distributions for Gender and Age for Data Analysts and Scientists?\n",
        "13. What is the average salary for a data analysts and data scientists? \n",
        "14. How does level of education affect salary?\n",
        "15. How does years writing code affect salary?\n"
      ],
      "metadata": {
        "id": "x-VmTm9Lvdar"
      }
    },
    {
      "cell_type": "markdown",
      "source": [
        "## Analysis 2 : Job in 5-8 Years!\n",
        "The second step in our analysis is to look at some of our core analytical questions and apply them to jobs we could have a few years down the road. We shift here from Data Analyst or Scientist, to Data Architect, Administrator, or Manager.\n",
        "1. What do Job Responsibilities look like for Upper Level Positions in Analytics?\n",
        "2. How do Gender and Age Change for Upper Level Positions Compared to Analysts and Scientists?\n",
        "3. How Does Salary Change Moving up to an Upper Level Position?"
      ],
      "metadata": {
        "id": "lMD-2SjWvZ2n"
      }
    },
    {
      "cell_type": "markdown",
      "source": [
        "#↪Section 3: Initial Data Review"
      ],
      "metadata": {
        "id": "JUdMXa8gv6oW"
      }
    },
    {
      "cell_type": "markdown",
      "source": [
        "## Importing Data"
      ],
      "metadata": {
        "id": "uQMPkHoUxQa6"
      }
    },
    {
      "cell_type": "code",
      "source": [
        "#Connect to google drive to retrieve csv\n",
        "from google.colab import drive\n",
        "drive.mount('/content/drive')"
      ],
      "metadata": {
        "colab": {
          "base_uri": "https://localhost:8080/"
        },
        "id": "D0JAusl0w__a",
        "outputId": "d2d58db7-8c45-410d-f9bd-817788ce6c20"
      },
      "execution_count": null,
      "outputs": [
        {
          "output_type": "stream",
          "name": "stdout",
          "text": [
            "Drive already mounted at /content/drive; to attempt to forcibly remount, call drive.mount(\"/content/drive\", force_remount=True).\n"
          ]
        }
      ]
    },
    {
      "cell_type": "code",
      "source": [
        "#All imports and graph size \n",
        "import pandas as pd \n",
        "import numpy as np\n",
        "import matplotlib.pyplot as plt\n",
        "plt.rcParams[\"figure.figsize\"] = (12,5)"
      ],
      "metadata": {
        "id": "9zBpA2n-xAOe"
      },
      "execution_count": null,
      "outputs": []
    },
    {
      "cell_type": "code",
      "source": [
        "#Look at employment_df\n",
        "employment_df = pd.read_csv('/content/drive/MyDrive/6505relevant.csv')\n",
        "employment_df.head()"
      ],
      "metadata": {
        "colab": {
          "base_uri": "https://localhost:8080/",
          "height": 596
        },
        "id": "-ZR11fWIFiOX",
        "outputId": "528944b6-56d9-464c-a331-69ef6899b29c"
      },
      "execution_count": null,
      "outputs": [
        {
          "output_type": "stream",
          "name": "stderr",
          "text": [
            "/usr/local/lib/python3.8/dist-packages/IPython/core/interactiveshell.py:3326: DtypeWarning: Columns (0) have mixed types.Specify dtype option on import or set low_memory=False.\n",
            "  exec(code_obj, self.user_global_ns, self.user_ns)\n"
          ]
        },
        {
          "output_type": "execute_result",
          "data": {
            "text/plain": [
              "  Duration (in seconds)     Q2     Q3       Q4   Q5      Q6_1 Q6_2  \\\n",
              "0                   462  30-34    Man  Algeria   No       NaN  NaN   \n",
              "1                   212  18-21  Woman  Algeria  Yes       NaN  NaN   \n",
              "2                   561  45-49    Man  Algeria  Yes  Coursera  NaN   \n",
              "3                   426  25-29  Woman  Algeria  Yes  Coursera  NaN   \n",
              "4                   499  25-29    Man  Algeria  Yes       NaN  NaN   \n",
              "\n",
              "                   Q6_3 Q6_4 Q6_5  ...                            Q44_3  \\\n",
              "0                   NaN  NaN  NaN  ...                              NaN   \n",
              "1                   NaN  NaN  NaN  ...                              NaN   \n",
              "2                   NaN  NaN  NaN  ...                              NaN   \n",
              "3                   NaN  NaN  NaN  ...  Reddit (r/machinelearning, etc)   \n",
              "4  Kaggle Learn Courses  NaN  NaN  ...                              NaN   \n",
              "\n",
              "                             Q44_4  \\\n",
              "0                              NaN   \n",
              "1                              NaN   \n",
              "2                              NaN   \n",
              "3                              NaN   \n",
              "4  Kaggle (notebooks, forums, etc)   \n",
              "\n",
              "                                               Q44_5  \\\n",
              "0                                                NaN   \n",
              "1                                                NaN   \n",
              "2                                                NaN   \n",
              "3  Course Forums (forums.fast.ai, Coursera forums...   \n",
              "4                                                NaN   \n",
              "\n",
              "                                               Q44_6 Q44_7 Q44_8  \\\n",
              "0                                                NaN   NaN   NaN   \n",
              "1                                                NaN   NaN   NaN   \n",
              "2                                                NaN   NaN   NaN   \n",
              "3  YouTube (Kaggle YouTube, Cloud AI Adventures, ...   NaN   NaN   \n",
              "4  YouTube (Kaggle YouTube, Cloud AI Adventures, ...   NaN   NaN   \n",
              "\n",
              "                                               Q44_9 Q44_10 Q44_11 Q44_12  \n",
              "0                                                NaN    NaN    NaN    NaN  \n",
              "1                                                NaN    NaN    NaN    NaN  \n",
              "2                                                NaN    NaN    NaN    NaN  \n",
              "3  Journal Publications (peer-reviewed journals, ...    NaN    NaN    NaN  \n",
              "4                                                NaN    NaN    NaN    NaN  \n",
              "\n",
              "[5 rows x 127 columns]"
            ],
            "text/html": [
              "\n",
              "  <div id=\"df-18e923c1-9b0d-4f56-876f-55e79e2c2239\">\n",
              "    <div class=\"colab-df-container\">\n",
              "      <div>\n",
              "<style scoped>\n",
              "    .dataframe tbody tr th:only-of-type {\n",
              "        vertical-align: middle;\n",
              "    }\n",
              "\n",
              "    .dataframe tbody tr th {\n",
              "        vertical-align: top;\n",
              "    }\n",
              "\n",
              "    .dataframe thead th {\n",
              "        text-align: right;\n",
              "    }\n",
              "</style>\n",
              "<table border=\"1\" class=\"dataframe\">\n",
              "  <thead>\n",
              "    <tr style=\"text-align: right;\">\n",
              "      <th></th>\n",
              "      <th>Duration (in seconds)</th>\n",
              "      <th>Q2</th>\n",
              "      <th>Q3</th>\n",
              "      <th>Q4</th>\n",
              "      <th>Q5</th>\n",
              "      <th>Q6_1</th>\n",
              "      <th>Q6_2</th>\n",
              "      <th>Q6_3</th>\n",
              "      <th>Q6_4</th>\n",
              "      <th>Q6_5</th>\n",
              "      <th>...</th>\n",
              "      <th>Q44_3</th>\n",
              "      <th>Q44_4</th>\n",
              "      <th>Q44_5</th>\n",
              "      <th>Q44_6</th>\n",
              "      <th>Q44_7</th>\n",
              "      <th>Q44_8</th>\n",
              "      <th>Q44_9</th>\n",
              "      <th>Q44_10</th>\n",
              "      <th>Q44_11</th>\n",
              "      <th>Q44_12</th>\n",
              "    </tr>\n",
              "  </thead>\n",
              "  <tbody>\n",
              "    <tr>\n",
              "      <th>0</th>\n",
              "      <td>462</td>\n",
              "      <td>30-34</td>\n",
              "      <td>Man</td>\n",
              "      <td>Algeria</td>\n",
              "      <td>No</td>\n",
              "      <td>NaN</td>\n",
              "      <td>NaN</td>\n",
              "      <td>NaN</td>\n",
              "      <td>NaN</td>\n",
              "      <td>NaN</td>\n",
              "      <td>...</td>\n",
              "      <td>NaN</td>\n",
              "      <td>NaN</td>\n",
              "      <td>NaN</td>\n",
              "      <td>NaN</td>\n",
              "      <td>NaN</td>\n",
              "      <td>NaN</td>\n",
              "      <td>NaN</td>\n",
              "      <td>NaN</td>\n",
              "      <td>NaN</td>\n",
              "      <td>NaN</td>\n",
              "    </tr>\n",
              "    <tr>\n",
              "      <th>1</th>\n",
              "      <td>212</td>\n",
              "      <td>18-21</td>\n",
              "      <td>Woman</td>\n",
              "      <td>Algeria</td>\n",
              "      <td>Yes</td>\n",
              "      <td>NaN</td>\n",
              "      <td>NaN</td>\n",
              "      <td>NaN</td>\n",
              "      <td>NaN</td>\n",
              "      <td>NaN</td>\n",
              "      <td>...</td>\n",
              "      <td>NaN</td>\n",
              "      <td>NaN</td>\n",
              "      <td>NaN</td>\n",
              "      <td>NaN</td>\n",
              "      <td>NaN</td>\n",
              "      <td>NaN</td>\n",
              "      <td>NaN</td>\n",
              "      <td>NaN</td>\n",
              "      <td>NaN</td>\n",
              "      <td>NaN</td>\n",
              "    </tr>\n",
              "    <tr>\n",
              "      <th>2</th>\n",
              "      <td>561</td>\n",
              "      <td>45-49</td>\n",
              "      <td>Man</td>\n",
              "      <td>Algeria</td>\n",
              "      <td>Yes</td>\n",
              "      <td>Coursera</td>\n",
              "      <td>NaN</td>\n",
              "      <td>NaN</td>\n",
              "      <td>NaN</td>\n",
              "      <td>NaN</td>\n",
              "      <td>...</td>\n",
              "      <td>NaN</td>\n",
              "      <td>NaN</td>\n",
              "      <td>NaN</td>\n",
              "      <td>NaN</td>\n",
              "      <td>NaN</td>\n",
              "      <td>NaN</td>\n",
              "      <td>NaN</td>\n",
              "      <td>NaN</td>\n",
              "      <td>NaN</td>\n",
              "      <td>NaN</td>\n",
              "    </tr>\n",
              "    <tr>\n",
              "      <th>3</th>\n",
              "      <td>426</td>\n",
              "      <td>25-29</td>\n",
              "      <td>Woman</td>\n",
              "      <td>Algeria</td>\n",
              "      <td>Yes</td>\n",
              "      <td>Coursera</td>\n",
              "      <td>NaN</td>\n",
              "      <td>NaN</td>\n",
              "      <td>NaN</td>\n",
              "      <td>NaN</td>\n",
              "      <td>...</td>\n",
              "      <td>Reddit (r/machinelearning, etc)</td>\n",
              "      <td>NaN</td>\n",
              "      <td>Course Forums (forums.fast.ai, Coursera forums...</td>\n",
              "      <td>YouTube (Kaggle YouTube, Cloud AI Adventures, ...</td>\n",
              "      <td>NaN</td>\n",
              "      <td>NaN</td>\n",
              "      <td>Journal Publications (peer-reviewed journals, ...</td>\n",
              "      <td>NaN</td>\n",
              "      <td>NaN</td>\n",
              "      <td>NaN</td>\n",
              "    </tr>\n",
              "    <tr>\n",
              "      <th>4</th>\n",
              "      <td>499</td>\n",
              "      <td>25-29</td>\n",
              "      <td>Man</td>\n",
              "      <td>Algeria</td>\n",
              "      <td>Yes</td>\n",
              "      <td>NaN</td>\n",
              "      <td>NaN</td>\n",
              "      <td>Kaggle Learn Courses</td>\n",
              "      <td>NaN</td>\n",
              "      <td>NaN</td>\n",
              "      <td>...</td>\n",
              "      <td>NaN</td>\n",
              "      <td>Kaggle (notebooks, forums, etc)</td>\n",
              "      <td>NaN</td>\n",
              "      <td>YouTube (Kaggle YouTube, Cloud AI Adventures, ...</td>\n",
              "      <td>NaN</td>\n",
              "      <td>NaN</td>\n",
              "      <td>NaN</td>\n",
              "      <td>NaN</td>\n",
              "      <td>NaN</td>\n",
              "      <td>NaN</td>\n",
              "    </tr>\n",
              "  </tbody>\n",
              "</table>\n",
              "<p>5 rows × 127 columns</p>\n",
              "</div>\n",
              "      <button class=\"colab-df-convert\" onclick=\"convertToInteractive('df-18e923c1-9b0d-4f56-876f-55e79e2c2239')\"\n",
              "              title=\"Convert this dataframe to an interactive table.\"\n",
              "              style=\"display:none;\">\n",
              "        \n",
              "  <svg xmlns=\"http://www.w3.org/2000/svg\" height=\"24px\"viewBox=\"0 0 24 24\"\n",
              "       width=\"24px\">\n",
              "    <path d=\"M0 0h24v24H0V0z\" fill=\"none\"/>\n",
              "    <path d=\"M18.56 5.44l.94 2.06.94-2.06 2.06-.94-2.06-.94-.94-2.06-.94 2.06-2.06.94zm-11 1L8.5 8.5l.94-2.06 2.06-.94-2.06-.94L8.5 2.5l-.94 2.06-2.06.94zm10 10l.94 2.06.94-2.06 2.06-.94-2.06-.94-.94-2.06-.94 2.06-2.06.94z\"/><path d=\"M17.41 7.96l-1.37-1.37c-.4-.4-.92-.59-1.43-.59-.52 0-1.04.2-1.43.59L10.3 9.45l-7.72 7.72c-.78.78-.78 2.05 0 2.83L4 21.41c.39.39.9.59 1.41.59.51 0 1.02-.2 1.41-.59l7.78-7.78 2.81-2.81c.8-.78.8-2.07 0-2.86zM5.41 20L4 18.59l7.72-7.72 1.47 1.35L5.41 20z\"/>\n",
              "  </svg>\n",
              "      </button>\n",
              "      \n",
              "  <style>\n",
              "    .colab-df-container {\n",
              "      display:flex;\n",
              "      flex-wrap:wrap;\n",
              "      gap: 12px;\n",
              "    }\n",
              "\n",
              "    .colab-df-convert {\n",
              "      background-color: #E8F0FE;\n",
              "      border: none;\n",
              "      border-radius: 50%;\n",
              "      cursor: pointer;\n",
              "      display: none;\n",
              "      fill: #1967D2;\n",
              "      height: 32px;\n",
              "      padding: 0 0 0 0;\n",
              "      width: 32px;\n",
              "    }\n",
              "\n",
              "    .colab-df-convert:hover {\n",
              "      background-color: #E2EBFA;\n",
              "      box-shadow: 0px 1px 2px rgba(60, 64, 67, 0.3), 0px 1px 3px 1px rgba(60, 64, 67, 0.15);\n",
              "      fill: #174EA6;\n",
              "    }\n",
              "\n",
              "    [theme=dark] .colab-df-convert {\n",
              "      background-color: #3B4455;\n",
              "      fill: #D2E3FC;\n",
              "    }\n",
              "\n",
              "    [theme=dark] .colab-df-convert:hover {\n",
              "      background-color: #434B5C;\n",
              "      box-shadow: 0px 1px 3px 1px rgba(0, 0, 0, 0.15);\n",
              "      filter: drop-shadow(0px 1px 2px rgba(0, 0, 0, 0.3));\n",
              "      fill: #FFFFFF;\n",
              "    }\n",
              "  </style>\n",
              "\n",
              "      <script>\n",
              "        const buttonEl =\n",
              "          document.querySelector('#df-18e923c1-9b0d-4f56-876f-55e79e2c2239 button.colab-df-convert');\n",
              "        buttonEl.style.display =\n",
              "          google.colab.kernel.accessAllowed ? 'block' : 'none';\n",
              "\n",
              "        async function convertToInteractive(key) {\n",
              "          const element = document.querySelector('#df-18e923c1-9b0d-4f56-876f-55e79e2c2239');\n",
              "          const dataTable =\n",
              "            await google.colab.kernel.invokeFunction('convertToInteractive',\n",
              "                                                     [key], {});\n",
              "          if (!dataTable) return;\n",
              "\n",
              "          const docLinkHtml = 'Like what you see? Visit the ' +\n",
              "            '<a target=\"_blank\" href=https://colab.research.google.com/notebooks/data_table.ipynb>data table notebook</a>'\n",
              "            + ' to learn more about interactive tables.';\n",
              "          element.innerHTML = '';\n",
              "          dataTable['output_type'] = 'display_data';\n",
              "          await google.colab.output.renderOutput(dataTable, element);\n",
              "          const docLink = document.createElement('div');\n",
              "          docLink.innerHTML = docLinkHtml;\n",
              "          element.appendChild(docLink);\n",
              "        }\n",
              "      </script>\n",
              "    </div>\n",
              "  </div>\n",
              "  "
            ]
          },
          "metadata": {},
          "execution_count": 199
        }
      ]
    },
    {
      "cell_type": "code",
      "source": [
        "#Do not need columns\n",
        "employment_df =employment_df.drop(['Q9', 'Q16', 'Q27'], axis=1)"
      ],
      "metadata": {
        "id": "7nfqzUlJxAX5"
      },
      "execution_count": null,
      "outputs": []
    },
    {
      "cell_type": "code",
      "source": [
        "#Rename questions resulting in a single column such as Age and Gender\n",
        "employment_df = employment_df.rename(columns= {'Q12_14':'No Language', 'Q12_1': 'Python', 'Q12_2':'R', 'Q12_3':'SQL', 'Q2': 'Age', 'Q3': 'Gender', 'Q4':'Country', 'Q5':'Currently In school?', 'Q8': 'Highest Education Level', 'Q11':'Years Writing Code', 'Q23':'Job Title', 'Q24': 'Industry', 'Q29':'Salary'})"
      ],
      "metadata": {
        "id": "NYTV3BgAxG9c"
      },
      "execution_count": null,
      "outputs": []
    },
    {
      "cell_type": "code",
      "source": [],
      "metadata": {
        "id": "RluZ6tLz50kL"
      },
      "execution_count": null,
      "outputs": []
    },
    {
      "cell_type": "markdown",
      "source": [
        "## New DF- Top 2 Job Titles For Us"
      ],
      "metadata": {
        "id": "9j53UnJcxabR"
      }
    },
    {
      "cell_type": "code",
      "source": [
        "#Find most likely job titles for us and filter new DF\n",
        "percentages_titles= ((employment_df['Job Title'].value_counts()/10631)*100).round(2)\n",
        "percentages_titles"
      ],
      "metadata": {
        "colab": {
          "base_uri": "https://localhost:8080/"
        },
        "id": "KFZUEJbn4P-D",
        "outputId": "9bb66b50-cfb3-4c58-9089-5f7b6e5d4e72"
      },
      "execution_count": null,
      "outputs": [
        {
          "output_type": "execute_result",
          "data": {
            "text/plain": [
              "Data Scientist                                                                                             18.15\n",
              "Data Analyst (Business, Marketing, Financial, Quantitative, etc)                                           14.47\n",
              "Currently not employed                                                                                     13.47\n",
              "Software Engineer                                                                                           9.22\n",
              "Teacher / professor                                                                                         7.84\n",
              "Manager (Program, Project, Operations, Executive-level, etc)                                                7.83\n",
              "Other                                                                                                       7.09\n",
              "Research Scientist                                                                                          5.58\n",
              "Machine Learning/ MLops Engineer                                                                            5.37\n",
              "Engineer (non-software)                                                                                     4.37\n",
              "Data Engineer                                                                                               3.31\n",
              "Statistician                                                                                                1.18\n",
              "Data Architect                                                                                              0.89\n",
              "Data Administrator                                                                                          0.66\n",
              "Developer Advocate                                                                                          0.57\n",
              "Select the title most similar to your current role (or most recent title if retired): - Selected Choice     0.01\n",
              "Name: Job Title, dtype: float64"
            ]
          },
          "metadata": {},
          "execution_count": 202
        }
      ]
    },
    {
      "cell_type": "code",
      "source": [
        "percentages_titles[0]+percentages_titles[1]"
      ],
      "metadata": {
        "colab": {
          "base_uri": "https://localhost:8080/"
        },
        "id": "h4ZMmVqP6k1D",
        "outputId": "23902d23-7b79-4e88-b642-81fa2d6289f1"
      },
      "execution_count": null,
      "outputs": [
        {
          "output_type": "execute_result",
          "data": {
            "text/plain": [
              "32.62"
            ]
          },
          "metadata": {},
          "execution_count": 203
        }
      ]
    },
    {
      "cell_type": "code",
      "source": [
        "#Group by the two job titles we are in the market for \n",
        "grouped = employment_df.groupby(['Job Title'])\n",
        "\n",
        "for group in grouped:\n",
        "  print(group)"
      ],
      "metadata": {
        "id": "LmQlnQ-1xjTS",
        "colab": {
          "base_uri": "https://localhost:8080/"
        },
        "outputId": "8cc57b3b-e8f7-4ae5-91d5-563150515d48"
      },
      "execution_count": null,
      "outputs": [
        {
          "output_type": "stream",
          "name": "stdout",
          "text": [
            "('Currently not employed',       Duration (in seconds)    Age Gender    Country Currently In school?  \\\n",
            "25                     3780  35-39  Woman    Algeria                   No   \n",
            "32                      447  22-24    Man    Algeria                   No   \n",
            "131                     214    70+    Man  Argentina                   No   \n",
            "139                    8573  35-39  Woman  Argentina                   No   \n",
            "145                     163  30-34    Man  Argentina                   No   \n",
            "...                     ...    ...    ...        ...                  ...   \n",
            "23929                   155  30-34    Man   Viet Nam                   No   \n",
            "23945                   428  25-29  Woman   Zimbabwe                   No   \n",
            "23949                   666  25-29    Man   Zimbabwe                   No   \n",
            "23955                   261  35-39    Man   Zimbabwe                   No   \n",
            "23995                   399  25-29    Man   Zimbabwe                   No   \n",
            "\n",
            "           Q6_1 Q6_2                  Q6_3      Q6_4 Q6_5  ...  \\\n",
            "25          NaN  NaN                   NaN       NaN  NaN  ...   \n",
            "32          NaN  NaN                   NaN       NaN  NaN  ...   \n",
            "131    Coursera  NaN                   NaN  DataCamp  NaN  ...   \n",
            "139    Coursera  edX  Kaggle Learn Courses  DataCamp  NaN  ...   \n",
            "145         NaN  NaN                   NaN       NaN  NaN  ...   \n",
            "...         ...  ...                   ...       ...  ...  ...   \n",
            "23929  Coursera  NaN                   NaN       NaN  NaN  ...   \n",
            "23945  Coursera  NaN                   NaN  DataCamp  NaN  ...   \n",
            "23949       NaN  NaN                   NaN       NaN  NaN  ...   \n",
            "23955  Coursera  NaN  Kaggle Learn Courses       NaN  NaN  ...   \n",
            "23995  Coursera  NaN                   NaN       NaN  NaN  ...   \n",
            "\n",
            "                                 Q44_3                            Q44_4  \\\n",
            "25                                 NaN  Kaggle (notebooks, forums, etc)   \n",
            "32                                 NaN                              NaN   \n",
            "131                                NaN                              NaN   \n",
            "139                                NaN  Kaggle (notebooks, forums, etc)   \n",
            "145                                NaN                              NaN   \n",
            "...                                ...                              ...   \n",
            "23929  Reddit (r/machinelearning, etc)  Kaggle (notebooks, forums, etc)   \n",
            "23945                              NaN                              NaN   \n",
            "23949                              NaN                              NaN   \n",
            "23955  Reddit (r/machinelearning, etc)  Kaggle (notebooks, forums, etc)   \n",
            "23995                              NaN                              NaN   \n",
            "\n",
            "                                                   Q44_5  \\\n",
            "25                                                   NaN   \n",
            "32                                                   NaN   \n",
            "131                                                  NaN   \n",
            "139                                                  NaN   \n",
            "145                                                  NaN   \n",
            "...                                                  ...   \n",
            "23929  Course Forums (forums.fast.ai, Coursera forums...   \n",
            "23945  Course Forums (forums.fast.ai, Coursera forums...   \n",
            "23949                                                NaN   \n",
            "23955  Course Forums (forums.fast.ai, Coursera forums...   \n",
            "23995                                                NaN   \n",
            "\n",
            "                                                   Q44_6  \\\n",
            "25     YouTube (Kaggle YouTube, Cloud AI Adventures, ...   \n",
            "32                                                   NaN   \n",
            "131    YouTube (Kaggle YouTube, Cloud AI Adventures, ...   \n",
            "139    YouTube (Kaggle YouTube, Cloud AI Adventures, ...   \n",
            "145    YouTube (Kaggle YouTube, Cloud AI Adventures, ...   \n",
            "...                                                  ...   \n",
            "23929  YouTube (Kaggle YouTube, Cloud AI Adventures, ...   \n",
            "23945  YouTube (Kaggle YouTube, Cloud AI Adventures, ...   \n",
            "23949                                                NaN   \n",
            "23955  YouTube (Kaggle YouTube, Cloud AI Adventures, ...   \n",
            "23995                                                NaN   \n",
            "\n",
            "                                                   Q44_7  \\\n",
            "25                                                   NaN   \n",
            "32                                                   NaN   \n",
            "131                                                  NaN   \n",
            "139                                                  NaN   \n",
            "145                                                  NaN   \n",
            "...                                                  ...   \n",
            "23929  Podcasts (Chai Time Data Science, O’Reilly Dat...   \n",
            "23945  Podcasts (Chai Time Data Science, O’Reilly Dat...   \n",
            "23949                                                NaN   \n",
            "23955                                                NaN   \n",
            "23995                                                NaN   \n",
            "\n",
            "                                                   Q44_8  \\\n",
            "25                                                   NaN   \n",
            "32                                                   NaN   \n",
            "131    Blogs (Towards Data Science, Analytics Vidhya,...   \n",
            "139    Blogs (Towards Data Science, Analytics Vidhya,...   \n",
            "145                                                  NaN   \n",
            "...                                                  ...   \n",
            "23929  Blogs (Towards Data Science, Analytics Vidhya,...   \n",
            "23945  Blogs (Towards Data Science, Analytics Vidhya,...   \n",
            "23949                                                NaN   \n",
            "23955                                                NaN   \n",
            "23995                                                NaN   \n",
            "\n",
            "                                                   Q44_9  \\\n",
            "25                                                   NaN   \n",
            "32                                                   NaN   \n",
            "131                                                  NaN   \n",
            "139                                                  NaN   \n",
            "145                                                  NaN   \n",
            "...                                                  ...   \n",
            "23929  Journal Publications (peer-reviewed journals, ...   \n",
            "23945  Journal Publications (peer-reviewed journals, ...   \n",
            "23949                                                NaN   \n",
            "23955                                                NaN   \n",
            "23995                                                NaN   \n",
            "\n",
            "                                             Q44_10 Q44_11 Q44_12  \n",
            "25                                              NaN    NaN    NaN  \n",
            "32                                              NaN   None    NaN  \n",
            "131                                             NaN    NaN    NaN  \n",
            "139    Slack Communities (ods.ai, kagglenoobs, etc)    NaN    NaN  \n",
            "145                                             NaN    NaN    NaN  \n",
            "...                                             ...    ...    ...  \n",
            "23929                                           NaN    NaN    NaN  \n",
            "23945                                           NaN    NaN    NaN  \n",
            "23949                                           NaN   None    NaN  \n",
            "23955                                           NaN    NaN    NaN  \n",
            "23995                                           NaN    NaN    NaN  \n",
            "\n",
            "[1432 rows x 124 columns])\n",
            "('Data Administrator',       Duration (in seconds)    Age Gender                   Country  \\\n",
            "88                     1129  40-44    Man                 Argentina   \n",
            "108                     804  55-59    Man                 Argentina   \n",
            "187                     231  40-44    Man                 Argentina   \n",
            "243                     843  40-44  Woman                 Argentina   \n",
            "436                   21779  35-39    Man                Bangladesh   \n",
            "...                     ...    ...    ...                       ...   \n",
            "22046                   605  45-49    Man  United States of America   \n",
            "22917                   251  25-29    Man  United States of America   \n",
            "23010                   290  30-34  Woman  United States of America   \n",
            "23145                   161  25-29  Woman  United States of America   \n",
            "23629                   625  40-44    Man  United States of America   \n",
            "\n",
            "      Currently In school?      Q6_1 Q6_2                  Q6_3      Q6_4  \\\n",
            "88                      No       NaN  NaN                   NaN  DataCamp   \n",
            "108                     No  Coursera  NaN  Kaggle Learn Courses       NaN   \n",
            "187                     No       NaN  NaN                   NaN       NaN   \n",
            "243                     No       NaN  NaN                   NaN       NaN   \n",
            "436                     No       NaN  NaN                   NaN       NaN   \n",
            "...                    ...       ...  ...                   ...       ...   \n",
            "22046                   No       NaN  NaN                   NaN       NaN   \n",
            "22917                   No  Coursera  edX  Kaggle Learn Courses       NaN   \n",
            "23010                   No  Coursera  NaN                   NaN       NaN   \n",
            "23145                   No  Coursera  NaN                   NaN       NaN   \n",
            "23629                   No  Coursera  NaN  Kaggle Learn Courses       NaN   \n",
            "\n",
            "      Q6_5  ...                            Q44_3  \\\n",
            "88     NaN  ...                              NaN   \n",
            "108    NaN  ...                              NaN   \n",
            "187    NaN  ...  Reddit (r/machinelearning, etc)   \n",
            "243    NaN  ...                              NaN   \n",
            "436    NaN  ...                              NaN   \n",
            "...    ...  ...                              ...   \n",
            "22046  NaN  ...  Reddit (r/machinelearning, etc)   \n",
            "22917  NaN  ...  Reddit (r/machinelearning, etc)   \n",
            "23010  NaN  ...                              NaN   \n",
            "23145  NaN  ...                              NaN   \n",
            "23629  NaN  ...                              NaN   \n",
            "\n",
            "                                 Q44_4 Q44_5  \\\n",
            "88     Kaggle (notebooks, forums, etc)   NaN   \n",
            "108    Kaggle (notebooks, forums, etc)   NaN   \n",
            "187    Kaggle (notebooks, forums, etc)   NaN   \n",
            "243                                NaN   NaN   \n",
            "436    Kaggle (notebooks, forums, etc)   NaN   \n",
            "...                                ...   ...   \n",
            "22046  Kaggle (notebooks, forums, etc)   NaN   \n",
            "22917                              NaN   NaN   \n",
            "23010  Kaggle (notebooks, forums, etc)   NaN   \n",
            "23145                              NaN   NaN   \n",
            "23629  Kaggle (notebooks, forums, etc)   NaN   \n",
            "\n",
            "                                                   Q44_6  \\\n",
            "88                                                   NaN   \n",
            "108                                                  NaN   \n",
            "187    YouTube (Kaggle YouTube, Cloud AI Adventures, ...   \n",
            "243    YouTube (Kaggle YouTube, Cloud AI Adventures, ...   \n",
            "436    YouTube (Kaggle YouTube, Cloud AI Adventures, ...   \n",
            "...                                                  ...   \n",
            "22046  YouTube (Kaggle YouTube, Cloud AI Adventures, ...   \n",
            "22917  YouTube (Kaggle YouTube, Cloud AI Adventures, ...   \n",
            "23010                                                NaN   \n",
            "23145                                                NaN   \n",
            "23629                                                NaN   \n",
            "\n",
            "                                                   Q44_7  \\\n",
            "88     Podcasts (Chai Time Data Science, O’Reilly Dat...   \n",
            "108                                                  NaN   \n",
            "187                                                  NaN   \n",
            "243                                                  NaN   \n",
            "436                                                  NaN   \n",
            "...                                                  ...   \n",
            "22046                                                NaN   \n",
            "22917                                                NaN   \n",
            "23010                                                NaN   \n",
            "23145                                                NaN   \n",
            "23629                                                NaN   \n",
            "\n",
            "                                                   Q44_8  \\\n",
            "88     Blogs (Towards Data Science, Analytics Vidhya,...   \n",
            "108                                                  NaN   \n",
            "187                                                  NaN   \n",
            "243    Blogs (Towards Data Science, Analytics Vidhya,...   \n",
            "436                                                  NaN   \n",
            "...                                                  ...   \n",
            "22046  Blogs (Towards Data Science, Analytics Vidhya,...   \n",
            "22917                                                NaN   \n",
            "23010                                                NaN   \n",
            "23145                                                NaN   \n",
            "23629                                                NaN   \n",
            "\n",
            "                                                   Q44_9 Q44_10 Q44_11 Q44_12  \n",
            "88     Journal Publications (peer-reviewed journals, ...    NaN    NaN    NaN  \n",
            "108                                                  NaN    NaN    NaN    NaN  \n",
            "187                                                  NaN    NaN    NaN    NaN  \n",
            "243                                                  NaN    NaN    NaN    NaN  \n",
            "436                                                  NaN    NaN    NaN    NaN  \n",
            "...                                                  ...    ...    ...    ...  \n",
            "22046  Journal Publications (peer-reviewed journals, ...    NaN    NaN    NaN  \n",
            "22917                                                NaN    NaN    NaN    NaN  \n",
            "23010                                                NaN    NaN    NaN    NaN  \n",
            "23145                                                NaN    NaN    NaN    NaN  \n",
            "23629                                                NaN    NaN    NaN    NaN  \n",
            "\n",
            "[70 rows x 124 columns])\n",
            "('Data Analyst (Business, Marketing, Financial, Quantitative, etc)',       Duration (in seconds)    Age Gender    Country Currently In school?  \\\n",
            "9                       509  55-59    Man    Algeria                   No   \n",
            "42                      898  25-29    Man    Algeria                   No   \n",
            "84                      469  40-44    Man  Argentina                   No   \n",
            "120                     257  35-39    Man  Argentina                   No   \n",
            "132                    1323  45-49    Man  Argentina                   No   \n",
            "...                     ...    ...    ...        ...                  ...   \n",
            "23972                  1257  35-39    Man   Zimbabwe                   No   \n",
            "23977                   760  40-44    Man   Zimbabwe                   No   \n",
            "23982                   818  25-29  Woman   Zimbabwe                   No   \n",
            "23984                   777  25-29    Man   Zimbabwe                   No   \n",
            "23988                   905  40-44    Man   Zimbabwe                   No   \n",
            "\n",
            "           Q6_1 Q6_2                  Q6_3 Q6_4     Q6_5  ...  \\\n",
            "9      Coursera  NaN                   NaN  NaN      NaN  ...   \n",
            "42     Coursera  NaN  Kaggle Learn Courses  NaN      NaN  ...   \n",
            "84          NaN  NaN                   NaN  NaN      NaN  ...   \n",
            "120         NaN  NaN                   NaN  NaN      NaN  ...   \n",
            "132         NaN  NaN                   NaN  NaN      NaN  ...   \n",
            "...         ...  ...                   ...  ...      ...  ...   \n",
            "23972  Coursera  NaN  Kaggle Learn Courses  NaN      NaN  ...   \n",
            "23977       NaN  NaN                   NaN  NaN      NaN  ...   \n",
            "23982       NaN  NaN                   NaN  NaN  Fast.ai  ...   \n",
            "23984       NaN  NaN                   NaN  NaN      NaN  ...   \n",
            "23988       NaN  NaN                   NaN  NaN      NaN  ...   \n",
            "\n",
            "                                 Q44_3                            Q44_4  \\\n",
            "9                                  NaN                              NaN   \n",
            "42                                 NaN  Kaggle (notebooks, forums, etc)   \n",
            "84                                 NaN  Kaggle (notebooks, forums, etc)   \n",
            "120                                NaN  Kaggle (notebooks, forums, etc)   \n",
            "132    Reddit (r/machinelearning, etc)                              NaN   \n",
            "...                                ...                              ...   \n",
            "23972                              NaN  Kaggle (notebooks, forums, etc)   \n",
            "23977  Reddit (r/machinelearning, etc)  Kaggle (notebooks, forums, etc)   \n",
            "23982                              NaN                              NaN   \n",
            "23984                              NaN                              NaN   \n",
            "23988                              NaN                              NaN   \n",
            "\n",
            "                                                   Q44_5  \\\n",
            "9      Course Forums (forums.fast.ai, Coursera forums...   \n",
            "42                                                   NaN   \n",
            "84                                                   NaN   \n",
            "120                                                  NaN   \n",
            "132    Course Forums (forums.fast.ai, Coursera forums...   \n",
            "...                                                  ...   \n",
            "23972  Course Forums (forums.fast.ai, Coursera forums...   \n",
            "23977                                                NaN   \n",
            "23982                                                NaN   \n",
            "23984                                                NaN   \n",
            "23988                                                NaN   \n",
            "\n",
            "                                                   Q44_6  \\\n",
            "9      YouTube (Kaggle YouTube, Cloud AI Adventures, ...   \n",
            "42                                                   NaN   \n",
            "84     YouTube (Kaggle YouTube, Cloud AI Adventures, ...   \n",
            "120                                                  NaN   \n",
            "132                                                  NaN   \n",
            "...                                                  ...   \n",
            "23972  YouTube (Kaggle YouTube, Cloud AI Adventures, ...   \n",
            "23977                                                NaN   \n",
            "23982                                                NaN   \n",
            "23984  YouTube (Kaggle YouTube, Cloud AI Adventures, ...   \n",
            "23988  YouTube (Kaggle YouTube, Cloud AI Adventures, ...   \n",
            "\n",
            "                                                   Q44_7  \\\n",
            "9                                                    NaN   \n",
            "42                                                   NaN   \n",
            "84                                                   NaN   \n",
            "120                                                  NaN   \n",
            "132    Podcasts (Chai Time Data Science, O’Reilly Dat...   \n",
            "...                                                  ...   \n",
            "23972                                                NaN   \n",
            "23977  Podcasts (Chai Time Data Science, O’Reilly Dat...   \n",
            "23982                                                NaN   \n",
            "23984                                                NaN   \n",
            "23988                                                NaN   \n",
            "\n",
            "                                                   Q44_8  \\\n",
            "9                                                    NaN   \n",
            "42                                                   NaN   \n",
            "84                                                   NaN   \n",
            "120                                                  NaN   \n",
            "132    Blogs (Towards Data Science, Analytics Vidhya,...   \n",
            "...                                                  ...   \n",
            "23972  Blogs (Towards Data Science, Analytics Vidhya,...   \n",
            "23977  Blogs (Towards Data Science, Analytics Vidhya,...   \n",
            "23982                                                NaN   \n",
            "23984                                                NaN   \n",
            "23988                                                NaN   \n",
            "\n",
            "                                                   Q44_9 Q44_10 Q44_11 Q44_12  \n",
            "9                                                    NaN    NaN    NaN    NaN  \n",
            "42                                                   NaN    NaN    NaN    NaN  \n",
            "84                                                   NaN    NaN    NaN    NaN  \n",
            "120                                                  NaN    NaN    NaN    NaN  \n",
            "132    Journal Publications (peer-reviewed journals, ...    NaN    NaN    NaN  \n",
            "...                                                  ...    ...    ...    ...  \n",
            "23972                                                NaN    NaN    NaN    NaN  \n",
            "23977                                                NaN    NaN    NaN    NaN  \n",
            "23982                                                NaN    NaN    NaN    NaN  \n",
            "23984                                                NaN    NaN    NaN    NaN  \n",
            "23988                                                NaN    NaN    NaN    NaN  \n",
            "\n",
            "[1538 rows x 124 columns])\n",
            "('Data Architect',       Duration (in seconds)    Age     Gender                   Country  \\\n",
            "578                     645  40-44        Man                Bangladesh   \n",
            "692                     698  50-54        Man                   Belgium   \n",
            "759                     464  55-59        Man                    Brazil   \n",
            "777                     380  35-39        Man                    Brazil   \n",
            "812                     927  55-59        Man                    Brazil   \n",
            "...                     ...    ...        ...                       ...   \n",
            "23434                  9359  30-34  Nonbinary  United States of America   \n",
            "23453                   701  55-59        Man  United States of America   \n",
            "23689                   446  45-49        Man  United States of America   \n",
            "23697                   751  30-34        Man  United States of America   \n",
            "23729                   540  40-44        Man  United States of America   \n",
            "\n",
            "      Currently In school?      Q6_1 Q6_2                  Q6_3      Q6_4  \\\n",
            "578                     No       NaN  NaN  Kaggle Learn Courses       NaN   \n",
            "692                     No       NaN  NaN                   NaN       NaN   \n",
            "759                     No       NaN  NaN                   NaN       NaN   \n",
            "777                     No  Coursera  NaN                   NaN       NaN   \n",
            "812                     No  Coursera  edX                   NaN       NaN   \n",
            "...                    ...       ...  ...                   ...       ...   \n",
            "23434                   No       NaN  NaN  Kaggle Learn Courses  DataCamp   \n",
            "23453                   No       NaN  NaN                   NaN       NaN   \n",
            "23689                   No       NaN  NaN  Kaggle Learn Courses       NaN   \n",
            "23697                   No       NaN  NaN  Kaggle Learn Courses       NaN   \n",
            "23729                   No       NaN  NaN  Kaggle Learn Courses  DataCamp   \n",
            "\n",
            "      Q6_5  ... Q44_3                            Q44_4  \\\n",
            "578    NaN  ...   NaN  Kaggle (notebooks, forums, etc)   \n",
            "692    NaN  ...   NaN  Kaggle (notebooks, forums, etc)   \n",
            "759    NaN  ...   NaN                              NaN   \n",
            "777    NaN  ...   NaN                              NaN   \n",
            "812    NaN  ...   NaN                              NaN   \n",
            "...    ...  ...   ...                              ...   \n",
            "23434  NaN  ...   NaN                              NaN   \n",
            "23453  NaN  ...   NaN                              NaN   \n",
            "23689  NaN  ...   NaN  Kaggle (notebooks, forums, etc)   \n",
            "23697  NaN  ...   NaN                              NaN   \n",
            "23729  NaN  ...   NaN  Kaggle (notebooks, forums, etc)   \n",
            "\n",
            "                                                   Q44_5  \\\n",
            "578                                                  NaN   \n",
            "692                                                  NaN   \n",
            "759                                                  NaN   \n",
            "777                                                  NaN   \n",
            "812                                                  NaN   \n",
            "...                                                  ...   \n",
            "23434                                                NaN   \n",
            "23453                                                NaN   \n",
            "23689  Course Forums (forums.fast.ai, Coursera forums...   \n",
            "23697  Course Forums (forums.fast.ai, Coursera forums...   \n",
            "23729                                                NaN   \n",
            "\n",
            "                                                   Q44_6  \\\n",
            "578                                                  NaN   \n",
            "692    YouTube (Kaggle YouTube, Cloud AI Adventures, ...   \n",
            "759                                                  NaN   \n",
            "777                                                  NaN   \n",
            "812                                                  NaN   \n",
            "...                                                  ...   \n",
            "23434                                                NaN   \n",
            "23453  YouTube (Kaggle YouTube, Cloud AI Adventures, ...   \n",
            "23689  YouTube (Kaggle YouTube, Cloud AI Adventures, ...   \n",
            "23697  YouTube (Kaggle YouTube, Cloud AI Adventures, ...   \n",
            "23729  YouTube (Kaggle YouTube, Cloud AI Adventures, ...   \n",
            "\n",
            "                                                   Q44_7  \\\n",
            "578                                                  NaN   \n",
            "692                                                  NaN   \n",
            "759                                                  NaN   \n",
            "777    Podcasts (Chai Time Data Science, O’Reilly Dat...   \n",
            "812                                                  NaN   \n",
            "...                                                  ...   \n",
            "23434                                                NaN   \n",
            "23453                                                NaN   \n",
            "23689  Podcasts (Chai Time Data Science, O’Reilly Dat...   \n",
            "23697                                                NaN   \n",
            "23729                                                NaN   \n",
            "\n",
            "                                                   Q44_8  \\\n",
            "578                                                  NaN   \n",
            "692                                                  NaN   \n",
            "759                                                  NaN   \n",
            "777                                                  NaN   \n",
            "812                                                  NaN   \n",
            "...                                                  ...   \n",
            "23434                                                NaN   \n",
            "23453  Blogs (Towards Data Science, Analytics Vidhya,...   \n",
            "23689  Blogs (Towards Data Science, Analytics Vidhya,...   \n",
            "23697  Blogs (Towards Data Science, Analytics Vidhya,...   \n",
            "23729  Blogs (Towards Data Science, Analytics Vidhya,...   \n",
            "\n",
            "                                                   Q44_9  \\\n",
            "578                                                  NaN   \n",
            "692                                                  NaN   \n",
            "759                                                  NaN   \n",
            "777                                                  NaN   \n",
            "812                                                  NaN   \n",
            "...                                                  ...   \n",
            "23434                                                NaN   \n",
            "23453  Journal Publications (peer-reviewed journals, ...   \n",
            "23689                                                NaN   \n",
            "23697                                                NaN   \n",
            "23729                                                NaN   \n",
            "\n",
            "                                             Q44_10 Q44_11 Q44_12  \n",
            "578                                             NaN    NaN    NaN  \n",
            "692    Slack Communities (ods.ai, kagglenoobs, etc)    NaN    NaN  \n",
            "759                                             NaN    NaN  Other  \n",
            "777                                             NaN    NaN    NaN  \n",
            "812                                             NaN    NaN    NaN  \n",
            "...                                             ...    ...    ...  \n",
            "23434                                           NaN    NaN    NaN  \n",
            "23453                                           NaN    NaN    NaN  \n",
            "23689                                           NaN    NaN    NaN  \n",
            "23697                                           NaN    NaN    NaN  \n",
            "23729                                           NaN    NaN    NaN  \n",
            "\n",
            "[95 rows x 124 columns])\n",
            "('Data Engineer',       Duration (in seconds)    Age Gender                   Country  \\\n",
            "123                     344  35-39    Man                 Argentina   \n",
            "127                     320  35-39    Man                 Argentina   \n",
            "192                    1273  55-59  Woman                 Argentina   \n",
            "274                     660  45-49    Man                 Australia   \n",
            "304                     310  30-34    Man                 Australia   \n",
            "...                     ...    ...    ...                       ...   \n",
            "23708                   608  25-29    Man  United States of America   \n",
            "23761                   694  22-24    Man                  Viet Nam   \n",
            "23772                  3023  45-49    Man                  Viet Nam   \n",
            "23786                   394  22-24    Man                  Viet Nam   \n",
            "23844                   459  30-34    Man                  Viet Nam   \n",
            "\n",
            "      Currently In school?      Q6_1 Q6_2                  Q6_3      Q6_4  \\\n",
            "123                     No  Coursera  NaN  Kaggle Learn Courses       NaN   \n",
            "127                     No       NaN  NaN  Kaggle Learn Courses       NaN   \n",
            "192                     No       NaN  NaN                   NaN       NaN   \n",
            "274                     No       NaN  NaN  Kaggle Learn Courses  DataCamp   \n",
            "304                     No  Coursera  NaN                   NaN       NaN   \n",
            "...                    ...       ...  ...                   ...       ...   \n",
            "23708                   No       NaN  NaN                   NaN       NaN   \n",
            "23761                   No       NaN  NaN                   NaN       NaN   \n",
            "23772                   No  Coursera  edX  Kaggle Learn Courses       NaN   \n",
            "23786                   No       NaN  NaN                   NaN       NaN   \n",
            "23844                   No  Coursera  NaN                   NaN  DataCamp   \n",
            "\n",
            "          Q6_5  ...                            Q44_3  \\\n",
            "123        NaN  ...                              NaN   \n",
            "127        NaN  ...                              NaN   \n",
            "192        NaN  ...                              NaN   \n",
            "274        NaN  ...                              NaN   \n",
            "304        NaN  ...                              NaN   \n",
            "...        ...  ...                              ...   \n",
            "23708      NaN  ...                              NaN   \n",
            "23761      NaN  ...  Reddit (r/machinelearning, etc)   \n",
            "23772      NaN  ...                              NaN   \n",
            "23786  Fast.ai  ...                              NaN   \n",
            "23844      NaN  ...                              NaN   \n",
            "\n",
            "                                 Q44_4  \\\n",
            "123    Kaggle (notebooks, forums, etc)   \n",
            "127                                NaN   \n",
            "192    Kaggle (notebooks, forums, etc)   \n",
            "274    Kaggle (notebooks, forums, etc)   \n",
            "304                                NaN   \n",
            "...                                ...   \n",
            "23708                              NaN   \n",
            "23761  Kaggle (notebooks, forums, etc)   \n",
            "23772  Kaggle (notebooks, forums, etc)   \n",
            "23786                              NaN   \n",
            "23844  Kaggle (notebooks, forums, etc)   \n",
            "\n",
            "                                                   Q44_5  \\\n",
            "123    Course Forums (forums.fast.ai, Coursera forums...   \n",
            "127                                                  NaN   \n",
            "192                                                  NaN   \n",
            "274                                                  NaN   \n",
            "304                                                  NaN   \n",
            "...                                                  ...   \n",
            "23708                                                NaN   \n",
            "23761                                                NaN   \n",
            "23772  Course Forums (forums.fast.ai, Coursera forums...   \n",
            "23786                                                NaN   \n",
            "23844  Course Forums (forums.fast.ai, Coursera forums...   \n",
            "\n",
            "                                                   Q44_6  \\\n",
            "123                                                  NaN   \n",
            "127    YouTube (Kaggle YouTube, Cloud AI Adventures, ...   \n",
            "192                                                  NaN   \n",
            "274    YouTube (Kaggle YouTube, Cloud AI Adventures, ...   \n",
            "304                                                  NaN   \n",
            "...                                                  ...   \n",
            "23708  YouTube (Kaggle YouTube, Cloud AI Adventures, ...   \n",
            "23761  YouTube (Kaggle YouTube, Cloud AI Adventures, ...   \n",
            "23772  YouTube (Kaggle YouTube, Cloud AI Adventures, ...   \n",
            "23786                                                NaN   \n",
            "23844                                                NaN   \n",
            "\n",
            "                                                   Q44_7  \\\n",
            "123                                                  NaN   \n",
            "127                                                  NaN   \n",
            "192                                                  NaN   \n",
            "274                                                  NaN   \n",
            "304                                                  NaN   \n",
            "...                                                  ...   \n",
            "23708  Podcasts (Chai Time Data Science, O’Reilly Dat...   \n",
            "23761                                                NaN   \n",
            "23772                                                NaN   \n",
            "23786                                                NaN   \n",
            "23844                                                NaN   \n",
            "\n",
            "                                                   Q44_8 Q44_9 Q44_10 Q44_11  \\\n",
            "123                                                  NaN   NaN    NaN    NaN   \n",
            "127    Blogs (Towards Data Science, Analytics Vidhya,...   NaN    NaN    NaN   \n",
            "192                                                  NaN   NaN    NaN    NaN   \n",
            "274                                                  NaN   NaN    NaN    NaN   \n",
            "304                                                  NaN   NaN    NaN    NaN   \n",
            "...                                                  ...   ...    ...    ...   \n",
            "23708                                                NaN   NaN    NaN    NaN   \n",
            "23761                                                NaN   NaN    NaN    NaN   \n",
            "23772  Blogs (Towards Data Science, Analytics Vidhya,...   NaN    NaN    NaN   \n",
            "23786                                                NaN   NaN    NaN    NaN   \n",
            "23844                                                NaN   NaN    NaN    NaN   \n",
            "\n",
            "      Q44_12  \n",
            "123      NaN  \n",
            "127      NaN  \n",
            "192    Other  \n",
            "274      NaN  \n",
            "304      NaN  \n",
            "...      ...  \n",
            "23708    NaN  \n",
            "23761    NaN  \n",
            "23772    NaN  \n",
            "23786    NaN  \n",
            "23844    NaN  \n",
            "\n",
            "[352 rows x 124 columns])\n",
            "('Data Scientist',       Duration (in seconds)    Age Gender    Country Currently In school?  \\\n",
            "40                      466  22-24    Man    Algeria                   No   \n",
            "74                      563  50-54    Man  Argentina                   No   \n",
            "76                      549  40-44  Woman  Argentina                   No   \n",
            "95                    36397  40-44  Woman  Argentina                   No   \n",
            "100                     349  30-34    Man  Argentina                   No   \n",
            "...                     ...    ...    ...        ...                  ...   \n",
            "23871                  1182  35-39    Man   Viet Nam                   No   \n",
            "23892                   813  35-39    Man   Viet Nam                   No   \n",
            "23893                604345  25-29    Man   Viet Nam                   No   \n",
            "23986                  2009  30-34    Man   Zimbabwe                   No   \n",
            "23996                   540  25-29  Woman   Zimbabwe                   No   \n",
            "\n",
            "           Q6_1 Q6_2                  Q6_3      Q6_4 Q6_5  ...  \\\n",
            "40          NaN  NaN                   NaN       NaN  NaN  ...   \n",
            "74     Coursera  NaN  Kaggle Learn Courses       NaN  NaN  ...   \n",
            "76          NaN  NaN                   NaN       NaN  NaN  ...   \n",
            "95     Coursera  NaN                   NaN  DataCamp  NaN  ...   \n",
            "100         NaN  NaN                   NaN       NaN  NaN  ...   \n",
            "...         ...  ...                   ...       ...  ...  ...   \n",
            "23871       NaN  NaN  Kaggle Learn Courses  DataCamp  NaN  ...   \n",
            "23892  Coursera  NaN  Kaggle Learn Courses       NaN  NaN  ...   \n",
            "23893  Coursera  NaN  Kaggle Learn Courses  DataCamp  NaN  ...   \n",
            "23986       NaN  NaN                   NaN       NaN  NaN  ...   \n",
            "23996       NaN  edX                   NaN       NaN  NaN  ...   \n",
            "\n",
            "                                 Q44_3                            Q44_4  \\\n",
            "40     Reddit (r/machinelearning, etc)  Kaggle (notebooks, forums, etc)   \n",
            "74                                 NaN  Kaggle (notebooks, forums, etc)   \n",
            "76                                 NaN  Kaggle (notebooks, forums, etc)   \n",
            "95                                 NaN                              NaN   \n",
            "100                                NaN                              NaN   \n",
            "...                                ...                              ...   \n",
            "23871                              NaN  Kaggle (notebooks, forums, etc)   \n",
            "23892                              NaN  Kaggle (notebooks, forums, etc)   \n",
            "23893                              NaN  Kaggle (notebooks, forums, etc)   \n",
            "23986  Reddit (r/machinelearning, etc)  Kaggle (notebooks, forums, etc)   \n",
            "23996                              NaN                              NaN   \n",
            "\n",
            "                                                   Q44_5  \\\n",
            "40                                                   NaN   \n",
            "74     Course Forums (forums.fast.ai, Coursera forums...   \n",
            "76                                                   NaN   \n",
            "95                                                   NaN   \n",
            "100                                                  NaN   \n",
            "...                                                  ...   \n",
            "23871  Course Forums (forums.fast.ai, Coursera forums...   \n",
            "23892  Course Forums (forums.fast.ai, Coursera forums...   \n",
            "23893  Course Forums (forums.fast.ai, Coursera forums...   \n",
            "23986                                                NaN   \n",
            "23996                                                NaN   \n",
            "\n",
            "                                                   Q44_6 Q44_7  \\\n",
            "40     YouTube (Kaggle YouTube, Cloud AI Adventures, ...   NaN   \n",
            "74     YouTube (Kaggle YouTube, Cloud AI Adventures, ...   NaN   \n",
            "76                                                   NaN   NaN   \n",
            "95                                                   NaN   NaN   \n",
            "100    YouTube (Kaggle YouTube, Cloud AI Adventures, ...   NaN   \n",
            "...                                                  ...   ...   \n",
            "23871  YouTube (Kaggle YouTube, Cloud AI Adventures, ...   NaN   \n",
            "23892                                                NaN   NaN   \n",
            "23893                                                NaN   NaN   \n",
            "23986  YouTube (Kaggle YouTube, Cloud AI Adventures, ...   NaN   \n",
            "23996                                                NaN   NaN   \n",
            "\n",
            "                                                   Q44_8  \\\n",
            "40     Blogs (Towards Data Science, Analytics Vidhya,...   \n",
            "74     Blogs (Towards Data Science, Analytics Vidhya,...   \n",
            "76                                                   NaN   \n",
            "95     Blogs (Towards Data Science, Analytics Vidhya,...   \n",
            "100                                                  NaN   \n",
            "...                                                  ...   \n",
            "23871  Blogs (Towards Data Science, Analytics Vidhya,...   \n",
            "23892                                                NaN   \n",
            "23893                                                NaN   \n",
            "23986  Blogs (Towards Data Science, Analytics Vidhya,...   \n",
            "23996                                                NaN   \n",
            "\n",
            "                                                   Q44_9  \\\n",
            "40                                                   NaN   \n",
            "74     Journal Publications (peer-reviewed journals, ...   \n",
            "76                                                   NaN   \n",
            "95                                                   NaN   \n",
            "100                                                  NaN   \n",
            "...                                                  ...   \n",
            "23871                                                NaN   \n",
            "23892                                                NaN   \n",
            "23893                                                NaN   \n",
            "23986                                                NaN   \n",
            "23996                                                NaN   \n",
            "\n",
            "                                             Q44_10 Q44_11 Q44_12  \n",
            "40                                              NaN    NaN    NaN  \n",
            "74     Slack Communities (ods.ai, kagglenoobs, etc)    NaN    NaN  \n",
            "76                                              NaN    NaN    NaN  \n",
            "95                                              NaN    NaN    NaN  \n",
            "100                                             NaN    NaN    NaN  \n",
            "...                                             ...    ...    ...  \n",
            "23871                                           NaN    NaN    NaN  \n",
            "23892                                           NaN    NaN    NaN  \n",
            "23893                                           NaN    NaN  Other  \n",
            "23986                                           NaN    NaN    NaN  \n",
            "23996                                           NaN   None    NaN  \n",
            "\n",
            "[1929 rows x 124 columns])\n",
            "('Developer Advocate',       Duration (in seconds)    Age                   Gender  \\\n",
            "185                     713  40-44                      Man   \n",
            "299                     415  35-39                      Man   \n",
            "959                     265  50-54                      Man   \n",
            "1643                    370  50-54                    Woman   \n",
            "1674                    494  35-39                    Woman   \n",
            "...                     ...    ...                      ...   \n",
            "23318                   569  45-49                      Man   \n",
            "23523                   486  35-39                      Man   \n",
            "23578                   919  25-29  Prefer to self-describe   \n",
            "23632                   302  55-59                      Man   \n",
            "23963                   599  22-24                    Woman   \n",
            "\n",
            "                        Country Currently In school?      Q6_1 Q6_2  \\\n",
            "185                   Argentina                   No  Coursera  edX   \n",
            "299                   Australia                   No       NaN  NaN   \n",
            "959                      Brazil                   No       NaN  NaN   \n",
            "1643                     Canada                   No       NaN  NaN   \n",
            "1674                     Canada                   No       NaN  NaN   \n",
            "...                         ...                  ...       ...  ...   \n",
            "23318  United States of America                   No       NaN  NaN   \n",
            "23523  United States of America                   No       NaN  NaN   \n",
            "23578  United States of America                   No       NaN  NaN   \n",
            "23632  United States of America                   No       NaN  NaN   \n",
            "23963                  Zimbabwe                   No  Coursera  NaN   \n",
            "\n",
            "                       Q6_3      Q6_4     Q6_5  ...  \\\n",
            "185                     NaN  DataCamp      NaN  ...   \n",
            "299                     NaN       NaN      NaN  ...   \n",
            "959                     NaN       NaN      NaN  ...   \n",
            "1643                    NaN       NaN      NaN  ...   \n",
            "1674                    NaN       NaN      NaN  ...   \n",
            "...                     ...       ...      ...  ...   \n",
            "23318                   NaN       NaN      NaN  ...   \n",
            "23523                   NaN       NaN  Fast.ai  ...   \n",
            "23578  Kaggle Learn Courses       NaN      NaN  ...   \n",
            "23632                   NaN       NaN      NaN  ...   \n",
            "23963                   NaN  DataCamp      NaN  ...   \n",
            "\n",
            "                                 Q44_3                            Q44_4  \\\n",
            "185                                NaN                              NaN   \n",
            "299    Reddit (r/machinelearning, etc)                              NaN   \n",
            "959                                NaN                              NaN   \n",
            "1643   Reddit (r/machinelearning, etc)  Kaggle (notebooks, forums, etc)   \n",
            "1674                               NaN  Kaggle (notebooks, forums, etc)   \n",
            "...                                ...                              ...   \n",
            "23318  Reddit (r/machinelearning, etc)                              NaN   \n",
            "23523                              NaN                              NaN   \n",
            "23578  Reddit (r/machinelearning, etc)  Kaggle (notebooks, forums, etc)   \n",
            "23632                              NaN                              NaN   \n",
            "23963                              NaN                              NaN   \n",
            "\n",
            "                                                   Q44_5  \\\n",
            "185                                                  NaN   \n",
            "299                                                  NaN   \n",
            "959    Course Forums (forums.fast.ai, Coursera forums...   \n",
            "1643   Course Forums (forums.fast.ai, Coursera forums...   \n",
            "1674   Course Forums (forums.fast.ai, Coursera forums...   \n",
            "...                                                  ...   \n",
            "23318  Course Forums (forums.fast.ai, Coursera forums...   \n",
            "23523                                                NaN   \n",
            "23578  Course Forums (forums.fast.ai, Coursera forums...   \n",
            "23632  Course Forums (forums.fast.ai, Coursera forums...   \n",
            "23963                                                NaN   \n",
            "\n",
            "                                                   Q44_6  \\\n",
            "185                                                  NaN   \n",
            "299    YouTube (Kaggle YouTube, Cloud AI Adventures, ...   \n",
            "959    YouTube (Kaggle YouTube, Cloud AI Adventures, ...   \n",
            "1643                                                 NaN   \n",
            "1674   YouTube (Kaggle YouTube, Cloud AI Adventures, ...   \n",
            "...                                                  ...   \n",
            "23318                                                NaN   \n",
            "23523                                                NaN   \n",
            "23578  YouTube (Kaggle YouTube, Cloud AI Adventures, ...   \n",
            "23632                                                NaN   \n",
            "23963  YouTube (Kaggle YouTube, Cloud AI Adventures, ...   \n",
            "\n",
            "                                                   Q44_7  \\\n",
            "185                                                  NaN   \n",
            "299                                                  NaN   \n",
            "959                                                  NaN   \n",
            "1643   Podcasts (Chai Time Data Science, O’Reilly Dat...   \n",
            "1674                                                 NaN   \n",
            "...                                                  ...   \n",
            "23318                                                NaN   \n",
            "23523                                                NaN   \n",
            "23578  Podcasts (Chai Time Data Science, O’Reilly Dat...   \n",
            "23632                                                NaN   \n",
            "23963                                                NaN   \n",
            "\n",
            "                                                   Q44_8  \\\n",
            "185                                                  NaN   \n",
            "299    Blogs (Towards Data Science, Analytics Vidhya,...   \n",
            "959                                                  NaN   \n",
            "1643                                                 NaN   \n",
            "1674   Blogs (Towards Data Science, Analytics Vidhya,...   \n",
            "...                                                  ...   \n",
            "23318                                                NaN   \n",
            "23523  Blogs (Towards Data Science, Analytics Vidhya,...   \n",
            "23578  Blogs (Towards Data Science, Analytics Vidhya,...   \n",
            "23632  Blogs (Towards Data Science, Analytics Vidhya,...   \n",
            "23963                                                NaN   \n",
            "\n",
            "                                                   Q44_9  \\\n",
            "185                                                  NaN   \n",
            "299                                                  NaN   \n",
            "959                                                  NaN   \n",
            "1643                                                 NaN   \n",
            "1674                                                 NaN   \n",
            "...                                                  ...   \n",
            "23318                                                NaN   \n",
            "23523                                                NaN   \n",
            "23578  Journal Publications (peer-reviewed journals, ...   \n",
            "23632  Journal Publications (peer-reviewed journals, ...   \n",
            "23963                                                NaN   \n",
            "\n",
            "                                             Q44_10 Q44_11 Q44_12  \n",
            "185                                             NaN    NaN    NaN  \n",
            "299                                             NaN    NaN    NaN  \n",
            "959                                             NaN    NaN    NaN  \n",
            "1643                                            NaN    NaN    NaN  \n",
            "1674                                            NaN    NaN    NaN  \n",
            "...                                             ...    ...    ...  \n",
            "23318                                           NaN    NaN    NaN  \n",
            "23523                                           NaN    NaN    NaN  \n",
            "23578  Slack Communities (ods.ai, kagglenoobs, etc)    NaN  Other  \n",
            "23632                                           NaN    NaN    NaN  \n",
            "23963  Slack Communities (ods.ai, kagglenoobs, etc)    NaN    NaN  \n",
            "\n",
            "[61 rows x 124 columns])\n",
            "('Engineer (non-software)',       Duration (in seconds)    Age Gender     Country Currently In school?  \\\n",
            "116                     595  30-34    Man   Argentina                   No   \n",
            "148                     601  40-44    Man   Argentina                   No   \n",
            "156                    1286  45-49    Man   Argentina                   No   \n",
            "201                     664  50-54    Man   Argentina                   No   \n",
            "450                     983  25-29    Man  Bangladesh                   No   \n",
            "...                     ...    ...    ...         ...                  ...   \n",
            "23900                   417  25-29    Man    Viet Nam                   No   \n",
            "23909                   286  35-39  Woman    Viet Nam                   No   \n",
            "23924                   375  22-24    Man    Viet Nam                   No   \n",
            "23953                   465  35-39    Man    Zimbabwe                   No   \n",
            "23962                   355  30-34    Man    Zimbabwe                   No   \n",
            "\n",
            "           Q6_1 Q6_2                  Q6_3      Q6_4 Q6_5  ... Q44_3  \\\n",
            "116    Coursera  NaN                   NaN  DataCamp  NaN  ...   NaN   \n",
            "148         NaN  NaN                   NaN       NaN  NaN  ...   NaN   \n",
            "156    Coursera  NaN                   NaN       NaN  NaN  ...   NaN   \n",
            "201         NaN  NaN  Kaggle Learn Courses       NaN  NaN  ...   NaN   \n",
            "450         NaN  NaN                   NaN       NaN  NaN  ...   NaN   \n",
            "...         ...  ...                   ...       ...  ...  ...   ...   \n",
            "23900  Coursera  NaN                   NaN       NaN  NaN  ...   NaN   \n",
            "23909       NaN  NaN                   NaN       NaN  NaN  ...   NaN   \n",
            "23924       NaN  NaN                   NaN  DataCamp  NaN  ...   NaN   \n",
            "23953       NaN  NaN  Kaggle Learn Courses  DataCamp  NaN  ...   NaN   \n",
            "23962       NaN  edX  Kaggle Learn Courses  DataCamp  NaN  ...   NaN   \n",
            "\n",
            "                                 Q44_4  \\\n",
            "116    Kaggle (notebooks, forums, etc)   \n",
            "148                                NaN   \n",
            "156                                NaN   \n",
            "201                                NaN   \n",
            "450                                NaN   \n",
            "...                                ...   \n",
            "23900  Kaggle (notebooks, forums, etc)   \n",
            "23909                              NaN   \n",
            "23924  Kaggle (notebooks, forums, etc)   \n",
            "23953  Kaggle (notebooks, forums, etc)   \n",
            "23962  Kaggle (notebooks, forums, etc)   \n",
            "\n",
            "                                                   Q44_5  \\\n",
            "116    Course Forums (forums.fast.ai, Coursera forums...   \n",
            "148                                                  NaN   \n",
            "156                                                  NaN   \n",
            "201                                                  NaN   \n",
            "450                                                  NaN   \n",
            "...                                                  ...   \n",
            "23900  Course Forums (forums.fast.ai, Coursera forums...   \n",
            "23909                                                NaN   \n",
            "23924                                                NaN   \n",
            "23953                                                NaN   \n",
            "23962                                                NaN   \n",
            "\n",
            "                                                   Q44_6  \\\n",
            "116                                                  NaN   \n",
            "148    YouTube (Kaggle YouTube, Cloud AI Adventures, ...   \n",
            "156    YouTube (Kaggle YouTube, Cloud AI Adventures, ...   \n",
            "201    YouTube (Kaggle YouTube, Cloud AI Adventures, ...   \n",
            "450                                                  NaN   \n",
            "...                                                  ...   \n",
            "23900                                                NaN   \n",
            "23909  YouTube (Kaggle YouTube, Cloud AI Adventures, ...   \n",
            "23924                                                NaN   \n",
            "23953  YouTube (Kaggle YouTube, Cloud AI Adventures, ...   \n",
            "23962                                                NaN   \n",
            "\n",
            "                                                   Q44_7  \\\n",
            "116                                                  NaN   \n",
            "148                                                  NaN   \n",
            "156                                                  NaN   \n",
            "201                                                  NaN   \n",
            "450                                                  NaN   \n",
            "...                                                  ...   \n",
            "23900                                                NaN   \n",
            "23909                                                NaN   \n",
            "23924  Podcasts (Chai Time Data Science, O’Reilly Dat...   \n",
            "23953                                                NaN   \n",
            "23962                                                NaN   \n",
            "\n",
            "                                                   Q44_8  \\\n",
            "116                                                  NaN   \n",
            "148                                                  NaN   \n",
            "156                                                  NaN   \n",
            "201    Blogs (Towards Data Science, Analytics Vidhya,...   \n",
            "450                                                  NaN   \n",
            "...                                                  ...   \n",
            "23900  Blogs (Towards Data Science, Analytics Vidhya,...   \n",
            "23909                                                NaN   \n",
            "23924                                                NaN   \n",
            "23953                                                NaN   \n",
            "23962                                                NaN   \n",
            "\n",
            "                                                   Q44_9 Q44_10 Q44_11 Q44_12  \n",
            "116                                                  NaN    NaN    NaN    NaN  \n",
            "148                                                  NaN    NaN    NaN    NaN  \n",
            "156                                                  NaN    NaN    NaN    NaN  \n",
            "201    Journal Publications (peer-reviewed journals, ...    NaN    NaN    NaN  \n",
            "450                                                  NaN    NaN   None    NaN  \n",
            "...                                                  ...    ...    ...    ...  \n",
            "23900                                                NaN    NaN    NaN    NaN  \n",
            "23909                                                NaN    NaN    NaN    NaN  \n",
            "23924                                                NaN    NaN    NaN    NaN  \n",
            "23953                                                NaN    NaN    NaN    NaN  \n",
            "23962                                                NaN    NaN    NaN    NaN  \n",
            "\n",
            "[465 rows x 124 columns])\n",
            "('Machine Learning/ MLops Engineer',       Duration (in seconds)    Age Gender    Country Currently In school?  \\\n",
            "130                    4364  35-39    Man  Argentina                   No   \n",
            "196                     378  18-21    Man  Argentina                   No   \n",
            "221                     732  40-44    Man  Argentina                   No   \n",
            "244                    1249  55-59    Man  Argentina                   No   \n",
            "265                    6098  40-44    Man  Argentina                   No   \n",
            "...                     ...    ...    ...        ...                  ...   \n",
            "23779                   443  25-29    Man   Viet Nam                   No   \n",
            "23867                   673  30-34    Man   Viet Nam                   No   \n",
            "23891                  1087  30-34    Man   Viet Nam                   No   \n",
            "23903                   686  30-34    Man   Viet Nam                   No   \n",
            "23934                   436  22-24    Man   Viet Nam                   No   \n",
            "\n",
            "           Q6_1 Q6_2                  Q6_3      Q6_4     Q6_5  ...  \\\n",
            "130    Coursera  NaN  Kaggle Learn Courses  DataCamp      NaN  ...   \n",
            "196         NaN  NaN  Kaggle Learn Courses       NaN  Fast.ai  ...   \n",
            "221    Coursera  NaN                   NaN       NaN      NaN  ...   \n",
            "244    Coursera  NaN                   NaN       NaN      NaN  ...   \n",
            "265    Coursera  NaN                   NaN       NaN      NaN  ...   \n",
            "...         ...  ...                   ...       ...      ...  ...   \n",
            "23779       NaN  edX  Kaggle Learn Courses       NaN      NaN  ...   \n",
            "23867       NaN  NaN                   NaN       NaN      NaN  ...   \n",
            "23891  Coursera  NaN                   NaN       NaN      NaN  ...   \n",
            "23903  Coursera  NaN                   NaN       NaN  Fast.ai  ...   \n",
            "23934       NaN  NaN                   NaN       NaN      NaN  ...   \n",
            "\n",
            "                                 Q44_3                            Q44_4  \\\n",
            "130                                NaN                              NaN   \n",
            "196    Reddit (r/machinelearning, etc)  Kaggle (notebooks, forums, etc)   \n",
            "221                                NaN                              NaN   \n",
            "244                                NaN  Kaggle (notebooks, forums, etc)   \n",
            "265    Reddit (r/machinelearning, etc)  Kaggle (notebooks, forums, etc)   \n",
            "...                                ...                              ...   \n",
            "23779  Reddit (r/machinelearning, etc)  Kaggle (notebooks, forums, etc)   \n",
            "23867                              NaN                              NaN   \n",
            "23891  Reddit (r/machinelearning, etc)  Kaggle (notebooks, forums, etc)   \n",
            "23903                              NaN                              NaN   \n",
            "23934                              NaN                              NaN   \n",
            "\n",
            "                                                   Q44_5  \\\n",
            "130                                                  NaN   \n",
            "196                                                  NaN   \n",
            "221    Course Forums (forums.fast.ai, Coursera forums...   \n",
            "244                                                  NaN   \n",
            "265    Course Forums (forums.fast.ai, Coursera forums...   \n",
            "...                                                  ...   \n",
            "23779                                                NaN   \n",
            "23867                                                NaN   \n",
            "23891  Course Forums (forums.fast.ai, Coursera forums...   \n",
            "23903  Course Forums (forums.fast.ai, Coursera forums...   \n",
            "23934                                                NaN   \n",
            "\n",
            "                                                   Q44_6 Q44_7  \\\n",
            "130                                                  NaN   NaN   \n",
            "196    YouTube (Kaggle YouTube, Cloud AI Adventures, ...   NaN   \n",
            "221    YouTube (Kaggle YouTube, Cloud AI Adventures, ...   NaN   \n",
            "244    YouTube (Kaggle YouTube, Cloud AI Adventures, ...   NaN   \n",
            "265                                                  NaN   NaN   \n",
            "...                                                  ...   ...   \n",
            "23779  YouTube (Kaggle YouTube, Cloud AI Adventures, ...   NaN   \n",
            "23867                                                NaN   NaN   \n",
            "23891                                                NaN   NaN   \n",
            "23903  YouTube (Kaggle YouTube, Cloud AI Adventures, ...   NaN   \n",
            "23934                                                NaN   NaN   \n",
            "\n",
            "                                                   Q44_8  \\\n",
            "130                                                  NaN   \n",
            "196                                                  NaN   \n",
            "221                                                  NaN   \n",
            "244                                                  NaN   \n",
            "265                                                  NaN   \n",
            "...                                                  ...   \n",
            "23779  Blogs (Towards Data Science, Analytics Vidhya,...   \n",
            "23867  Blogs (Towards Data Science, Analytics Vidhya,...   \n",
            "23891                                                NaN   \n",
            "23903                                                NaN   \n",
            "23934                                                NaN   \n",
            "\n",
            "                                                   Q44_9  \\\n",
            "130                                                  NaN   \n",
            "196                                                  NaN   \n",
            "221    Journal Publications (peer-reviewed journals, ...   \n",
            "244                                                  NaN   \n",
            "265                                                  NaN   \n",
            "...                                                  ...   \n",
            "23779  Journal Publications (peer-reviewed journals, ...   \n",
            "23867  Journal Publications (peer-reviewed journals, ...   \n",
            "23891  Journal Publications (peer-reviewed journals, ...   \n",
            "23903                                                NaN   \n",
            "23934                                                NaN   \n",
            "\n",
            "                                             Q44_10 Q44_11 Q44_12  \n",
            "130    Slack Communities (ods.ai, kagglenoobs, etc)    NaN    NaN  \n",
            "196                                             NaN    NaN    NaN  \n",
            "221                                             NaN    NaN    NaN  \n",
            "244                                             NaN    NaN    NaN  \n",
            "265                                             NaN    NaN    NaN  \n",
            "...                                             ...    ...    ...  \n",
            "23779                                           NaN    NaN  Other  \n",
            "23867                                           NaN    NaN    NaN  \n",
            "23891                                           NaN    NaN    NaN  \n",
            "23903                                           NaN    NaN    NaN  \n",
            "23934                                           NaN    NaN    NaN  \n",
            "\n",
            "[571 rows x 124 columns])\n",
            "('Manager (Program, Project, Operations, Executive-level, etc)',       Duration (in seconds)    Age             Gender    Country  \\\n",
            "78                      825  45-49                Man  Argentina   \n",
            "103                    1253  45-49                Man  Argentina   \n",
            "110                    1220  55-59              Woman  Argentina   \n",
            "172                    1582  50-54                Man  Argentina   \n",
            "234                     302  50-54                Man  Argentina   \n",
            "...                     ...    ...                ...        ...   \n",
            "23785                   508  35-39              Woman   Viet Nam   \n",
            "23796                  3350  30-34  Prefer not to say   Viet Nam   \n",
            "23810                   656  40-44                Man   Viet Nam   \n",
            "23878                   485  25-29              Woman   Viet Nam   \n",
            "23954                   619  35-39                Man   Zimbabwe   \n",
            "\n",
            "      Currently In school?      Q6_1 Q6_2                  Q6_3      Q6_4  \\\n",
            "78                      No  Coursera  NaN                   NaN       NaN   \n",
            "103                     No  Coursera  NaN  Kaggle Learn Courses       NaN   \n",
            "110                     No       NaN  NaN  Kaggle Learn Courses       NaN   \n",
            "172                     No       NaN  NaN                   NaN       NaN   \n",
            "234                     No       NaN  NaN                   NaN       NaN   \n",
            "...                    ...       ...  ...                   ...       ...   \n",
            "23785                   No  Coursera  NaN                   NaN  DataCamp   \n",
            "23796                   No  Coursera  edX  Kaggle Learn Courses  DataCamp   \n",
            "23810                   No       NaN  NaN                   NaN       NaN   \n",
            "23878                   No       NaN  NaN                   NaN       NaN   \n",
            "23954                   No  Coursera  NaN                   NaN       NaN   \n",
            "\n",
            "      Q6_5  ... Q44_3                            Q44_4  \\\n",
            "78     NaN  ...   NaN                              NaN   \n",
            "103    NaN  ...   NaN  Kaggle (notebooks, forums, etc)   \n",
            "110    NaN  ...   NaN  Kaggle (notebooks, forums, etc)   \n",
            "172    NaN  ...   NaN                              NaN   \n",
            "234    NaN  ...   NaN  Kaggle (notebooks, forums, etc)   \n",
            "...    ...  ...   ...                              ...   \n",
            "23785  NaN  ...   NaN                              NaN   \n",
            "23796  NaN  ...   NaN                              NaN   \n",
            "23810  NaN  ...   NaN                              NaN   \n",
            "23878  NaN  ...   NaN                              NaN   \n",
            "23954  NaN  ...   NaN                              NaN   \n",
            "\n",
            "                                                   Q44_5  \\\n",
            "78                                                   NaN   \n",
            "103    Course Forums (forums.fast.ai, Coursera forums...   \n",
            "110                                                  NaN   \n",
            "172                                                  NaN   \n",
            "234                                                  NaN   \n",
            "...                                                  ...   \n",
            "23785  Course Forums (forums.fast.ai, Coursera forums...   \n",
            "23796                                                NaN   \n",
            "23810                                                NaN   \n",
            "23878                                                NaN   \n",
            "23954  Course Forums (forums.fast.ai, Coursera forums...   \n",
            "\n",
            "                                                   Q44_6  \\\n",
            "78                                                   NaN   \n",
            "103    YouTube (Kaggle YouTube, Cloud AI Adventures, ...   \n",
            "110                                                  NaN   \n",
            "172                                                  NaN   \n",
            "234    YouTube (Kaggle YouTube, Cloud AI Adventures, ...   \n",
            "...                                                  ...   \n",
            "23785                                                NaN   \n",
            "23796                                                NaN   \n",
            "23810                                                NaN   \n",
            "23878                                                NaN   \n",
            "23954                                                NaN   \n",
            "\n",
            "                                                   Q44_7  \\\n",
            "78                                                   NaN   \n",
            "103                                                  NaN   \n",
            "110                                                  NaN   \n",
            "172    Podcasts (Chai Time Data Science, O’Reilly Dat...   \n",
            "234                                                  NaN   \n",
            "...                                                  ...   \n",
            "23785                                                NaN   \n",
            "23796                                                NaN   \n",
            "23810                                                NaN   \n",
            "23878                                                NaN   \n",
            "23954                                                NaN   \n",
            "\n",
            "                                                   Q44_8 Q44_9 Q44_10 Q44_11  \\\n",
            "78                                                   NaN   NaN    NaN   None   \n",
            "103                                                  NaN   NaN    NaN    NaN   \n",
            "110                                                  NaN   NaN    NaN    NaN   \n",
            "172                                                  NaN   NaN    NaN    NaN   \n",
            "234                                                  NaN   NaN    NaN    NaN   \n",
            "...                                                  ...   ...    ...    ...   \n",
            "23785                                                NaN   NaN    NaN    NaN   \n",
            "23796                                                NaN   NaN    NaN    NaN   \n",
            "23810                                                NaN   NaN    NaN   None   \n",
            "23878                                                NaN   NaN    NaN    NaN   \n",
            "23954  Blogs (Towards Data Science, Analytics Vidhya,...   NaN    NaN    NaN   \n",
            "\n",
            "      Q44_12  \n",
            "78       NaN  \n",
            "103      NaN  \n",
            "110      NaN  \n",
            "172      NaN  \n",
            "234      NaN  \n",
            "...      ...  \n",
            "23785    NaN  \n",
            "23796    NaN  \n",
            "23810    NaN  \n",
            "23878    NaN  \n",
            "23954    NaN  \n",
            "\n",
            "[832 rows x 124 columns])\n",
            "('Other',       Duration (in seconds)    Age             Gender    Country  \\\n",
            "63                      772  60-69              Woman  Argentina   \n",
            "72                      252  40-44                Man  Argentina   \n",
            "104                     195  40-44                Man  Argentina   \n",
            "206                    7945  45-49                Man  Argentina   \n",
            "217                     624  50-54                Man  Argentina   \n",
            "...                     ...    ...                ...        ...   \n",
            "23821                   755  40-44                Man   Viet Nam   \n",
            "23876                   409  22-24                Man   Viet Nam   \n",
            "23904                   350  30-34  Prefer not to say   Viet Nam   \n",
            "23959                   400  35-39                Man   Zimbabwe   \n",
            "23993                  1206  25-29              Woman   Zimbabwe   \n",
            "\n",
            "      Currently In school?      Q6_1 Q6_2                  Q6_3      Q6_4  \\\n",
            "63                      No  Coursera  edX                   NaN       NaN   \n",
            "72                      No  Coursera  NaN                   NaN       NaN   \n",
            "104                     No       NaN  NaN                   NaN       NaN   \n",
            "206                     No       NaN  edX  Kaggle Learn Courses  DataCamp   \n",
            "217                     No  Coursera  NaN  Kaggle Learn Courses       NaN   \n",
            "...                    ...       ...  ...                   ...       ...   \n",
            "23821                   No  Coursera  NaN                   NaN       NaN   \n",
            "23876                   No       NaN  NaN                   NaN       NaN   \n",
            "23904                   No  Coursera  NaN                   NaN       NaN   \n",
            "23959                   No       NaN  NaN                   NaN       NaN   \n",
            "23993                   No  Coursera  NaN  Kaggle Learn Courses       NaN   \n",
            "\n",
            "      Q6_5  ...                            Q44_3  \\\n",
            "63     NaN  ...                              NaN   \n",
            "72     NaN  ...  Reddit (r/machinelearning, etc)   \n",
            "104    NaN  ...                              NaN   \n",
            "206    NaN  ...                              NaN   \n",
            "217    NaN  ...  Reddit (r/machinelearning, etc)   \n",
            "...    ...  ...                              ...   \n",
            "23821  NaN  ...                              NaN   \n",
            "23876  NaN  ...                              NaN   \n",
            "23904  NaN  ...                              NaN   \n",
            "23959  NaN  ...                              NaN   \n",
            "23993  NaN  ...                              NaN   \n",
            "\n",
            "                                 Q44_4  \\\n",
            "63                                 NaN   \n",
            "72     Kaggle (notebooks, forums, etc)   \n",
            "104                                NaN   \n",
            "206    Kaggle (notebooks, forums, etc)   \n",
            "217                                NaN   \n",
            "...                                ...   \n",
            "23821                              NaN   \n",
            "23876  Kaggle (notebooks, forums, etc)   \n",
            "23904                              NaN   \n",
            "23959  Kaggle (notebooks, forums, etc)   \n",
            "23993  Kaggle (notebooks, forums, etc)   \n",
            "\n",
            "                                                   Q44_5  \\\n",
            "63                                                   NaN   \n",
            "72                                                   NaN   \n",
            "104                                                  NaN   \n",
            "206                                                  NaN   \n",
            "217    Course Forums (forums.fast.ai, Coursera forums...   \n",
            "...                                                  ...   \n",
            "23821                                                NaN   \n",
            "23876                                                NaN   \n",
            "23904                                                NaN   \n",
            "23959                                                NaN   \n",
            "23993  Course Forums (forums.fast.ai, Coursera forums...   \n",
            "\n",
            "                                                   Q44_6 Q44_7  \\\n",
            "63     YouTube (Kaggle YouTube, Cloud AI Adventures, ...   NaN   \n",
            "72     YouTube (Kaggle YouTube, Cloud AI Adventures, ...   NaN   \n",
            "104    YouTube (Kaggle YouTube, Cloud AI Adventures, ...   NaN   \n",
            "206    YouTube (Kaggle YouTube, Cloud AI Adventures, ...   NaN   \n",
            "217                                                  NaN   NaN   \n",
            "...                                                  ...   ...   \n",
            "23821                                                NaN   NaN   \n",
            "23876  YouTube (Kaggle YouTube, Cloud AI Adventures, ...   NaN   \n",
            "23904                                                NaN   NaN   \n",
            "23959                                                NaN   NaN   \n",
            "23993  YouTube (Kaggle YouTube, Cloud AI Adventures, ...   NaN   \n",
            "\n",
            "                                                   Q44_8  \\\n",
            "63     Blogs (Towards Data Science, Analytics Vidhya,...   \n",
            "72                                                   NaN   \n",
            "104                                                  NaN   \n",
            "206                                                  NaN   \n",
            "217    Blogs (Towards Data Science, Analytics Vidhya,...   \n",
            "...                                                  ...   \n",
            "23821  Blogs (Towards Data Science, Analytics Vidhya,...   \n",
            "23876  Blogs (Towards Data Science, Analytics Vidhya,...   \n",
            "23904                                                NaN   \n",
            "23959                                                NaN   \n",
            "23993                                                NaN   \n",
            "\n",
            "                                                   Q44_9  \\\n",
            "63     Journal Publications (peer-reviewed journals, ...   \n",
            "72                                                   NaN   \n",
            "104                                                  NaN   \n",
            "206    Journal Publications (peer-reviewed journals, ...   \n",
            "217                                                  NaN   \n",
            "...                                                  ...   \n",
            "23821                                                NaN   \n",
            "23876                                                NaN   \n",
            "23904                                                NaN   \n",
            "23959                                                NaN   \n",
            "23993                                                NaN   \n",
            "\n",
            "                                             Q44_10 Q44_11 Q44_12  \n",
            "63                                              NaN    NaN    NaN  \n",
            "72                                              NaN    NaN    NaN  \n",
            "104                                             NaN    NaN    NaN  \n",
            "206                                             NaN    NaN    NaN  \n",
            "217                                             NaN    NaN    NaN  \n",
            "...                                             ...    ...    ...  \n",
            "23821                                           NaN    NaN    NaN  \n",
            "23876                                           NaN    NaN    NaN  \n",
            "23904                                           NaN    NaN  Other  \n",
            "23959                                           NaN    NaN    NaN  \n",
            "23993  Slack Communities (ods.ai, kagglenoobs, etc)    NaN    NaN  \n",
            "\n",
            "[754 rows x 124 columns])\n",
            "('Research Scientist',       Duration (in seconds)    Age Gender    Country Currently In school?  \\\n",
            "17                      990  30-34  Woman    Algeria                   No   \n",
            "35                      463  30-34    Man    Algeria                   No   \n",
            "51                      987  35-39    Man    Algeria                   No   \n",
            "87                      368  35-39    Man  Argentina                   No   \n",
            "121                     513  60-69    Man  Argentina                   No   \n",
            "...                     ...    ...    ...        ...                  ...   \n",
            "23809                   521  30-34    Man   Viet Nam                   No   \n",
            "23828                   632  22-24    Man   Viet Nam                   No   \n",
            "23840                   292  35-39    Man   Viet Nam                   No   \n",
            "23874                   459  25-29    Man   Viet Nam                   No   \n",
            "23879                  4032  25-29    Man   Viet Nam                   No   \n",
            "\n",
            "           Q6_1 Q6_2                  Q6_3      Q6_4     Q6_5  ...  \\\n",
            "17          NaN  NaN                   NaN       NaN      NaN  ...   \n",
            "35     Coursera  edX  Kaggle Learn Courses       NaN      NaN  ...   \n",
            "51     Coursera  NaN  Kaggle Learn Courses       NaN      NaN  ...   \n",
            "87          NaN  NaN                   NaN       NaN      NaN  ...   \n",
            "121    Coursera  edX  Kaggle Learn Courses  DataCamp      NaN  ...   \n",
            "...         ...  ...                   ...       ...      ...  ...   \n",
            "23809  Coursera  NaN  Kaggle Learn Courses       NaN  Fast.ai  ...   \n",
            "23828       NaN  NaN                   NaN       NaN      NaN  ...   \n",
            "23840  Coursera  NaN                   NaN  DataCamp      NaN  ...   \n",
            "23874  Coursera  NaN  Kaggle Learn Courses  DataCamp      NaN  ...   \n",
            "23879       NaN  NaN                   NaN       NaN      NaN  ...   \n",
            "\n",
            "                                 Q44_3                            Q44_4  \\\n",
            "17                                 NaN                              NaN   \n",
            "35                                 NaN  Kaggle (notebooks, forums, etc)   \n",
            "51                                 NaN  Kaggle (notebooks, forums, etc)   \n",
            "87                                 NaN  Kaggle (notebooks, forums, etc)   \n",
            "121                                NaN  Kaggle (notebooks, forums, etc)   \n",
            "...                                ...                              ...   \n",
            "23809                              NaN                              NaN   \n",
            "23828                              NaN                              NaN   \n",
            "23840                              NaN  Kaggle (notebooks, forums, etc)   \n",
            "23874  Reddit (r/machinelearning, etc)  Kaggle (notebooks, forums, etc)   \n",
            "23879                              NaN  Kaggle (notebooks, forums, etc)   \n",
            "\n",
            "                                                   Q44_5  \\\n",
            "17     Course Forums (forums.fast.ai, Coursera forums...   \n",
            "35                                                   NaN   \n",
            "51     Course Forums (forums.fast.ai, Coursera forums...   \n",
            "87                                                   NaN   \n",
            "121                                                  NaN   \n",
            "...                                                  ...   \n",
            "23809                                                NaN   \n",
            "23828                                                NaN   \n",
            "23840                                                NaN   \n",
            "23874                                                NaN   \n",
            "23879                                                NaN   \n",
            "\n",
            "                                                   Q44_6  \\\n",
            "17     YouTube (Kaggle YouTube, Cloud AI Adventures, ...   \n",
            "35     YouTube (Kaggle YouTube, Cloud AI Adventures, ...   \n",
            "51     YouTube (Kaggle YouTube, Cloud AI Adventures, ...   \n",
            "87                                                   NaN   \n",
            "121    YouTube (Kaggle YouTube, Cloud AI Adventures, ...   \n",
            "...                                                  ...   \n",
            "23809                                                NaN   \n",
            "23828                                                NaN   \n",
            "23840                                                NaN   \n",
            "23874                                                NaN   \n",
            "23879                                                NaN   \n",
            "\n",
            "                                                   Q44_7  \\\n",
            "17                                                   NaN   \n",
            "35                                                   NaN   \n",
            "51                                                   NaN   \n",
            "87                                                   NaN   \n",
            "121    Podcasts (Chai Time Data Science, O’Reilly Dat...   \n",
            "...                                                  ...   \n",
            "23809                                                NaN   \n",
            "23828                                                NaN   \n",
            "23840                                                NaN   \n",
            "23874                                                NaN   \n",
            "23879                                                NaN   \n",
            "\n",
            "                                                   Q44_8  \\\n",
            "17                                                   NaN   \n",
            "35                                                   NaN   \n",
            "51                                                   NaN   \n",
            "87     Blogs (Towards Data Science, Analytics Vidhya,...   \n",
            "121    Blogs (Towards Data Science, Analytics Vidhya,...   \n",
            "...                                                  ...   \n",
            "23809                                                NaN   \n",
            "23828                                                NaN   \n",
            "23840                                                NaN   \n",
            "23874                                                NaN   \n",
            "23879                                                NaN   \n",
            "\n",
            "                                                   Q44_9  \\\n",
            "17     Journal Publications (peer-reviewed journals, ...   \n",
            "35                                                   NaN   \n",
            "51     Journal Publications (peer-reviewed journals, ...   \n",
            "87     Journal Publications (peer-reviewed journals, ...   \n",
            "121                                                  NaN   \n",
            "...                                                  ...   \n",
            "23809  Journal Publications (peer-reviewed journals, ...   \n",
            "23828  Journal Publications (peer-reviewed journals, ...   \n",
            "23840                                                NaN   \n",
            "23874                                                NaN   \n",
            "23879                                                NaN   \n",
            "\n",
            "                                             Q44_10 Q44_11 Q44_12  \n",
            "17                                              NaN    NaN    NaN  \n",
            "35     Slack Communities (ods.ai, kagglenoobs, etc)    NaN    NaN  \n",
            "51                                              NaN    NaN    NaN  \n",
            "87                                              NaN    NaN    NaN  \n",
            "121                                             NaN    NaN    NaN  \n",
            "...                                             ...    ...    ...  \n",
            "23809                                           NaN    NaN    NaN  \n",
            "23828  Slack Communities (ods.ai, kagglenoobs, etc)    NaN    NaN  \n",
            "23840                                           NaN    NaN    NaN  \n",
            "23874  Slack Communities (ods.ai, kagglenoobs, etc)    NaN    NaN  \n",
            "23879  Slack Communities (ods.ai, kagglenoobs, etc)    NaN    NaN  \n",
            "\n",
            "[593 rows x 124 columns])\n",
            "('Select the title most similar to your current role (or most recent title if retired): - Selected Choice',       Duration (in seconds)                          Age  \\\n",
            "3844  Duration (in seconds)  What is your age (# years)?   \n",
            "\n",
            "                                      Gender  \\\n",
            "3844  What is your gender? - Selected Choice   \n",
            "\n",
            "                                        Country  \\\n",
            "3844  In which country do you currently reside?   \n",
            "\n",
            "                                   Currently In school?  \\\n",
            "3844  Are you currently a student? (high school, uni...   \n",
            "\n",
            "                                                   Q6_1  \\\n",
            "3844  On which platforms have you begun or completed...   \n",
            "\n",
            "                                                   Q6_2  \\\n",
            "3844  On which platforms have you begun or completed...   \n",
            "\n",
            "                                                   Q6_3  \\\n",
            "3844  On which platforms have you begun or completed...   \n",
            "\n",
            "                                                   Q6_4  \\\n",
            "3844  On which platforms have you begun or completed...   \n",
            "\n",
            "                                                   Q6_5  ...  \\\n",
            "3844  On which platforms have you begun or completed...  ...   \n",
            "\n",
            "                                                  Q44_3  \\\n",
            "3844  Who/what are your favorite media sources that ...   \n",
            "\n",
            "                                                  Q44_4  \\\n",
            "3844  Who/what are your favorite media sources that ...   \n",
            "\n",
            "                                                  Q44_5  \\\n",
            "3844  Who/what are your favorite media sources that ...   \n",
            "\n",
            "                                                  Q44_6  \\\n",
            "3844  Who/what are your favorite media sources that ...   \n",
            "\n",
            "                                                  Q44_7  \\\n",
            "3844  Who/what are your favorite media sources that ...   \n",
            "\n",
            "                                                  Q44_8  \\\n",
            "3844  Who/what are your favorite media sources that ...   \n",
            "\n",
            "                                                  Q44_9  \\\n",
            "3844  Who/what are your favorite media sources that ...   \n",
            "\n",
            "                                                 Q44_10  \\\n",
            "3844  Who/what are your favorite media sources that ...   \n",
            "\n",
            "                                                 Q44_11  \\\n",
            "3844  Who/what are your favorite media sources that ...   \n",
            "\n",
            "                                                 Q44_12  \n",
            "3844  Who/what are your favorite media sources that ...  \n",
            "\n",
            "[1 rows x 124 columns])\n",
            "('Software Engineer',       Duration (in seconds)    Age Gender                   Country  \\\n",
            "22                      765  22-24    Man                   Algeria   \n",
            "69                     1118  50-54    Man                 Argentina   \n",
            "143                     463  30-34    Man                 Argentina   \n",
            "150                     426  50-54    Man                 Argentina   \n",
            "280                     323  25-29    Man                 Australia   \n",
            "...                     ...    ...    ...                       ...   \n",
            "23681                   161  25-29    Man  United States of America   \n",
            "23721                   408    70+    Man  United States of America   \n",
            "23837                   888  30-34    Man                  Viet Nam   \n",
            "23897                   577  22-24    Man                  Viet Nam   \n",
            "23952                   332  25-29    Man                  Zimbabwe   \n",
            "\n",
            "      Currently In school?      Q6_1 Q6_2                  Q6_3      Q6_4  \\\n",
            "22                      No       NaN  NaN  Kaggle Learn Courses       NaN   \n",
            "69                      No       NaN  NaN                   NaN       NaN   \n",
            "143                     No       NaN  NaN  Kaggle Learn Courses       NaN   \n",
            "150                     No       NaN  NaN  Kaggle Learn Courses       NaN   \n",
            "280                     No       NaN  NaN  Kaggle Learn Courses  DataCamp   \n",
            "...                    ...       ...  ...                   ...       ...   \n",
            "23681                   No  Coursera  NaN  Kaggle Learn Courses       NaN   \n",
            "23721                   No  Coursera  edX  Kaggle Learn Courses       NaN   \n",
            "23837                   No  Coursera  NaN  Kaggle Learn Courses       NaN   \n",
            "23897                   No       NaN  NaN                   NaN       NaN   \n",
            "23952                   No       NaN  NaN                   NaN       NaN   \n",
            "\n",
            "          Q6_5  ...                            Q44_3  \\\n",
            "22         NaN  ...                              NaN   \n",
            "69         NaN  ...                              NaN   \n",
            "143        NaN  ...                              NaN   \n",
            "150        NaN  ...  Reddit (r/machinelearning, etc)   \n",
            "280        NaN  ...                              NaN   \n",
            "...        ...  ...                              ...   \n",
            "23681  Fast.ai  ...                              NaN   \n",
            "23721  Fast.ai  ...                              NaN   \n",
            "23837      NaN  ...                              NaN   \n",
            "23897      NaN  ...                              NaN   \n",
            "23952      NaN  ...                              NaN   \n",
            "\n",
            "                                 Q44_4  \\\n",
            "22     Kaggle (notebooks, forums, etc)   \n",
            "69     Kaggle (notebooks, forums, etc)   \n",
            "143    Kaggle (notebooks, forums, etc)   \n",
            "150                                NaN   \n",
            "280                                NaN   \n",
            "...                                ...   \n",
            "23681                              NaN   \n",
            "23721                              NaN   \n",
            "23837  Kaggle (notebooks, forums, etc)   \n",
            "23897                              NaN   \n",
            "23952                              NaN   \n",
            "\n",
            "                                                   Q44_5  \\\n",
            "22                                                   NaN   \n",
            "69                                                   NaN   \n",
            "143                                                  NaN   \n",
            "150                                                  NaN   \n",
            "280    Course Forums (forums.fast.ai, Coursera forums...   \n",
            "...                                                  ...   \n",
            "23681                                                NaN   \n",
            "23721                                                NaN   \n",
            "23837                                                NaN   \n",
            "23897                                                NaN   \n",
            "23952                                                NaN   \n",
            "\n",
            "                                                   Q44_6  \\\n",
            "22     YouTube (Kaggle YouTube, Cloud AI Adventures, ...   \n",
            "69     YouTube (Kaggle YouTube, Cloud AI Adventures, ...   \n",
            "143    YouTube (Kaggle YouTube, Cloud AI Adventures, ...   \n",
            "150    YouTube (Kaggle YouTube, Cloud AI Adventures, ...   \n",
            "280    YouTube (Kaggle YouTube, Cloud AI Adventures, ...   \n",
            "...                                                  ...   \n",
            "23681                                                NaN   \n",
            "23721  YouTube (Kaggle YouTube, Cloud AI Adventures, ...   \n",
            "23837  YouTube (Kaggle YouTube, Cloud AI Adventures, ...   \n",
            "23897                                                NaN   \n",
            "23952                                                NaN   \n",
            "\n",
            "                                                   Q44_7  \\\n",
            "22                                                   NaN   \n",
            "69                                                   NaN   \n",
            "143                                                  NaN   \n",
            "150    Podcasts (Chai Time Data Science, O’Reilly Dat...   \n",
            "280                                                  NaN   \n",
            "...                                                  ...   \n",
            "23681                                                NaN   \n",
            "23721  Podcasts (Chai Time Data Science, O’Reilly Dat...   \n",
            "23837                                                NaN   \n",
            "23897                                                NaN   \n",
            "23952                                                NaN   \n",
            "\n",
            "                                                   Q44_8  \\\n",
            "22                                                   NaN   \n",
            "69                                                   NaN   \n",
            "143    Blogs (Towards Data Science, Analytics Vidhya,...   \n",
            "150                                                  NaN   \n",
            "280    Blogs (Towards Data Science, Analytics Vidhya,...   \n",
            "...                                                  ...   \n",
            "23681                                                NaN   \n",
            "23721                                                NaN   \n",
            "23837                                                NaN   \n",
            "23897                                                NaN   \n",
            "23952                                                NaN   \n",
            "\n",
            "                                                   Q44_9  \\\n",
            "22                                                   NaN   \n",
            "69                                                   NaN   \n",
            "143                                                  NaN   \n",
            "150                                                  NaN   \n",
            "280    Journal Publications (peer-reviewed journals, ...   \n",
            "...                                                  ...   \n",
            "23681                                                NaN   \n",
            "23721                                                NaN   \n",
            "23837                                                NaN   \n",
            "23897                                                NaN   \n",
            "23952                                                NaN   \n",
            "\n",
            "                                             Q44_10 Q44_11 Q44_12  \n",
            "22                                              NaN    NaN    NaN  \n",
            "69                                              NaN    NaN    NaN  \n",
            "143                                             NaN    NaN    NaN  \n",
            "150                                             NaN    NaN    NaN  \n",
            "280                                             NaN    NaN    NaN  \n",
            "...                                             ...    ...    ...  \n",
            "23681                                           NaN    NaN    NaN  \n",
            "23721                                           NaN    NaN    NaN  \n",
            "23837                                           NaN    NaN    NaN  \n",
            "23897  Slack Communities (ods.ai, kagglenoobs, etc)    NaN    NaN  \n",
            "23952                                           NaN    NaN    NaN  \n",
            "\n",
            "[980 rows x 124 columns])\n",
            "('Statistician',       Duration (in seconds)    Age Gender                   Country  \\\n",
            "261                     371  40-44    Man                 Argentina   \n",
            "519                    1342  40-44    Man                Bangladesh   \n",
            "676                     984  50-54    Man                   Belgium   \n",
            "1369                    600  35-39    Man                    Brazil   \n",
            "1440                   1334  60-69  Woman                    Brazil   \n",
            "...                     ...    ...    ...                       ...   \n",
            "23471                   437  40-44  Woman  United States of America   \n",
            "23512                   535  40-44    Man  United States of America   \n",
            "23562                 52547  40-44    Man  United States of America   \n",
            "23637                   315  35-39    Man  United States of America   \n",
            "23713                   851  60-69    Man  United States of America   \n",
            "\n",
            "      Currently In school?      Q6_1 Q6_2                  Q6_3      Q6_4  \\\n",
            "261                     No       NaN  NaN                   NaN       NaN   \n",
            "519                     No       NaN  NaN                   NaN       NaN   \n",
            "676                     No  Coursera  NaN                   NaN       NaN   \n",
            "1369                    No  Coursera  NaN                   NaN       NaN   \n",
            "1440                    No       NaN  NaN                   NaN       NaN   \n",
            "...                    ...       ...  ...                   ...       ...   \n",
            "23471                   No  Coursera  edX                   NaN  DataCamp   \n",
            "23512                   No       NaN  edX                   NaN       NaN   \n",
            "23562                   No  Coursera  edX  Kaggle Learn Courses  DataCamp   \n",
            "23637                   No       NaN  NaN                   NaN       NaN   \n",
            "23713                   No       NaN  NaN                   NaN  DataCamp   \n",
            "\n",
            "          Q6_5  ...                            Q44_3  \\\n",
            "261        NaN  ...                              NaN   \n",
            "519        NaN  ...                              NaN   \n",
            "676    Fast.ai  ...                              NaN   \n",
            "1369       NaN  ...  Reddit (r/machinelearning, etc)   \n",
            "1440       NaN  ...  Reddit (r/machinelearning, etc)   \n",
            "...        ...  ...                              ...   \n",
            "23471      NaN  ...                              NaN   \n",
            "23512      NaN  ...                              NaN   \n",
            "23562      NaN  ...                              NaN   \n",
            "23637      NaN  ...                              NaN   \n",
            "23713      NaN  ...                              NaN   \n",
            "\n",
            "                                 Q44_4  \\\n",
            "261                                NaN   \n",
            "519    Kaggle (notebooks, forums, etc)   \n",
            "676                                NaN   \n",
            "1369                               NaN   \n",
            "1440                               NaN   \n",
            "...                                ...   \n",
            "23471  Kaggle (notebooks, forums, etc)   \n",
            "23512  Kaggle (notebooks, forums, etc)   \n",
            "23562                              NaN   \n",
            "23637                              NaN   \n",
            "23713                              NaN   \n",
            "\n",
            "                                                   Q44_5  \\\n",
            "261                                                  NaN   \n",
            "519                                                  NaN   \n",
            "676    Course Forums (forums.fast.ai, Coursera forums...   \n",
            "1369   Course Forums (forums.fast.ai, Coursera forums...   \n",
            "1440                                                 NaN   \n",
            "...                                                  ...   \n",
            "23471                                                NaN   \n",
            "23512                                                NaN   \n",
            "23562                                                NaN   \n",
            "23637  Course Forums (forums.fast.ai, Coursera forums...   \n",
            "23713                                                NaN   \n",
            "\n",
            "                                                   Q44_6  \\\n",
            "261                                                  NaN   \n",
            "519    YouTube (Kaggle YouTube, Cloud AI Adventures, ...   \n",
            "676    YouTube (Kaggle YouTube, Cloud AI Adventures, ...   \n",
            "1369                                                 NaN   \n",
            "1440   YouTube (Kaggle YouTube, Cloud AI Adventures, ...   \n",
            "...                                                  ...   \n",
            "23471                                                NaN   \n",
            "23512  YouTube (Kaggle YouTube, Cloud AI Adventures, ...   \n",
            "23562  YouTube (Kaggle YouTube, Cloud AI Adventures, ...   \n",
            "23637  YouTube (Kaggle YouTube, Cloud AI Adventures, ...   \n",
            "23713                                                NaN   \n",
            "\n",
            "                                                   Q44_7  \\\n",
            "261                                                  NaN   \n",
            "519                                                  NaN   \n",
            "676                                                  NaN   \n",
            "1369   Podcasts (Chai Time Data Science, O’Reilly Dat...   \n",
            "1440                                                 NaN   \n",
            "...                                                  ...   \n",
            "23471                                                NaN   \n",
            "23512                                                NaN   \n",
            "23562  Podcasts (Chai Time Data Science, O’Reilly Dat...   \n",
            "23637                                                NaN   \n",
            "23713                                                NaN   \n",
            "\n",
            "                                                   Q44_8  \\\n",
            "261                                                  NaN   \n",
            "519    Blogs (Towards Data Science, Analytics Vidhya,...   \n",
            "676    Blogs (Towards Data Science, Analytics Vidhya,...   \n",
            "1369                                                 NaN   \n",
            "1440   Blogs (Towards Data Science, Analytics Vidhya,...   \n",
            "...                                                  ...   \n",
            "23471                                                NaN   \n",
            "23512  Blogs (Towards Data Science, Analytics Vidhya,...   \n",
            "23562  Blogs (Towards Data Science, Analytics Vidhya,...   \n",
            "23637                                                NaN   \n",
            "23713                                                NaN   \n",
            "\n",
            "                                                   Q44_9  \\\n",
            "261                                                  NaN   \n",
            "519                                                  NaN   \n",
            "676    Journal Publications (peer-reviewed journals, ...   \n",
            "1369                                                 NaN   \n",
            "1440   Journal Publications (peer-reviewed journals, ...   \n",
            "...                                                  ...   \n",
            "23471  Journal Publications (peer-reviewed journals, ...   \n",
            "23512                                                NaN   \n",
            "23562                                                NaN   \n",
            "23637                                                NaN   \n",
            "23713                                                NaN   \n",
            "\n",
            "                                             Q44_10 Q44_11 Q44_12  \n",
            "261                                             NaN   None    NaN  \n",
            "519                                             NaN    NaN    NaN  \n",
            "676                                             NaN    NaN    NaN  \n",
            "1369   Slack Communities (ods.ai, kagglenoobs, etc)    NaN    NaN  \n",
            "1440                                            NaN    NaN    NaN  \n",
            "...                                             ...    ...    ...  \n",
            "23471                                           NaN    NaN    NaN  \n",
            "23512                                           NaN    NaN    NaN  \n",
            "23562                                           NaN    NaN    NaN  \n",
            "23637                                           NaN    NaN    NaN  \n",
            "23713                                           NaN   None    NaN  \n",
            "\n",
            "[125 rows x 124 columns])\n",
            "('Teacher / professor',       Duration (in seconds)    Age             Gender    Country  \\\n",
            "7                       852  30-34                Man    Algeria   \n",
            "44                      803  60-69                Man    Algeria   \n",
            "97                     1228  25-29                Man  Argentina   \n",
            "152                 1127712  45-49                Man  Argentina   \n",
            "159                     229  30-34                Man  Argentina   \n",
            "...                     ...    ...                ...        ...   \n",
            "23774                   387  25-29                Man   Viet Nam   \n",
            "23818                   528  35-39                Man   Viet Nam   \n",
            "23832                  3166  40-44                Man   Viet Nam   \n",
            "23881                  1260  18-21  Prefer not to say   Viet Nam   \n",
            "23899                   394  45-49                Man   Viet Nam   \n",
            "\n",
            "      Currently In school?      Q6_1 Q6_2                  Q6_3 Q6_4 Q6_5  \\\n",
            "7                       No       NaN  NaN  Kaggle Learn Courses  NaN  NaN   \n",
            "44                      No  Coursera  NaN                   NaN  NaN  NaN   \n",
            "97                      No       NaN  NaN                   NaN  NaN  NaN   \n",
            "152                     No       NaN  NaN                   NaN  NaN  NaN   \n",
            "159                     No  Coursera  NaN                   NaN  NaN  NaN   \n",
            "...                    ...       ...  ...                   ...  ...  ...   \n",
            "23774                   No       NaN  NaN                   NaN  NaN  NaN   \n",
            "23818                   No  Coursera  NaN                   NaN  NaN  NaN   \n",
            "23832                   No  Coursera  edX  Kaggle Learn Courses  NaN  NaN   \n",
            "23881                   No  Coursera  NaN  Kaggle Learn Courses  NaN  NaN   \n",
            "23899                   No       NaN  NaN                   NaN  NaN  NaN   \n",
            "\n",
            "       ...                            Q44_3                            Q44_4  \\\n",
            "7      ...  Reddit (r/machinelearning, etc)                              NaN   \n",
            "44     ...                              NaN                              NaN   \n",
            "97     ...  Reddit (r/machinelearning, etc)                              NaN   \n",
            "152    ...                              NaN  Kaggle (notebooks, forums, etc)   \n",
            "159    ...                              NaN                              NaN   \n",
            "...    ...                              ...                              ...   \n",
            "23774  ...                              NaN                              NaN   \n",
            "23818  ...                              NaN                              NaN   \n",
            "23832  ...                              NaN  Kaggle (notebooks, forums, etc)   \n",
            "23881  ...                              NaN                              NaN   \n",
            "23899  ...                              NaN                              NaN   \n",
            "\n",
            "                                                   Q44_5  \\\n",
            "7                                                    NaN   \n",
            "44     Course Forums (forums.fast.ai, Coursera forums...   \n",
            "97                                                   NaN   \n",
            "152                                                  NaN   \n",
            "159                                                  NaN   \n",
            "...                                                  ...   \n",
            "23774                                                NaN   \n",
            "23818                                                NaN   \n",
            "23832                                                NaN   \n",
            "23881  Course Forums (forums.fast.ai, Coursera forums...   \n",
            "23899                                                NaN   \n",
            "\n",
            "                                                   Q44_6  \\\n",
            "7      YouTube (Kaggle YouTube, Cloud AI Adventures, ...   \n",
            "44     YouTube (Kaggle YouTube, Cloud AI Adventures, ...   \n",
            "97     YouTube (Kaggle YouTube, Cloud AI Adventures, ...   \n",
            "152                                                  NaN   \n",
            "159    YouTube (Kaggle YouTube, Cloud AI Adventures, ...   \n",
            "...                                                  ...   \n",
            "23774  YouTube (Kaggle YouTube, Cloud AI Adventures, ...   \n",
            "23818                                                NaN   \n",
            "23832                                                NaN   \n",
            "23881  YouTube (Kaggle YouTube, Cloud AI Adventures, ...   \n",
            "23899                                                NaN   \n",
            "\n",
            "                                                   Q44_7  \\\n",
            "7      Podcasts (Chai Time Data Science, O’Reilly Dat...   \n",
            "44                                                   NaN   \n",
            "97                                                   NaN   \n",
            "152                                                  NaN   \n",
            "159    Podcasts (Chai Time Data Science, O’Reilly Dat...   \n",
            "...                                                  ...   \n",
            "23774                                                NaN   \n",
            "23818                                                NaN   \n",
            "23832                                                NaN   \n",
            "23881  Podcasts (Chai Time Data Science, O’Reilly Dat...   \n",
            "23899                                                NaN   \n",
            "\n",
            "                                                   Q44_8  \\\n",
            "7                                                    NaN   \n",
            "44                                                   NaN   \n",
            "97                                                   NaN   \n",
            "152                                                  NaN   \n",
            "159                                                  NaN   \n",
            "...                                                  ...   \n",
            "23774  Blogs (Towards Data Science, Analytics Vidhya,...   \n",
            "23818                                                NaN   \n",
            "23832                                                NaN   \n",
            "23881  Blogs (Towards Data Science, Analytics Vidhya,...   \n",
            "23899                                                NaN   \n",
            "\n",
            "                                                   Q44_9 Q44_10 Q44_11 Q44_12  \n",
            "7                                                    NaN    NaN    NaN    NaN  \n",
            "44                                                   NaN    NaN    NaN    NaN  \n",
            "97                                                   NaN    NaN    NaN    NaN  \n",
            "152    Journal Publications (peer-reviewed journals, ...    NaN    NaN    NaN  \n",
            "159                                                  NaN    NaN    NaN    NaN  \n",
            "...                                                  ...    ...    ...    ...  \n",
            "23774                                                NaN    NaN    NaN    NaN  \n",
            "23818  Journal Publications (peer-reviewed journals, ...    NaN    NaN    NaN  \n",
            "23832                                                NaN    NaN    NaN    NaN  \n",
            "23881                                                NaN    NaN    NaN    NaN  \n",
            "23899  Journal Publications (peer-reviewed journals, ...    NaN    NaN    NaN  \n",
            "\n",
            "[833 rows x 124 columns])\n"
          ]
        }
      ]
    },
    {
      "cell_type": "code",
      "source": [
        "#Make two new dataframes for each of the two jobs and merge them into our new dataframe DA_DS_df\n",
        "DS_df = grouped.get_group('Data Scientist')\n",
        "DA_df = grouped.get_group('Data Analyst (Business, Marketing, Financial, Quantitative, etc)')\n",
        "\n",
        "DA_DS_df = pd.concat([DS_df, DA_df]) \n",
        "DA_DS_df\n"
      ],
      "metadata": {
        "id": "b60qhPaxxjet",
        "outputId": "29a805fc-ce31-4ac1-8caa-bcb52883c06a",
        "colab": {
          "base_uri": "https://localhost:8080/",
          "height": 1000
        }
      },
      "execution_count": null,
      "outputs": [
        {
          "output_type": "execute_result",
          "data": {
            "text/plain": [
              "      Duration (in seconds)    Age Gender    Country Currently In school?  \\\n",
              "40                      466  22-24    Man    Algeria                   No   \n",
              "74                      563  50-54    Man  Argentina                   No   \n",
              "76                      549  40-44  Woman  Argentina                   No   \n",
              "95                    36397  40-44  Woman  Argentina                   No   \n",
              "100                     349  30-34    Man  Argentina                   No   \n",
              "...                     ...    ...    ...        ...                  ...   \n",
              "23972                  1257  35-39    Man   Zimbabwe                   No   \n",
              "23977                   760  40-44    Man   Zimbabwe                   No   \n",
              "23982                   818  25-29  Woman   Zimbabwe                   No   \n",
              "23984                   777  25-29    Man   Zimbabwe                   No   \n",
              "23988                   905  40-44    Man   Zimbabwe                   No   \n",
              "\n",
              "           Q6_1 Q6_2                  Q6_3      Q6_4     Q6_5  ...  \\\n",
              "40          NaN  NaN                   NaN       NaN      NaN  ...   \n",
              "74     Coursera  NaN  Kaggle Learn Courses       NaN      NaN  ...   \n",
              "76          NaN  NaN                   NaN       NaN      NaN  ...   \n",
              "95     Coursera  NaN                   NaN  DataCamp      NaN  ...   \n",
              "100         NaN  NaN                   NaN       NaN      NaN  ...   \n",
              "...         ...  ...                   ...       ...      ...  ...   \n",
              "23972  Coursera  NaN  Kaggle Learn Courses       NaN      NaN  ...   \n",
              "23977       NaN  NaN                   NaN       NaN      NaN  ...   \n",
              "23982       NaN  NaN                   NaN       NaN  Fast.ai  ...   \n",
              "23984       NaN  NaN                   NaN       NaN      NaN  ...   \n",
              "23988       NaN  NaN                   NaN       NaN      NaN  ...   \n",
              "\n",
              "                                 Q44_3                            Q44_4  \\\n",
              "40     Reddit (r/machinelearning, etc)  Kaggle (notebooks, forums, etc)   \n",
              "74                                 NaN  Kaggle (notebooks, forums, etc)   \n",
              "76                                 NaN  Kaggle (notebooks, forums, etc)   \n",
              "95                                 NaN                              NaN   \n",
              "100                                NaN                              NaN   \n",
              "...                                ...                              ...   \n",
              "23972                              NaN  Kaggle (notebooks, forums, etc)   \n",
              "23977  Reddit (r/machinelearning, etc)  Kaggle (notebooks, forums, etc)   \n",
              "23982                              NaN                              NaN   \n",
              "23984                              NaN                              NaN   \n",
              "23988                              NaN                              NaN   \n",
              "\n",
              "                                                   Q44_5  \\\n",
              "40                                                   NaN   \n",
              "74     Course Forums (forums.fast.ai, Coursera forums...   \n",
              "76                                                   NaN   \n",
              "95                                                   NaN   \n",
              "100                                                  NaN   \n",
              "...                                                  ...   \n",
              "23972  Course Forums (forums.fast.ai, Coursera forums...   \n",
              "23977                                                NaN   \n",
              "23982                                                NaN   \n",
              "23984                                                NaN   \n",
              "23988                                                NaN   \n",
              "\n",
              "                                                   Q44_6  \\\n",
              "40     YouTube (Kaggle YouTube, Cloud AI Adventures, ...   \n",
              "74     YouTube (Kaggle YouTube, Cloud AI Adventures, ...   \n",
              "76                                                   NaN   \n",
              "95                                                   NaN   \n",
              "100    YouTube (Kaggle YouTube, Cloud AI Adventures, ...   \n",
              "...                                                  ...   \n",
              "23972  YouTube (Kaggle YouTube, Cloud AI Adventures, ...   \n",
              "23977                                                NaN   \n",
              "23982                                                NaN   \n",
              "23984  YouTube (Kaggle YouTube, Cloud AI Adventures, ...   \n",
              "23988  YouTube (Kaggle YouTube, Cloud AI Adventures, ...   \n",
              "\n",
              "                                                   Q44_7  \\\n",
              "40                                                   NaN   \n",
              "74                                                   NaN   \n",
              "76                                                   NaN   \n",
              "95                                                   NaN   \n",
              "100                                                  NaN   \n",
              "...                                                  ...   \n",
              "23972                                                NaN   \n",
              "23977  Podcasts (Chai Time Data Science, O’Reilly Dat...   \n",
              "23982                                                NaN   \n",
              "23984                                                NaN   \n",
              "23988                                                NaN   \n",
              "\n",
              "                                                   Q44_8  \\\n",
              "40     Blogs (Towards Data Science, Analytics Vidhya,...   \n",
              "74     Blogs (Towards Data Science, Analytics Vidhya,...   \n",
              "76                                                   NaN   \n",
              "95     Blogs (Towards Data Science, Analytics Vidhya,...   \n",
              "100                                                  NaN   \n",
              "...                                                  ...   \n",
              "23972  Blogs (Towards Data Science, Analytics Vidhya,...   \n",
              "23977  Blogs (Towards Data Science, Analytics Vidhya,...   \n",
              "23982                                                NaN   \n",
              "23984                                                NaN   \n",
              "23988                                                NaN   \n",
              "\n",
              "                                                   Q44_9  \\\n",
              "40                                                   NaN   \n",
              "74     Journal Publications (peer-reviewed journals, ...   \n",
              "76                                                   NaN   \n",
              "95                                                   NaN   \n",
              "100                                                  NaN   \n",
              "...                                                  ...   \n",
              "23972                                                NaN   \n",
              "23977                                                NaN   \n",
              "23982                                                NaN   \n",
              "23984                                                NaN   \n",
              "23988                                                NaN   \n",
              "\n",
              "                                             Q44_10 Q44_11 Q44_12  \n",
              "40                                              NaN    NaN    NaN  \n",
              "74     Slack Communities (ods.ai, kagglenoobs, etc)    NaN    NaN  \n",
              "76                                              NaN    NaN    NaN  \n",
              "95                                              NaN    NaN    NaN  \n",
              "100                                             NaN    NaN    NaN  \n",
              "...                                             ...    ...    ...  \n",
              "23972                                           NaN    NaN    NaN  \n",
              "23977                                           NaN    NaN    NaN  \n",
              "23982                                           NaN    NaN    NaN  \n",
              "23984                                           NaN    NaN    NaN  \n",
              "23988                                           NaN    NaN    NaN  \n",
              "\n",
              "[3467 rows x 124 columns]"
            ],
            "text/html": [
              "\n",
              "  <div id=\"df-d75f2499-abf7-48db-a43d-730febcfd3d9\">\n",
              "    <div class=\"colab-df-container\">\n",
              "      <div>\n",
              "<style scoped>\n",
              "    .dataframe tbody tr th:only-of-type {\n",
              "        vertical-align: middle;\n",
              "    }\n",
              "\n",
              "    .dataframe tbody tr th {\n",
              "        vertical-align: top;\n",
              "    }\n",
              "\n",
              "    .dataframe thead th {\n",
              "        text-align: right;\n",
              "    }\n",
              "</style>\n",
              "<table border=\"1\" class=\"dataframe\">\n",
              "  <thead>\n",
              "    <tr style=\"text-align: right;\">\n",
              "      <th></th>\n",
              "      <th>Duration (in seconds)</th>\n",
              "      <th>Age</th>\n",
              "      <th>Gender</th>\n",
              "      <th>Country</th>\n",
              "      <th>Currently In school?</th>\n",
              "      <th>Q6_1</th>\n",
              "      <th>Q6_2</th>\n",
              "      <th>Q6_3</th>\n",
              "      <th>Q6_4</th>\n",
              "      <th>Q6_5</th>\n",
              "      <th>...</th>\n",
              "      <th>Q44_3</th>\n",
              "      <th>Q44_4</th>\n",
              "      <th>Q44_5</th>\n",
              "      <th>Q44_6</th>\n",
              "      <th>Q44_7</th>\n",
              "      <th>Q44_8</th>\n",
              "      <th>Q44_9</th>\n",
              "      <th>Q44_10</th>\n",
              "      <th>Q44_11</th>\n",
              "      <th>Q44_12</th>\n",
              "    </tr>\n",
              "  </thead>\n",
              "  <tbody>\n",
              "    <tr>\n",
              "      <th>40</th>\n",
              "      <td>466</td>\n",
              "      <td>22-24</td>\n",
              "      <td>Man</td>\n",
              "      <td>Algeria</td>\n",
              "      <td>No</td>\n",
              "      <td>NaN</td>\n",
              "      <td>NaN</td>\n",
              "      <td>NaN</td>\n",
              "      <td>NaN</td>\n",
              "      <td>NaN</td>\n",
              "      <td>...</td>\n",
              "      <td>Reddit (r/machinelearning, etc)</td>\n",
              "      <td>Kaggle (notebooks, forums, etc)</td>\n",
              "      <td>NaN</td>\n",
              "      <td>YouTube (Kaggle YouTube, Cloud AI Adventures, ...</td>\n",
              "      <td>NaN</td>\n",
              "      <td>Blogs (Towards Data Science, Analytics Vidhya,...</td>\n",
              "      <td>NaN</td>\n",
              "      <td>NaN</td>\n",
              "      <td>NaN</td>\n",
              "      <td>NaN</td>\n",
              "    </tr>\n",
              "    <tr>\n",
              "      <th>74</th>\n",
              "      <td>563</td>\n",
              "      <td>50-54</td>\n",
              "      <td>Man</td>\n",
              "      <td>Argentina</td>\n",
              "      <td>No</td>\n",
              "      <td>Coursera</td>\n",
              "      <td>NaN</td>\n",
              "      <td>Kaggle Learn Courses</td>\n",
              "      <td>NaN</td>\n",
              "      <td>NaN</td>\n",
              "      <td>...</td>\n",
              "      <td>NaN</td>\n",
              "      <td>Kaggle (notebooks, forums, etc)</td>\n",
              "      <td>Course Forums (forums.fast.ai, Coursera forums...</td>\n",
              "      <td>YouTube (Kaggle YouTube, Cloud AI Adventures, ...</td>\n",
              "      <td>NaN</td>\n",
              "      <td>Blogs (Towards Data Science, Analytics Vidhya,...</td>\n",
              "      <td>Journal Publications (peer-reviewed journals, ...</td>\n",
              "      <td>Slack Communities (ods.ai, kagglenoobs, etc)</td>\n",
              "      <td>NaN</td>\n",
              "      <td>NaN</td>\n",
              "    </tr>\n",
              "    <tr>\n",
              "      <th>76</th>\n",
              "      <td>549</td>\n",
              "      <td>40-44</td>\n",
              "      <td>Woman</td>\n",
              "      <td>Argentina</td>\n",
              "      <td>No</td>\n",
              "      <td>NaN</td>\n",
              "      <td>NaN</td>\n",
              "      <td>NaN</td>\n",
              "      <td>NaN</td>\n",
              "      <td>NaN</td>\n",
              "      <td>...</td>\n",
              "      <td>NaN</td>\n",
              "      <td>Kaggle (notebooks, forums, etc)</td>\n",
              "      <td>NaN</td>\n",
              "      <td>NaN</td>\n",
              "      <td>NaN</td>\n",
              "      <td>NaN</td>\n",
              "      <td>NaN</td>\n",
              "      <td>NaN</td>\n",
              "      <td>NaN</td>\n",
              "      <td>NaN</td>\n",
              "    </tr>\n",
              "    <tr>\n",
              "      <th>95</th>\n",
              "      <td>36397</td>\n",
              "      <td>40-44</td>\n",
              "      <td>Woman</td>\n",
              "      <td>Argentina</td>\n",
              "      <td>No</td>\n",
              "      <td>Coursera</td>\n",
              "      <td>NaN</td>\n",
              "      <td>NaN</td>\n",
              "      <td>DataCamp</td>\n",
              "      <td>NaN</td>\n",
              "      <td>...</td>\n",
              "      <td>NaN</td>\n",
              "      <td>NaN</td>\n",
              "      <td>NaN</td>\n",
              "      <td>NaN</td>\n",
              "      <td>NaN</td>\n",
              "      <td>Blogs (Towards Data Science, Analytics Vidhya,...</td>\n",
              "      <td>NaN</td>\n",
              "      <td>NaN</td>\n",
              "      <td>NaN</td>\n",
              "      <td>NaN</td>\n",
              "    </tr>\n",
              "    <tr>\n",
              "      <th>100</th>\n",
              "      <td>349</td>\n",
              "      <td>30-34</td>\n",
              "      <td>Man</td>\n",
              "      <td>Argentina</td>\n",
              "      <td>No</td>\n",
              "      <td>NaN</td>\n",
              "      <td>NaN</td>\n",
              "      <td>NaN</td>\n",
              "      <td>NaN</td>\n",
              "      <td>NaN</td>\n",
              "      <td>...</td>\n",
              "      <td>NaN</td>\n",
              "      <td>NaN</td>\n",
              "      <td>NaN</td>\n",
              "      <td>YouTube (Kaggle YouTube, Cloud AI Adventures, ...</td>\n",
              "      <td>NaN</td>\n",
              "      <td>NaN</td>\n",
              "      <td>NaN</td>\n",
              "      <td>NaN</td>\n",
              "      <td>NaN</td>\n",
              "      <td>NaN</td>\n",
              "    </tr>\n",
              "    <tr>\n",
              "      <th>...</th>\n",
              "      <td>...</td>\n",
              "      <td>...</td>\n",
              "      <td>...</td>\n",
              "      <td>...</td>\n",
              "      <td>...</td>\n",
              "      <td>...</td>\n",
              "      <td>...</td>\n",
              "      <td>...</td>\n",
              "      <td>...</td>\n",
              "      <td>...</td>\n",
              "      <td>...</td>\n",
              "      <td>...</td>\n",
              "      <td>...</td>\n",
              "      <td>...</td>\n",
              "      <td>...</td>\n",
              "      <td>...</td>\n",
              "      <td>...</td>\n",
              "      <td>...</td>\n",
              "      <td>...</td>\n",
              "      <td>...</td>\n",
              "      <td>...</td>\n",
              "    </tr>\n",
              "    <tr>\n",
              "      <th>23972</th>\n",
              "      <td>1257</td>\n",
              "      <td>35-39</td>\n",
              "      <td>Man</td>\n",
              "      <td>Zimbabwe</td>\n",
              "      <td>No</td>\n",
              "      <td>Coursera</td>\n",
              "      <td>NaN</td>\n",
              "      <td>Kaggle Learn Courses</td>\n",
              "      <td>NaN</td>\n",
              "      <td>NaN</td>\n",
              "      <td>...</td>\n",
              "      <td>NaN</td>\n",
              "      <td>Kaggle (notebooks, forums, etc)</td>\n",
              "      <td>Course Forums (forums.fast.ai, Coursera forums...</td>\n",
              "      <td>YouTube (Kaggle YouTube, Cloud AI Adventures, ...</td>\n",
              "      <td>NaN</td>\n",
              "      <td>Blogs (Towards Data Science, Analytics Vidhya,...</td>\n",
              "      <td>NaN</td>\n",
              "      <td>NaN</td>\n",
              "      <td>NaN</td>\n",
              "      <td>NaN</td>\n",
              "    </tr>\n",
              "    <tr>\n",
              "      <th>23977</th>\n",
              "      <td>760</td>\n",
              "      <td>40-44</td>\n",
              "      <td>Man</td>\n",
              "      <td>Zimbabwe</td>\n",
              "      <td>No</td>\n",
              "      <td>NaN</td>\n",
              "      <td>NaN</td>\n",
              "      <td>NaN</td>\n",
              "      <td>NaN</td>\n",
              "      <td>NaN</td>\n",
              "      <td>...</td>\n",
              "      <td>Reddit (r/machinelearning, etc)</td>\n",
              "      <td>Kaggle (notebooks, forums, etc)</td>\n",
              "      <td>NaN</td>\n",
              "      <td>NaN</td>\n",
              "      <td>Podcasts (Chai Time Data Science, O’Reilly Dat...</td>\n",
              "      <td>Blogs (Towards Data Science, Analytics Vidhya,...</td>\n",
              "      <td>NaN</td>\n",
              "      <td>NaN</td>\n",
              "      <td>NaN</td>\n",
              "      <td>NaN</td>\n",
              "    </tr>\n",
              "    <tr>\n",
              "      <th>23982</th>\n",
              "      <td>818</td>\n",
              "      <td>25-29</td>\n",
              "      <td>Woman</td>\n",
              "      <td>Zimbabwe</td>\n",
              "      <td>No</td>\n",
              "      <td>NaN</td>\n",
              "      <td>NaN</td>\n",
              "      <td>NaN</td>\n",
              "      <td>NaN</td>\n",
              "      <td>Fast.ai</td>\n",
              "      <td>...</td>\n",
              "      <td>NaN</td>\n",
              "      <td>NaN</td>\n",
              "      <td>NaN</td>\n",
              "      <td>NaN</td>\n",
              "      <td>NaN</td>\n",
              "      <td>NaN</td>\n",
              "      <td>NaN</td>\n",
              "      <td>NaN</td>\n",
              "      <td>NaN</td>\n",
              "      <td>NaN</td>\n",
              "    </tr>\n",
              "    <tr>\n",
              "      <th>23984</th>\n",
              "      <td>777</td>\n",
              "      <td>25-29</td>\n",
              "      <td>Man</td>\n",
              "      <td>Zimbabwe</td>\n",
              "      <td>No</td>\n",
              "      <td>NaN</td>\n",
              "      <td>NaN</td>\n",
              "      <td>NaN</td>\n",
              "      <td>NaN</td>\n",
              "      <td>NaN</td>\n",
              "      <td>...</td>\n",
              "      <td>NaN</td>\n",
              "      <td>NaN</td>\n",
              "      <td>NaN</td>\n",
              "      <td>YouTube (Kaggle YouTube, Cloud AI Adventures, ...</td>\n",
              "      <td>NaN</td>\n",
              "      <td>NaN</td>\n",
              "      <td>NaN</td>\n",
              "      <td>NaN</td>\n",
              "      <td>NaN</td>\n",
              "      <td>NaN</td>\n",
              "    </tr>\n",
              "    <tr>\n",
              "      <th>23988</th>\n",
              "      <td>905</td>\n",
              "      <td>40-44</td>\n",
              "      <td>Man</td>\n",
              "      <td>Zimbabwe</td>\n",
              "      <td>No</td>\n",
              "      <td>NaN</td>\n",
              "      <td>NaN</td>\n",
              "      <td>NaN</td>\n",
              "      <td>NaN</td>\n",
              "      <td>NaN</td>\n",
              "      <td>...</td>\n",
              "      <td>NaN</td>\n",
              "      <td>NaN</td>\n",
              "      <td>NaN</td>\n",
              "      <td>YouTube (Kaggle YouTube, Cloud AI Adventures, ...</td>\n",
              "      <td>NaN</td>\n",
              "      <td>NaN</td>\n",
              "      <td>NaN</td>\n",
              "      <td>NaN</td>\n",
              "      <td>NaN</td>\n",
              "      <td>NaN</td>\n",
              "    </tr>\n",
              "  </tbody>\n",
              "</table>\n",
              "<p>3467 rows × 124 columns</p>\n",
              "</div>\n",
              "      <button class=\"colab-df-convert\" onclick=\"convertToInteractive('df-d75f2499-abf7-48db-a43d-730febcfd3d9')\"\n",
              "              title=\"Convert this dataframe to an interactive table.\"\n",
              "              style=\"display:none;\">\n",
              "        \n",
              "  <svg xmlns=\"http://www.w3.org/2000/svg\" height=\"24px\"viewBox=\"0 0 24 24\"\n",
              "       width=\"24px\">\n",
              "    <path d=\"M0 0h24v24H0V0z\" fill=\"none\"/>\n",
              "    <path d=\"M18.56 5.44l.94 2.06.94-2.06 2.06-.94-2.06-.94-.94-2.06-.94 2.06-2.06.94zm-11 1L8.5 8.5l.94-2.06 2.06-.94-2.06-.94L8.5 2.5l-.94 2.06-2.06.94zm10 10l.94 2.06.94-2.06 2.06-.94-2.06-.94-.94-2.06-.94 2.06-2.06.94z\"/><path d=\"M17.41 7.96l-1.37-1.37c-.4-.4-.92-.59-1.43-.59-.52 0-1.04.2-1.43.59L10.3 9.45l-7.72 7.72c-.78.78-.78 2.05 0 2.83L4 21.41c.39.39.9.59 1.41.59.51 0 1.02-.2 1.41-.59l7.78-7.78 2.81-2.81c.8-.78.8-2.07 0-2.86zM5.41 20L4 18.59l7.72-7.72 1.47 1.35L5.41 20z\"/>\n",
              "  </svg>\n",
              "      </button>\n",
              "      \n",
              "  <style>\n",
              "    .colab-df-container {\n",
              "      display:flex;\n",
              "      flex-wrap:wrap;\n",
              "      gap: 12px;\n",
              "    }\n",
              "\n",
              "    .colab-df-convert {\n",
              "      background-color: #E8F0FE;\n",
              "      border: none;\n",
              "      border-radius: 50%;\n",
              "      cursor: pointer;\n",
              "      display: none;\n",
              "      fill: #1967D2;\n",
              "      height: 32px;\n",
              "      padding: 0 0 0 0;\n",
              "      width: 32px;\n",
              "    }\n",
              "\n",
              "    .colab-df-convert:hover {\n",
              "      background-color: #E2EBFA;\n",
              "      box-shadow: 0px 1px 2px rgba(60, 64, 67, 0.3), 0px 1px 3px 1px rgba(60, 64, 67, 0.15);\n",
              "      fill: #174EA6;\n",
              "    }\n",
              "\n",
              "    [theme=dark] .colab-df-convert {\n",
              "      background-color: #3B4455;\n",
              "      fill: #D2E3FC;\n",
              "    }\n",
              "\n",
              "    [theme=dark] .colab-df-convert:hover {\n",
              "      background-color: #434B5C;\n",
              "      box-shadow: 0px 1px 3px 1px rgba(0, 0, 0, 0.15);\n",
              "      filter: drop-shadow(0px 1px 2px rgba(0, 0, 0, 0.3));\n",
              "      fill: #FFFFFF;\n",
              "    }\n",
              "  </style>\n",
              "\n",
              "      <script>\n",
              "        const buttonEl =\n",
              "          document.querySelector('#df-d75f2499-abf7-48db-a43d-730febcfd3d9 button.colab-df-convert');\n",
              "        buttonEl.style.display =\n",
              "          google.colab.kernel.accessAllowed ? 'block' : 'none';\n",
              "\n",
              "        async function convertToInteractive(key) {\n",
              "          const element = document.querySelector('#df-d75f2499-abf7-48db-a43d-730febcfd3d9');\n",
              "          const dataTable =\n",
              "            await google.colab.kernel.invokeFunction('convertToInteractive',\n",
              "                                                     [key], {});\n",
              "          if (!dataTable) return;\n",
              "\n",
              "          const docLinkHtml = 'Like what you see? Visit the ' +\n",
              "            '<a target=\"_blank\" href=https://colab.research.google.com/notebooks/data_table.ipynb>data table notebook</a>'\n",
              "            + ' to learn more about interactive tables.';\n",
              "          element.innerHTML = '';\n",
              "          dataTable['output_type'] = 'display_data';\n",
              "          await google.colab.output.renderOutput(dataTable, element);\n",
              "          const docLink = document.createElement('div');\n",
              "          docLink.innerHTML = docLinkHtml;\n",
              "          element.appendChild(docLink);\n",
              "        }\n",
              "      </script>\n",
              "    </div>\n",
              "  </div>\n",
              "  "
            ]
          },
          "metadata": {},
          "execution_count": 205
        }
      ]
    },
    {
      "cell_type": "code",
      "source": [
        "employment_df['Job Title'].value_counts().sum()"
      ],
      "metadata": {
        "colab": {
          "base_uri": "https://localhost:8080/"
        },
        "id": "dYQIrhRQ4lwY",
        "outputId": "17702c05-7729-49a3-a1af-83c59712780c"
      },
      "execution_count": null,
      "outputs": [
        {
          "output_type": "execute_result",
          "data": {
            "text/plain": [
              "10631"
            ]
          },
          "metadata": {},
          "execution_count": 206
        }
      ]
    },
    {
      "cell_type": "markdown",
      "source": [
        "## Let's Take a Look!"
      ],
      "metadata": {
        "id": "nU6pkXQb0D5N"
      }
    },
    {
      "cell_type": "markdown",
      "source": [
        "### Take a Look at Job Titles"
      ],
      "metadata": {
        "id": "-4e2t5rugr6l"
      }
    },
    {
      "cell_type": "code",
      "source": [
        "#Graph different job titles to see most common ones \n",
        "employment_df['Job Title'].value_counts().head(10).plot(kind='pie')\n",
        "plt.ylabel(\"  \")\n",
        "plt.title('Job Titles');"
      ],
      "metadata": {
        "colab": {
          "base_uri": "https://localhost:8080/",
          "height": 319
        },
        "id": "dk-WqKfCgqRh",
        "outputId": "8e8ae7b5-0c43-489d-9286-8550d108f09c"
      },
      "execution_count": null,
      "outputs": [
        {
          "output_type": "display_data",
          "data": {
            "text/plain": [
              "<Figure size 864x360 with 1 Axes>"
            ],
            "image/png": "[encoded data removed]"
          },
          "metadata": {}
        }
      ]
    },
    {
      "cell_type": "markdown",
      "source": [
        "### 💡 INSIGHTS: \n",
        "The top 2 Job titles of responders were Data Analysts and Data Scientists. This worked out nicely for our project as those are the two jobs we would be in the market for. Additionally, note that Managers are a much smaller size and, therefore, might not be able to support our second analysis alone."
      ],
      "metadata": {
        "id": "YLGXAWFnGHZc"
      }
    },
    {
      "cell_type": "markdown",
      "source": [
        "### Take a Look at Countries"
      ],
      "metadata": {
        "id": "l2_4ksZVfOdE"
      }
    },
    {
      "cell_type": "code",
      "source": [
        "#Graph different countries \n",
        "DA_DS_df['Country'].value_counts().head(15).plot(kind='pie')\n",
        "plt.ylabel(\"  \")\n",
        "plt.title('Countries');"
      ],
      "metadata": {
        "colab": {
          "base_uri": "https://localhost:8080/",
          "height": 319
        },
        "id": "jE4qWgX0e3dJ",
        "outputId": "ff14bca3-f3d4-4b77-b7dc-09d7f4c4300c"
      },
      "execution_count": null,
      "outputs": [
        {
          "output_type": "display_data",
          "data": {
            "text/plain": [
              "<Figure size 864x360 with 1 Axes>"
            ],
            "image/png": "[encoded data removed]"
          },
          "metadata": {}
        }
      ]
    },
    {
      "cell_type": "markdown",
      "source": [
        "### 💡 INSIGHTS: \n",
        "One thing we noticed at the start of the analysis is that the data is global and we cannot make conclusions only on the U.S. without making our population too small. Therefore, we will conduct our analysis on all of these countries. "
      ],
      "metadata": {
        "id": "2jTT6PqQF4wG"
      }
    },
    {
      "cell_type": "markdown",
      "source": [
        "### Take a Look at Industry"
      ],
      "metadata": {
        "id": "-yaJ95HEEueK"
      }
    },
    {
      "cell_type": "code",
      "source": [
        "#Count of top 15 industry in DA_DS_DF \n",
        "DA_DS_df['Industry'].value_counts().head(15).plot(kind='pie')\n",
        "plt.ylabel(\"  \")\n",
        "plt.title('Industries');"
      ],
      "metadata": {
        "colab": {
          "base_uri": "https://localhost:8080/",
          "height": 319
        },
        "id": "5x_SCJtM9wpG",
        "outputId": "1c1fa431-dd6a-4e83-c9f8-f9744ccd6610"
      },
      "execution_count": null,
      "outputs": [
        {
          "output_type": "display_data",
          "data": {
            "text/plain": [
              "<Figure size 864x360 with 1 Axes>"
            ],
            "image/png": "[encoded data removed]"
          },
          "metadata": {}
        }
      ]
    },
    {
      "cell_type": "markdown",
      "source": [
        "### 💡 INSIGHTS: \n",
        "Computers/Technology is the most prominent field for Data Analysts and Data Scientist. This could be because people outsource anlytics work. Whereas in Accounting and Finance, who are bigger firms and corporations are starting to have internal analytics departments. Additionally, the main point is that analytics is becoming an important aspect of most fields.  "
      ],
      "metadata": {
        "id": "ViAcsIiegj1P"
      }
    },
    {
      "cell_type": "markdown",
      "source": [
        "### Take a Look at Company Size"
      ],
      "metadata": {
        "id": "CBKYxHRNIhQ1"
      }
    },
    {
      "cell_type": "code",
      "source": [
        "DA_DS_df['Q25'].value_counts().plot(kind='pie')\n",
        "\n",
        "plt.title('Company Size')\n",
        "plt.ylabel(\"  \");"
      ],
      "metadata": {
        "colab": {
          "base_uri": "https://localhost:8080/",
          "height": 319
        },
        "id": "eDhZFCHcQYqW",
        "outputId": "daaf6c5e-5fa5-4db3-dcc4-6b9c4403c14f"
      },
      "execution_count": null,
      "outputs": [
        {
          "output_type": "display_data",
          "data": {
            "text/plain": [
              "<Figure size 864x360 with 1 Axes>"
            ],
            "image/png": "[encoded data removed]"
          },
          "metadata": {}
        }
      ]
    },
    {
      "cell_type": "markdown",
      "source": [
        "### 💡 INSIGHTS: \n",
        "Data analysts and data scientists tend to work at either really small firms or really big firms. This is where we decided to pursue separating DA and DS later on in the project in order to determine if there is a difference in this area between the two job titles. See question 8 for more analysis."
      ],
      "metadata": {
        "id": "_BRckeXQKgxE"
      }
    },
    {
      "cell_type": "markdown",
      "source": [
        "#↪Section 4: Main Analysis - Analysis 1"
      ],
      "metadata": {
        "id": "VO1T3eRIwB5_"
      }
    },
    {
      "cell_type": "markdown",
      "source": [
        "## Q1: How Many Years Have Data Analysts and Data Scientists Been Coding?"
      ],
      "metadata": {
        "id": "XgNRbxl1Ggdq"
      }
    },
    {
      "cell_type": "code",
      "source": [
        "#Create a bar graph for years writing code counts\n",
        "DA_DS_df['Years Writing Code'].value_counts().plot(kind='bar', color= 'thistle')\n",
        "\n",
        "plt.xlabel(\"Years Coding\")\n",
        "plt.ylabel(\"Number of Coders\")\n",
        "plt.title(\"Number of Years Data Analysts and Data Scientists Years Coding\")\n",
        "plt.show()"
      ],
      "metadata": {
        "colab": {
          "base_uri": "https://localhost:8080/",
          "height": 468
        },
        "id": "L-F-20XdGqqB",
        "outputId": "06ada3b5-ed1e-4e9e-e6ff-e9de554c575c"
      },
      "execution_count": null,
      "outputs": [
        {
          "output_type": "display_data",
          "data": {
            "text/plain": [
              "<Figure size 864x360 with 1 Axes>"
            ],
            "image/png": "[encoded data removed]"
          },
          "metadata": {
            "needs_background": "light"
          }
        }
      ]
    },
    {
      "cell_type": "markdown",
      "source": [
        "### Q1 💡INSIGHTS: \n",
        "When looking at years Data Analysts and Data Scientists have been coding, the most popular is between 0 and 10 years. This makes sense since the roles are prominently filled by entry level positions. People would normally not be in these roles for an extended amount of time such as 20+ years coding. Additionally, this is interesting that about 200 people have never written code. "
      ],
      "metadata": {
        "id": "hqHSX6jbh5Sk"
      }
    },
    {
      "cell_type": "markdown",
      "source": [
        "## Q2, Q3, Q4: Programming Language Analysis"
      ],
      "metadata": {
        "id": "HcVBwBb3ExT1"
      }
    },
    {
      "cell_type": "markdown",
      "source": [
        "### Assumptions Made\n",
        "* Those who did not select Python, R, or SQL were assumed to not know the language. This, however, could also have been a mistake or an error on the responder. For our analysis purposes, we are moving forward with believing only those who correctly selected a language know that language.\n",
        "\n"
      ],
      "metadata": {
        "id": "wmtXhHmWMJh4"
      }
    },
    {
      "cell_type": "markdown",
      "source": [
        "### Q2: What Programming Language's are the Most Popular Amongst Data Analysts and Data Scientists? "
      ],
      "metadata": {
        "id": "Ir2TN4fW-nTX"
      }
    },
    {
      "cell_type": "code",
      "source": [
        "#Define variables for graph (hard coded because of columns )\n",
        "Programming_Language = ['Python', 'R', 'SQL', 'Javascript', 'Bash', 'Java', 'C++', 'C','C#']\n",
        "Users = [2946, 2568, 2035, 323, 310, 273, 256, 208, 136]"
      ],
      "metadata": {
        "id": "Bu-fA-5ECZs2"
      },
      "execution_count": null,
      "outputs": []
    },
    {
      "cell_type": "code",
      "source": [
        "#Create a bar graph of Programming Language and Users\n",
        "X_axis = np.arange(len(Programming_Language))\n",
        "\n",
        "plt.bar(X_axis, Users,label = 'Users', color= 'thistle')\n",
        "\n",
        "plt.xticks(X_axis, Programming_Language, rotation='vertical')\n",
        "\n",
        "plt.xlabel(\"Programming Language\")\n",
        "plt.ylabel(\"Number of Users\")\n",
        "plt.title(\"Number of Users for Each Programming Language\");"
      ],
      "metadata": {
        "colab": {
          "base_uri": "https://localhost:8080/",
          "height": 389
        },
        "id": "4f6oBu9S23BL",
        "outputId": "cc028d10-5cfd-40ea-fb83-3e9053e63c7e"
      },
      "execution_count": null,
      "outputs": [
        {
          "output_type": "display_data",
          "data": {
            "text/plain": [
              "<Figure size 864x360 with 1 Axes>"
            ],
            "image/png": "[encoded data removed]"
          },
          "metadata": {
            "needs_background": "light"
          }
        }
      ]
    },
    {
      "cell_type": "markdown",
      "source": [
        "### 💡 Q2 INSIGHTS: \n",
        "When looking at programming languages used Data Analysts and Data Scientists the most popular three are significantly more popular than the others. Python which is the class we are currently in is the most used. "
      ],
      "metadata": {
        "id": "rCXyn-49jzPX"
      }
    },
    {
      "cell_type": "markdown",
      "source": [
        "### Q3: How Do Our Coding Abilities Compare Against Data Analysts and Data Scientists?"
      ],
      "metadata": {
        "id": "vz1Pu0cI-xLZ"
      }
    },
    {
      "cell_type": "markdown",
      "source": [
        "#### Assumptions:\n",
        "* We are assuming here that our coding experience is limited to the skills gained in the MSBA program (Python, R, and SQL)"
      ],
      "metadata": {
        "id": "SJaeCgN6PTft"
      }
    },
    {
      "cell_type": "code",
      "source": [
        "# Python analysis\n",
        "DA_DS_df['Python'].fillna('Does Not Use Python').value_counts()"
      ],
      "metadata": {
        "id": "sG5gz-Bq1OS1",
        "colab": {
          "base_uri": "https://localhost:8080/"
        },
        "outputId": "245ecf7e-fe7f-49a2-b99c-72e38318f832"
      },
      "execution_count": null,
      "outputs": [
        {
          "output_type": "execute_result",
          "data": {
            "text/plain": [
              "Python                 2946\n",
              "Does Not Use Python     521\n",
              "Name: Python, dtype: int64"
            ]
          },
          "metadata": {},
          "execution_count": 214
        }
      ]
    },
    {
      "cell_type": "code",
      "source": [
        "# R analysis\n",
        "DA_DS_df['R'].fillna('Does Not Use R').value_counts()"
      ],
      "metadata": {
        "id": "_wRrid0i1dZv",
        "colab": {
          "base_uri": "https://localhost:8080/"
        },
        "outputId": "593040cb-ade7-4ba8-dc11-04202baef68b"
      },
      "execution_count": null,
      "outputs": [
        {
          "output_type": "execute_result",
          "data": {
            "text/plain": [
              "Does Not Use R    2568\n",
              "R                  899\n",
              "Name: R, dtype: int64"
            ]
          },
          "metadata": {},
          "execution_count": 215
        }
      ]
    },
    {
      "cell_type": "code",
      "source": [
        "# SQL analysis\n",
        "DA_DS_df['SQL'].fillna('Does Not Use SQL').value_counts()"
      ],
      "metadata": {
        "id": "lRjBHkNk3JW2",
        "colab": {
          "base_uri": "https://localhost:8080/"
        },
        "outputId": "f80bc8b3-01f5-4ca6-f466-d17815f8dfc6"
      },
      "execution_count": null,
      "outputs": [
        {
          "output_type": "execute_result",
          "data": {
            "text/plain": [
              "SQL                 2035\n",
              "Does Not Use SQL    1432\n",
              "Name: SQL, dtype: int64"
            ]
          },
          "metadata": {},
          "execution_count": 216
        }
      ]
    },
    {
      "cell_type": "code",
      "source": [
        "# No language ability analysis\n",
        "DA_DS_df['No Language'].fillna('Knows One or More Languages').value_counts()"
      ],
      "metadata": {
        "colab": {
          "base_uri": "https://localhost:8080/"
        },
        "id": "1c6Z2ZMuCnXa",
        "outputId": "577cc3e4-e717-4936-b78e-3ed8c8d94ed4"
      },
      "execution_count": null,
      "outputs": [
        {
          "output_type": "execute_result",
          "data": {
            "text/plain": [
              "Knows One or More Languages    3437\n",
              "None                             30\n",
              "Name: No Language, dtype: int64"
            ]
          },
          "metadata": {},
          "execution_count": 217
        }
      ]
    },
    {
      "cell_type": "markdown",
      "source": [
        "### Programming Language Users"
      ],
      "metadata": {
        "id": "G5Plekk6lc7j"
      }
    },
    {
      "cell_type": "code",
      "source": [
        "#Define variables for Programming Language ability \n",
        "Users = ['Python', 'R', 'SQL', 'No Language']\n",
        "Can_use= [2946, 2568, 2035, 30]\n",
        "Cannot_use = [521, 899, 1432, 3437]"
      ],
      "metadata": {
        "id": "BIhypDZXCj7n"
      },
      "execution_count": null,
      "outputs": []
    },
    {
      "cell_type": "code",
      "source": [
        "#Graph of DA/DS Programming Language\n",
        "X_axis = np.arange(len(Users))\n",
        "\n",
        "plt.bar(X_axis - 0.2, Can_use, 0.4, label = 'Can use', color= 'lightcoral')\n",
        "plt.bar(X_axis + 0.2, Cannot_use , 0.4, label = 'Cannot use', color='mediumpurple')\n",
        "\n",
        "plt.xticks(X_axis, Users)\n",
        "plt.xlabel(\"Program\")\n",
        "plt.ylabel(\"Number of Users\")\n",
        "plt.title(\"Number of Users for Each Program\")\n",
        "plt.legend()\n",
        "plt.show()"
      ],
      "metadata": {
        "id": "ESadqpHh4vZf",
        "outputId": "ad2d808d-de01-4cd3-9ccf-6d83a6e40e51",
        "colab": {
          "base_uri": "https://localhost:8080/",
          "height": 350
        }
      },
      "execution_count": null,
      "outputs": [
        {
          "output_type": "display_data",
          "data": {
            "text/plain": [
              "<Figure size 864x360 with 1 Axes>"
            ],
            "image/png": "[encoded data removed]"
          },
          "metadata": {
            "needs_background": "light"
          }
        }
      ]
    },
    {
      "cell_type": "markdown",
      "source": [
        "### 💡 Q3 INSIGHTS: \n",
        "Fairfield University MSBA program offers Python, R, and SQL. This allows us students to be prepared to enter these roles. Significantly, looking at SQL, we can conclude this will help differentiate us from other students. "
      ],
      "metadata": {
        "id": "fxD5LrPGkdEs"
      }
    },
    {
      "cell_type": "markdown",
      "source": [
        "###Q4: What are the Most Popular Combinations of Programming Languages Amongst Data Analysts and Data Scientists?"
      ],
      "metadata": {
        "id": "iIU2pvOI-89t"
      }
    },
    {
      "cell_type": "code",
      "source": [
        "#Replace all missing values \n",
        "DA_DS_df['Python']= DA_DS_df['Python'].fillna('')\n",
        "DA_DS_df['R']= DA_DS_df['R'].fillna('')\n",
        "DA_DS_df['SQL']= DA_DS_df['SQL'].fillna('')\n",
        "DA_DS_df['Q12_4'] = DA_DS_df['Q12_4'].fillna('')\n",
        "DA_DS_df['Q12_5'] = DA_DS_df['Q12_5'].fillna('')\n",
        "DA_DS_df['Q12_6'] = DA_DS_df['Q12_6'].fillna('')\n",
        "DA_DS_df['Q12_7'] = DA_DS_df['Q12_7'].fillna('')\n",
        "DA_DS_df['Q12_8'] = DA_DS_df['Q12_8'].fillna('')\n",
        "DA_DS_df['Q12_9'] = DA_DS_df['Q12_9'].fillna('')"
      ],
      "metadata": {
        "id": "Cf0CJpef9OJR"
      },
      "execution_count": null,
      "outputs": []
    },
    {
      "cell_type": "code",
      "source": [
        "#Combine all programming language columns into one column to get combinations\n",
        "DA_DS_df['All_pro_lang']= DA_DS_df['Python'].astype(str) +' ' + DA_DS_df['R'].astype(str) +' ' + DA_DS_df['SQL'].astype(str) +' ' + DA_DS_df['Q12_4'].astype(str) +' ' + DA_DS_df['Q12_5'].astype(str) +' ' + DA_DS_df['Q12_6'].astype(str) +' ' + DA_DS_df['Q12_7'].astype(str) +' ' + DA_DS_df['Q12_8'].astype(str) +' ' + DA_DS_df['Q12_9'].astype(str)"
      ],
      "metadata": {
        "id": "YV0N64SZ7eei"
      },
      "execution_count": null,
      "outputs": []
    },
    {
      "cell_type": "code",
      "source": [
        "#Graph language combinations\n",
        "DA_DS_df['All_pro_lang'].value_counts().head(10).plot(kind=\"bar\", color='thistle')\n",
        "plt.legend(['Bar 4 Represents Other or No Languages'])\n",
        "plt.title('Top 9 Combinations of Programming Languages')\n",
        "plt.xlabel(\"Programming Language Combinations\")\n",
        "plt.ylabel(\"Counts\");"
      ],
      "metadata": {
        "colab": {
          "base_uri": "https://localhost:8080/",
          "height": 474
        },
        "id": "BbAsVqao8v8T",
        "outputId": "72bdc209-0fad-4a23-f0f1-f135efeb8eca"
      },
      "execution_count": null,
      "outputs": [
        {
          "output_type": "display_data",
          "data": {
            "text/plain": [
              "<Figure size 864x360 with 1 Axes>"
            ],
            "image/png": "[encoded data removed]"
          },
          "metadata": {
            "needs_background": "light"
          }
        }
      ]
    },
    {
      "cell_type": "markdown",
      "source": [
        "### 💡Q4 INSIGHTS: \n",
        "When looking at the combinations of programming languages, it is more common people work with both Python and SQL together, or SQL by itself. We are capable of using these programs which can help differentiate us from the competition. "
      ],
      "metadata": {
        "id": "rLF4BaoclDzQ"
      }
    },
    {
      "cell_type": "markdown",
      "source": [
        "## Q5: What BI Tools do Data Scientists and Data Analysts Use? "
      ],
      "metadata": {
        "id": "CBb0tuo2sZMF"
      }
    },
    {
      "cell_type": "code",
      "source": [
        "#Rename columns for readability\n",
        "DA_DS_df = DA_DS_df.rename(columns = {'Q36_1':'Amazon Quicksight', 'Q36_2': 'Power BI', 'Q36_3': 'Google Data Studio', 'Q36_4':'Looker', 'Q36_5': 'Tableau', 'Q36_6': 'Qlik Sense', 'Q36_7':'Domo', 'Q36_8': 'TIBCO Spotfire', 'Q36_9': 'Alteryx', 'Q36_10': 'Sisense', 'Q36_11': 'SAP Analytics Cloud', 'Q36_12': 'Azure Synapse','Q36_13':'Thoughtspot', 'Q36_14':'None of these BI tools', 'Q36_15':'Other BI tools'})"
      ],
      "metadata": {
        "id": "C-AWatGs0qPt"
      },
      "execution_count": null,
      "outputs": []
    },
    {
      "cell_type": "code",
      "source": [
        "#Use value_counts in order to get each tools count\n",
        "DA_DS_df['Power BI'].value_counts()"
      ],
      "metadata": {
        "colab": {
          "base_uri": "https://localhost:8080/"
        },
        "id": "dM8-C3C31SxB",
        "outputId": "395e4fb8-f76a-40a2-9294-121f9ccbec1c"
      },
      "execution_count": null,
      "outputs": [
        {
          "output_type": "execute_result",
          "data": {
            "text/plain": [
              "Microsoft Power BI    831\n",
              "Name: Power BI, dtype: int64"
            ]
          },
          "metadata": {},
          "execution_count": 224
        }
      ]
    },
    {
      "cell_type": "code",
      "source": [
        "#Define variables for Tool and Users (hardcoded because of columns)\n",
        "BI_Tool = ['Amazon Quicksight', 'Power BI', 'Google Data Studio', 'Looker', 'Tableau', 'Qlik Sense', 'Domo', 'TIBCO Spotfire',  'Alteryx',  'Sisense', 'SAP Analytics Cloud', 'Azure Synapse','Thoughtspot', 'None of these BI tools', 'Other BI tools']\n",
        "Users = [83, 831, 313, 92, 868, 108, 25, 38, 64, 15, 65, 57, 11, 544, 78]"
      ],
      "metadata": {
        "id": "uQlABSFADD-l"
      },
      "execution_count": null,
      "outputs": []
    },
    {
      "cell_type": "code",
      "source": [
        "#Graph BI tools\n",
        "X_axis = np.arange(len(BI_Tool))\n",
        "\n",
        "plt.bar(X_axis, Users,label = 'Users', color= 'thistle')\n",
        "\n",
        "plt.xticks(X_axis, BI_Tool, rotation='vertical')\n",
        "\n",
        "plt.xlabel(\"BI Tool\")\n",
        "plt.ylabel(\"Number of Users\")\n",
        "plt.title(\"Number of Users for Each BI Tool\");"
      ],
      "metadata": {
        "colab": {
          "base_uri": "https://localhost:8080/",
          "height": 449
        },
        "id": "I1puJ1Yp2OlI",
        "outputId": "8eff682b-2f15-4aa2-b981-76d2f3248cff"
      },
      "execution_count": null,
      "outputs": [
        {
          "output_type": "display_data",
          "data": {
            "text/plain": [
              "<Figure size 864x360 with 1 Axes>"
            ],
            "image/png": "[encoded data removed]"
          },
          "metadata": {
            "needs_background": "light"
          }
        }
      ]
    },
    {
      "cell_type": "markdown",
      "source": [
        "### 💡 Q5 INSIGHTS: \n",
        "\n",
        "It is interesting that Tableau is the most commonly used BI tool followed by Power BI. Additionally it is intersting that the BI tool coming in 3rd place is not using BI tools at all. This depends on what role you have and whether you are more involved with the back room work or more on the customer interaction side. "
      ],
      "metadata": {
        "id": "677AhFVNpzea"
      }
    },
    {
      "cell_type": "markdown",
      "source": [
        "## Q6: What Data Science Platforms do Data Scientists and Data Analysts Use?"
      ],
      "metadata": {
        "id": "4DI-W4hcn4Le"
      }
    },
    {
      "cell_type": "code",
      "source": [
        "#Rename all Data Science Platform Columns\n",
        "DA_DS_df = DA_DS_df.rename(columns = {'Q6_1':'Coursera', 'Q6_2': 'edX', 'Q6_3': 'Kaggle', 'Q6_4':'Datacamp', 'Q6_5': 'Fast.ai', 'Q6_6': 'Udacity', 'Q6_7':'Udemy', 'Q6_8': 'Linked-in Learning', 'Q6_9': 'Cloud Cert. Program', 'Q6_10': 'University Courses', 'Q6_11': 'None', 'Q6_12': 'Other'})"
      ],
      "metadata": {
        "id": "YsOYSdrBpXuK"
      },
      "execution_count": null,
      "outputs": []
    },
    {
      "cell_type": "code",
      "source": [
        "#Use value_counts in order to get each platforms count\n",
        "DA_DS_df['Datacamp'].value_counts()"
      ],
      "metadata": {
        "colab": {
          "base_uri": "https://localhost:8080/"
        },
        "id": "VEeymZKLqXdW",
        "outputId": "17deefcc-224f-473b-8bbe-4e2c289b48e0"
      },
      "execution_count": null,
      "outputs": [
        {
          "output_type": "execute_result",
          "data": {
            "text/plain": [
              "DataCamp    778\n",
              "Name: Datacamp, dtype: int64"
            ]
          },
          "metadata": {},
          "execution_count": 228
        }
      ]
    },
    {
      "cell_type": "code",
      "source": [
        "DA_DS_df['University Courses'].value_counts()"
      ],
      "metadata": {
        "colab": {
          "base_uri": "https://localhost:8080/"
        },
        "id": "yxW3EP1IrPii",
        "outputId": "80c0dfe6-641a-49aa-9d00-4dd7e4ae3d89"
      },
      "execution_count": null,
      "outputs": [
        {
          "output_type": "execute_result",
          "data": {
            "text/plain": [
              "University Courses (resulting in a university degree)    854\n",
              "Name: University Courses, dtype: int64"
            ]
          },
          "metadata": {},
          "execution_count": 229
        }
      ]
    },
    {
      "cell_type": "code",
      "source": [
        "DA_DS_df['Kaggle'].value_counts()"
      ],
      "metadata": {
        "colab": {
          "base_uri": "https://localhost:8080/"
        },
        "id": "4U7q7SfcrSeW",
        "outputId": "abfbec76-365c-49e0-a550-f62fa84cb2f1"
      },
      "execution_count": null,
      "outputs": [
        {
          "output_type": "execute_result",
          "data": {
            "text/plain": [
              "Kaggle Learn Courses    999\n",
              "Name: Kaggle, dtype: int64"
            ]
          },
          "metadata": {},
          "execution_count": 230
        }
      ]
    },
    {
      "cell_type": "code",
      "source": [
        "DA_DS_df['Linked-in Learning'].value_counts()"
      ],
      "metadata": {
        "colab": {
          "base_uri": "https://localhost:8080/"
        },
        "id": "D6of12wLrXby",
        "outputId": "19cb52f9-a949-40c3-cacd-e85a8f904b88"
      },
      "execution_count": null,
      "outputs": [
        {
          "output_type": "execute_result",
          "data": {
            "text/plain": [
              "LinkedIn Learning    517\n",
              "Name: Linked-in Learning, dtype: int64"
            ]
          },
          "metadata": {},
          "execution_count": 231
        }
      ]
    },
    {
      "cell_type": "code",
      "source": [
        "#Define variables for Platform and Users (hardcoded because of columns)\n",
        "Platforms = ['Datacamp', 'University Courses', 'Kaggle', 'Linked- in Learning', 'edX', 'Coursera', 'Fast_ai', 'Udacity', 'Udemy', 'Cloud Cert. Program', 'None', 'Other']\n",
        "Users = [778, 854, 999, 517, 497, 1731, 195, 446, 1124, 332, 236, 887 ]"
      ],
      "metadata": {
        "id": "gIClA-_KDP5k"
      },
      "execution_count": null,
      "outputs": []
    },
    {
      "cell_type": "code",
      "source": [
        "#Graph of Platforms\n",
        "X_axis = np.arange(len(Platforms))\n",
        "\n",
        "plt.bar(X_axis, Users,label = 'Users', color= 'thistle')\n",
        "\n",
        "plt.xticks(X_axis, Platforms, rotation='vertical')\n",
        "\n",
        "plt.xlabel(\"Platform\")\n",
        "plt.ylabel(\"Number of Users\")\n",
        "plt.title(\"Number of Users for Each Data Science Platform\");\n",
        "\n"
      ],
      "metadata": {
        "colab": {
          "base_uri": "https://localhost:8080/",
          "height": 441
        },
        "id": "3RHX9Dfirurz",
        "outputId": "4d4f6aa7-8752-4532-8094-89eb53722378"
      },
      "execution_count": null,
      "outputs": [
        {
          "output_type": "display_data",
          "data": {
            "text/plain": [
              "<Figure size 864x360 with 1 Axes>"
            ],
            "image/png": "[encoded data removed]"
          },
          "metadata": {
            "needs_background": "light"
          }
        }
      ]
    },
    {
      "cell_type": "markdown",
      "source": [
        "### 💡 Q6 INSIGHTS: \n",
        "\n",
        "It is interesting that the Data Science Platform used most by Data Scientists and Data Analysts is Coursera. Datacamp which is what Fairfield uses is only ranked . "
      ],
      "metadata": {
        "id": "AkyoP4KjpXcM"
      }
    },
    {
      "cell_type": "markdown",
      "source": [
        "## Q7: What are the Most Popular Combinations of Job Responsibilities Amongst Data Analysts and Data Scientists?"
      ],
      "metadata": {
        "id": "sPxlMvHKIaXV"
      }
    },
    {
      "cell_type": "markdown",
      "source": [
        "###Assumptions Made:\n",
        "* Other job responsibilities as well as those who did not align with any of the given options, were not looked at.\n",
        "* Data Scientists and Data Analysts perform similarly and therefore were grouped together. "
      ],
      "metadata": {
        "id": "qvdMg79ifjZc"
      }
    },
    {
      "cell_type": "code",
      "source": [
        "#Column Renaming for 6 responsibilities \n",
        "DA_DS_df = DA_DS_df.rename(columns= {'Q28_1':'Analyze and understand data', 'Q28_2': 'Build and run data infrastructure', 'Q28_3':'Build prototypes to explore ML', 'Q28_4':'Build and run ML service', 'Q28_5': 'Improve existing ML models', 'Q28_6': 'Research ML'}).astype(object)"
      ],
      "metadata": {
        "id": "-x5zLBIjNMvf"
      },
      "execution_count": null,
      "outputs": []
    },
    {
      "cell_type": "code",
      "source": [
        "#Replacing values with Job A, B, C, D, E, and F\n",
        "DA_DS_df['Analyze and understand data'] = DA_DS_df['Analyze and understand data'].str.replace('Analyze and understand data to influence product or business decisions', 'Job A')\n",
        "DA_DS_df['Build and run data infrastructure'] = DA_DS_df['Build and run data infrastructure'].str.replace('Build and/or run the data infrastructure that my business uses for storing, analyzing, and operationalizing data', 'Job B')\n",
        "DA_DS_df['Build prototypes to explore ML'] = DA_DS_df['Build prototypes to explore ML'].str.replace('Build prototypes to explore applying machine learning to new areas', 'Job C')\n",
        "DA_DS_df['Build and run ML service'] = DA_DS_df['Build and run ML service'].str.replace('Build and/or run a machine learning service that operationally improves my product or workflows', 'Job D')\n",
        "DA_DS_df['Improve existing ML models'] = DA_DS_df['Improve existing ML models'].str.replace('Experimentation and iteration to improve existing ML models', 'Job E')\n",
        "DA_DS_df['Research ML'] = DA_DS_df['Research ML'].str.replace('Do research that advances the state of the art of machine learning', 'Job F')"
      ],
      "metadata": {
        "id": "mA4MJW1NQuLD"
      },
      "execution_count": null,
      "outputs": []
    },
    {
      "cell_type": "code",
      "source": [
        "#Filling nan values with blanks \n",
        "DA_DS_df['Analyze and understand data']= DA_DS_df['Analyze and understand data'].fillna('')\n",
        "DA_DS_df['Build and run data infrastructure'] = DA_DS_df['Build and run data infrastructure'].fillna('')\n",
        "DA_DS_df['Build prototypes to explore ML']= DA_DS_df['Build prototypes to explore ML'].fillna('')\n",
        "DA_DS_df['Build and run ML service']= DA_DS_df['Build and run ML service'].fillna('')\n",
        "DA_DS_df['Improve existing ML models']= DA_DS_df['Improve existing ML models'].fillna('')\n",
        "DA_DS_df['Research ML']= DA_DS_df['Research ML'].fillna('')"
      ],
      "metadata": {
        "id": "sZeIpQ5FTVwe"
      },
      "execution_count": null,
      "outputs": []
    },
    {
      "cell_type": "code",
      "source": [
        "#New column to combine all of the columns\n",
        "DA_DS_df['All_resp'] = DA_DS_df['Analyze and understand data'].astype(str) +' ' + DA_DS_df['Build and run data infrastructure'].astype(str) + ' ' + DA_DS_df['Build prototypes to explore ML'].astype(str) + ' ' + DA_DS_df['Build and run ML service'].astype(str) + ' ' + DA_DS_df['Improve existing ML models'].astype(str) + ' ' + DA_DS_df['Research ML'].astype(str) "
      ],
      "metadata": {
        "id": "It8ObMA4Prab"
      },
      "execution_count": null,
      "outputs": []
    },
    {
      "cell_type": "code",
      "source": [
        "#Check works\n",
        "DA_DS_df['All_resp']"
      ],
      "metadata": {
        "colab": {
          "base_uri": "https://localhost:8080/"
        },
        "id": "DfHKBkttdr6D",
        "outputId": "a1aadd7d-f0d5-4e9e-9cad-2a710b08d9f0"
      },
      "execution_count": null,
      "outputs": [
        {
          "output_type": "execute_result",
          "data": {
            "text/plain": [
              "40       Job A Job B Job C Job D Job E \n",
              "74                 Job A Job B Job C   \n",
              "76                           Job A     \n",
              "95                      Job A Job B    \n",
              "100                Job A    Job E Job F\n",
              "                      ...              \n",
              "23972         Job A Job B Job C   Job F\n",
              "23977                        Job A     \n",
              "23982                        Job A     \n",
              "23984                        Job A     \n",
              "23988              Job A Job B    Job F\n",
              "Name: All_resp, Length: 3467, dtype: object"
            ]
          },
          "metadata": {},
          "execution_count": 238
        }
      ]
    },
    {
      "cell_type": "code",
      "source": [
        "#Create a variable for top 10 combinations of responsibilities \n",
        "top10_resp_df= DA_DS_df['All_resp'].value_counts().head(10)"
      ],
      "metadata": {
        "id": "7yxfucPLVcIc"
      },
      "execution_count": null,
      "outputs": []
    },
    {
      "cell_type": "markdown",
      "source": [
        "### Job Responsibilities"
      ],
      "metadata": {
        "id": "ax2h9o7Z4uOd"
      }
    },
    {
      "cell_type": "code",
      "source": [
        "#Graph responsibilities combinations\n",
        "top10_resp_df.plot(kind='bar', color='thistle')\n",
        "plt.legend(['Bar 2 Represents Other Responsibilities'])\n",
        "plt.title('Top 10 Data Scientist and Data Analyst Responsibilities')\n",
        "plt.xlabel(\"Job Responsibilities Combinations\")\n",
        "plt.ylabel(\"Counts\");"
      ],
      "metadata": {
        "colab": {
          "base_uri": "https://localhost:8080/",
          "height": 505
        },
        "id": "UsNRS6c3Wk9X",
        "outputId": "9ab9acab-3839-4552-8b4f-e5274d88b598"
      },
      "execution_count": null,
      "outputs": [
        {
          "output_type": "display_data",
          "data": {
            "text/plain": [
              "<Figure size 864x360 with 1 Axes>"
            ],
            "image/png": "[encoded data removed]"
          },
          "metadata": {
            "needs_background": "light"
          }
        }
      ]
    },
    {
      "cell_type": "markdown",
      "source": [
        "### 💡 Q7 INSIGHTS: \n",
        "- **Job A:** Analyze and understand data\n",
        "- **Job B:**Build and run data infrastructure\n",
        "- **Job C:** Build prototypes to explore ML\n",
        "- **Job D:** Build and run ML service\n",
        "- **Job E:** Improve existing ML models \n",
        "- **Job F:** Research ML \n",
        "\n",
        "Since the roles we seleted to look at are Data Analysts and Data Scientists it is expected Job 1 ( Analyze and Understand Data ) is the most popular. Job 1 is expected to be performed by most entry level positions. What is interesting that Job 1 and Job 2 together are performed together more frequently then Job B alone. This could be because we are not looking at Data Engineers in this data. "
      ],
      "metadata": {
        "id": "SKh57BuQlt3b"
      }
    },
    {
      "cell_type": "markdown",
      "source": [
        "## Q8: How Big is the Analytics Team?"
      ],
      "metadata": {
        "id": "acTAUssWQsgv"
      }
    },
    {
      "cell_type": "code",
      "source": [
        "#Fix date-time numbers from Excel with correct bin of size of team\n",
        "DA_DS_df['Q26']=DA_DS_df['Q26'].replace('2-Jan', '1-2').replace('4-Mar', '3-4').replace('9-May', '5-9').replace('14-Oct', '10-14')"
      ],
      "metadata": {
        "id": "4nD6uYJdKy37"
      },
      "execution_count": null,
      "outputs": []
    },
    {
      "cell_type": "code",
      "source": [
        "#graph team size\n",
        "DA_DS_df['Q26'].replace('2-Jan', '1-2').replace('4-Mar', '3-4').replace('9-May', '5-9').replace('14-Oct', '10-14').value_counts().plot(kind='bar', color='thistle')\n",
        "plt.xlabel(\"Number of People on Team\")\n",
        "plt.ylabel(\"Counts\")\n",
        "plt.title('Analytics Team Size Analysis');"
      ],
      "metadata": {
        "colab": {
          "base_uri": "https://localhost:8080/",
          "height": 369
        },
        "id": "Of3JUSMKI4-k",
        "outputId": "50b9fc29-163e-4513-d9ed-7bab88fca1cf"
      },
      "execution_count": null,
      "outputs": [
        {
          "output_type": "display_data",
          "data": {
            "text/plain": [
              "<Figure size 864x360 with 1 Axes>"
            ],
            "image/png": "[encoded data removed]"
          },
          "metadata": {
            "needs_background": "light"
          }
        }
      ]
    },
    {
      "cell_type": "code",
      "source": [
        "DA_DS_df['Q26'].dtypes"
      ],
      "metadata": {
        "colab": {
          "base_uri": "https://localhost:8080/"
        },
        "id": "YdQSjFpDKlH6",
        "outputId": "0a3e2dd5-e89c-4bcc-ed1e-d47c0b2b5857"
      },
      "execution_count": null,
      "outputs": [
        {
          "output_type": "execute_result",
          "data": {
            "text/plain": [
              "dtype('O')"
            ]
          },
          "metadata": {},
          "execution_count": 243
        }
      ]
    },
    {
      "cell_type": "markdown",
      "source": [
        "### 💡 Q8 INSIGHTS: \n",
        "\n",
        "What stands out most is that the top 2 responses for how many people are perforimg the same role as you in your company are polar opposites. Either people are working by themselves or with only one other person or the polar opposite where they are working on large teams. "
      ],
      "metadata": {
        "id": "_ZZ3p_qdn8eO"
      }
    },
    {
      "cell_type": "markdown",
      "source": [
        "##Q9: How Does the Amount of People Differ for a Data Analyst vs. a  Data Scientist?"
      ],
      "metadata": {
        "id": "WCn95uLbQzWu"
      }
    },
    {
      "cell_type": "code",
      "source": [
        "# DS vs DA and working together vs alone \n",
        "DA_DS_df.groupby(['Job Title'])['Q26'].value_counts()"
      ],
      "metadata": {
        "colab": {
          "base_uri": "https://localhost:8080/"
        },
        "id": "VnnYtKPuKXg7",
        "outputId": "89579957-74e2-4905-8815-b93c22485f7d"
      },
      "execution_count": null,
      "outputs": [
        {
          "output_type": "execute_result",
          "data": {
            "text/plain": [
              "Job Title                                                         Q26  \n",
              "Data Analyst (Business, Marketing, Financial, Quantitative, etc)  1-2      352\n",
              "                                                                  20+      326\n",
              "                                                                  3-4      249\n",
              "                                                                  0        231\n",
              "                                                                  5-9      189\n",
              "                                                                  10-14     94\n",
              "                                                                  15-19     51\n",
              "Data Scientist                                                    20+      524\n",
              "                                                                  1-2      371\n",
              "                                                                  3-4      335\n",
              "                                                                  5-9      302\n",
              "                                                                  10-14    153\n",
              "                                                                  0        124\n",
              "                                                                  15-19     78\n",
              "Name: Q26, dtype: int64"
            ]
          },
          "metadata": {},
          "execution_count": 244
        }
      ]
    },
    {
      "cell_type": "markdown",
      "source": [
        "### 💡 Q9 INSIGHTS: \n",
        "\n",
        "* **Data Analysts**:  More likely to be the sole person or only working with 1 other person when performing that role at their company. \n",
        "* **Data Scientists**: More likely to be one of many performing that role at the company meaning they work in bigger teams. \n",
        "* **Overall**: This is interesting because the roles are the reverse of each other. "
      ],
      "metadata": {
        "id": "vZ360pp8oSau"
      }
    },
    {
      "cell_type": "markdown",
      "source": [
        "##Q10: What are the Distributions for Gender and Age for Data Analysts and Scientists?"
      ],
      "metadata": {
        "id": "TkEMnHOXLm6y"
      }
    },
    {
      "cell_type": "code",
      "source": [
        "#Graph each gender for DA and DS\n",
        "((DA_DS_df['Gender'].value_counts()/(DA_DS_df['Gender'].value_counts().sum()))*100).plot(kind='bar', color = 'lightpink')\n",
        "plt.title('Data Analyst and Data Scientist Gender Distribution')\n",
        "plt.xlabel(\"Gender\")\n",
        "plt.ylabel(\"Percent\");"
      ],
      "metadata": {
        "id": "VO8LHGPsLycG",
        "colab": {
          "base_uri": "https://localhost:8080/",
          "height": 449
        },
        "outputId": "41ccc4b1-fa86-493b-9f03-3c32243ecf25"
      },
      "execution_count": null,
      "outputs": [
        {
          "output_type": "display_data",
          "data": {
            "text/plain": [
              "<Figure size 864x360 with 1 Axes>"
            ],
            "image/png": "[encoded data removed]"
          },
          "metadata": {
            "needs_background": "light"
          }
        }
      ]
    },
    {
      "cell_type": "code",
      "source": [
        "#Graph age groups for DA and DS\n",
        "((DA_DS_df['Age'].value_counts()/(DA_DS_df['Age'].value_counts().sum()))*100).plot(kind='bar', color = 'mediumvioletred')\n",
        "plt.title('Data Analyst and Data Scientist Age Distribution')\n",
        "plt.xlabel(\"Age\")\n",
        "plt.ylabel(\"Percent\");"
      ],
      "metadata": {
        "colab": {
          "base_uri": "https://localhost:8080/",
          "height": 369
        },
        "id": "XT8g84MUi5t1",
        "outputId": "4db137eb-fbf8-483f-a515-ba5400a4a1ad"
      },
      "execution_count": null,
      "outputs": [
        {
          "output_type": "display_data",
          "data": {
            "text/plain": [
              "<Figure size 864x360 with 1 Axes>"
            ],
            "image/png": "[encoded data removed]"
          },
          "metadata": {
            "needs_background": "light"
          }
        }
      ]
    },
    {
      "cell_type": "markdown",
      "source": [
        "### 💡 Q10 INSIGHTS: \n",
        "The most popular age group for a Data Analyst or Data Scientist is 25-29. This makes sense considering the amount of time it takes to develop the necessary skills!"
      ],
      "metadata": {
        "id": "Gtfn38W9Ltng"
      }
    },
    {
      "cell_type": "markdown",
      "source": [
        "## Q11, Q12, Q13, Q14: Salary Analysis"
      ],
      "metadata": {
        "id": "T1q3p1w2sU_j"
      }
    },
    {
      "cell_type": "markdown",
      "source": [
        "### Assumptions Made\n",
        "* If the column contained nan's, we converted those to a salary of 0. This could have been an error on the responders part, however, for our analysis we moved forward with them making no salary. "
      ],
      "metadata": {
        "id": "QKkVurjpAaoC"
      }
    },
    {
      "cell_type": "markdown",
      "source": [
        "### Salary Clean- Up"
      ],
      "metadata": {
        "id": "RyPFzZzSRCau"
      }
    },
    {
      "cell_type": "code",
      "source": [
        "#Data type of salary is 'Object'\n",
        "DA_DS_df['Salary'].dtypes"
      ],
      "metadata": {
        "colab": {
          "base_uri": "https://localhost:8080/"
        },
        "id": "Zm1X7koNwy-9",
        "outputId": "312da7b3-c1fd-4bb1-edbd-36093b7782c6"
      },
      "execution_count": null,
      "outputs": [
        {
          "output_type": "execute_result",
          "data": {
            "text/plain": [
              "dtype('O')"
            ]
          },
          "metadata": {},
          "execution_count": 247
        }
      ]
    },
    {
      "cell_type": "code",
      "source": [
        "#Salary value_counts revealed to us the dollar signs, dashes, and commas\n",
        "#These must all be removed in the following steps in order to apply numeric methods on the salaries\n",
        "DA_DS_df['Salary'].value_counts()"
      ],
      "metadata": {
        "colab": {
          "base_uri": "https://localhost:8080/"
        },
        "id": "M23F1OUAAgCb",
        "outputId": "600b57b6-f81c-42cd-dc3d-bdc70a2607e3"
      },
      "execution_count": null,
      "outputs": [
        {
          "output_type": "execute_result",
          "data": {
            "text/plain": [
              "$0-999              425\n",
              "10,000-14,999       207\n",
              "1,000-1,999         190\n",
              "30,000-39,999       167\n",
              "100,000-124,999     160\n",
              "40,000-49,999       157\n",
              "5,000-7,499         138\n",
              "50,000-59,999       134\n",
              "7,500-9,999         127\n",
              "150,000-199,999     127\n",
              "20,000-24,999       125\n",
              "60,000-69,999       119\n",
              "15,000-19,999       114\n",
              "125,000-149,999     109\n",
              "70,000-79,999       106\n",
              "25,000-29,999       104\n",
              "2,000-2,999          92\n",
              "80,000-89,999        92\n",
              "3,000-3,999          88\n",
              "4,000-4,999          82\n",
              "90,000-99,999        69\n",
              "200,000-249,999      67\n",
              "250,000-299,999      23\n",
              "300,000-499,999      20\n",
              ">$1,000,000          10\n",
              "$500,000-999,999      9\n",
              "Name: Salary, dtype: int64"
            ]
          },
          "metadata": {},
          "execution_count": 248
        }
      ]
    },
    {
      "cell_type": "code",
      "source": [
        "#Change to a string\n",
        "DA_DS_df['Salary'] = DA_DS_df['Salary'].astype(str) "
      ],
      "metadata": {
        "id": "Ha-HM60-5syP"
      },
      "execution_count": null,
      "outputs": []
    },
    {
      "cell_type": "code",
      "source": [
        "DA_DS_df['Salary'] = DA_DS_df['Salary'].str.replace(',', '') #get rid of commas in numbers "
      ],
      "metadata": {
        "id": "GI4Zrj702LL7"
      },
      "execution_count": null,
      "outputs": []
    },
    {
      "cell_type": "code",
      "source": [
        "DA_DS_df['Salary'] = DA_DS_df['Salary'].str.replace('$','') #get rid of $"
      ],
      "metadata": {
        "colab": {
          "base_uri": "https://localhost:8080/"
        },
        "id": "q8uEnVOZ6Z1D",
        "outputId": "01f5a64a-3a6e-4221-966f-8db87b594d5c"
      },
      "execution_count": null,
      "outputs": [
        {
          "output_type": "stream",
          "name": "stderr",
          "text": [
            "<ipython-input-251-e1f150781db7>:1: FutureWarning: The default value of regex will change from True to False in a future version. In addition, single character regular expressions will *not* be treated as literal strings when regex=True.\n",
            "  DA_DS_df['Salary'] = DA_DS_df['Salary'].str.replace('$','') #get rid of $\n"
          ]
        }
      ]
    },
    {
      "cell_type": "code",
      "source": [
        "DA_DS_df['Salary'] = DA_DS_df['Salary'].str.replace('>','') #get rid of >"
      ],
      "metadata": {
        "id": "tOFJJ3ox6oof"
      },
      "execution_count": null,
      "outputs": []
    },
    {
      "cell_type": "code",
      "source": [
        "DA_DS_df['Salary'] = DA_DS_df['Salary'].str.replace('1000000','1000000-1000000') #replace 1,000,000"
      ],
      "metadata": {
        "id": "jiQRlp-BAtIV"
      },
      "execution_count": null,
      "outputs": []
    },
    {
      "cell_type": "code",
      "source": [
        "DA_DS_df['Salary'] = DA_DS_df['Salary'].str.replace('nan','0-0') #replace nan's "
      ],
      "metadata": {
        "id": "Mxa3St2ZJFiL"
      },
      "execution_count": null,
      "outputs": []
    },
    {
      "cell_type": "code",
      "source": [
        "DA_DS_df['Salary_lows'] = DA_DS_df['Salary'].apply(lambda x: x.split('-')[0]) #split the column"
      ],
      "metadata": {
        "id": "mhihaSceunoL"
      },
      "execution_count": null,
      "outputs": []
    },
    {
      "cell_type": "code",
      "source": [
        "DA_DS_df['Salary_highs'] = DA_DS_df['Salary'].apply(lambda x: x.split('-')[1]) #split the column"
      ],
      "metadata": {
        "id": "sVHnWLau8msM"
      },
      "execution_count": null,
      "outputs": []
    },
    {
      "cell_type": "markdown",
      "source": [
        "###Q11: What is the Average Salary for a Data Analyst and Data Scientist?"
      ],
      "metadata": {
        "id": "khFpnhMiRJQB"
      }
    },
    {
      "cell_type": "code",
      "source": [
        "# change to numeric values \n",
        "DA_DS_df['Salary_highs'] = pd.to_numeric(DA_DS_df['Salary_highs'])\n",
        "DA_DS_df['Salary_lows'] = pd.to_numeric(DA_DS_df['Salary_lows'])"
      ],
      "metadata": {
        "id": "hJ9wwRA3LBa8"
      },
      "execution_count": null,
      "outputs": []
    },
    {
      "cell_type": "code",
      "source": [
        "# coloumn to create the average \n",
        "DA_DS_df['Salary_averages'] = ((DA_DS_df['Salary_lows'] + DA_DS_df['Salary_highs'])/2).round(2)"
      ],
      "metadata": {
        "id": "x32dYTxnKrY5"
      },
      "execution_count": null,
      "outputs": []
    },
    {
      "cell_type": "code",
      "source": [
        "# replace missing values \n",
        "DA_DS_df['Salary_averages']= (DA_DS_df['Salary_averages'].replace(0.0, DA_DS_df['Salary_averages'].mean())).round(2)"
      ],
      "metadata": {
        "id": "Mw8UsTJCLW0H"
      },
      "execution_count": null,
      "outputs": []
    },
    {
      "cell_type": "code",
      "source": [
        "#Calculate overall DA/DS average salary\n",
        "DA_DS_df['Salary_averages'].mean().round(2)"
      ],
      "metadata": {
        "colab": {
          "base_uri": "https://localhost:8080/"
        },
        "id": "0DSCxhxERSTD",
        "outputId": "85c3e9d1-7ed8-4fd7-8513-85a6e1a84957"
      },
      "execution_count": null,
      "outputs": [
        {
          "output_type": "execute_result",
          "data": {
            "text/plain": [
              "53272.44"
            ]
          },
          "metadata": {},
          "execution_count": 260
        }
      ]
    },
    {
      "cell_type": "markdown",
      "source": [
        "### 💡 Q11 INSIGHTS: \n",
        "This average is taking into account all of the co-ops, graduate assistantships, research jobs, and internships completed where people are called ‘Analysts’. The average represents several different incomes ranging from as low as $500 to as much as $70,000. "
      ],
      "metadata": {
        "id": "JD23U0uIpAdX"
      }
    },
    {
      "cell_type": "markdown",
      "source": [
        "###Q12: How Does Level of Education Affect Salary?"
      ],
      "metadata": {
        "id": "J8_chHZaM66z"
      }
    },
    {
      "cell_type": "code",
      "source": [
        "#Use value counts to determine amount of each level\n",
        "DA_DS_df['Highest Education Level'].value_counts()"
      ],
      "metadata": {
        "colab": {
          "base_uri": "https://localhost:8080/"
        },
        "id": "S5hGbtGGwt5P",
        "outputId": "60fb4655-3e52-40ff-d961-9b70a1d526eb"
      },
      "execution_count": null,
      "outputs": [
        {
          "output_type": "execute_result",
          "data": {
            "text/plain": [
              "Master’s degree                                                      1675\n",
              "Bachelor’s degree                                                     921\n",
              "Doctoral degree                                                       409\n",
              "I prefer not to answer                                                194\n",
              "Some college/university study without earning a bachelor’s degree     111\n",
              "Professional doctorate                                                 79\n",
              "No formal education past high school                                   78\n",
              "Name: Highest Education Level, dtype: int64"
            ]
          },
          "metadata": {},
          "execution_count": 261
        }
      ]
    },
    {
      "cell_type": "code",
      "source": [
        "#Shorten column name for visualizations\n",
        "DA_DS_df['Highest Education Level']= DA_DS_df['Highest Education Level'].replace('Some college/university study without earning a bachelor’s degree','Some college/university, no bachelor’s degree')"
      ],
      "metadata": {
        "id": "31BMp__y9LIe"
      },
      "execution_count": null,
      "outputs": []
    },
    {
      "cell_type": "code",
      "source": [
        "#Graph education levels\n",
        "edu_salary=(DA_DS_df.groupby(['Highest Education Level'])['Salary_averages'].mean()).round(2).sort_values(ascending = False)\n",
        "edu_salary.plot(kind='bar', color='violet')\n",
        "plt.title('Data Analyst and Data Scientist Education Level vs Salary')\n",
        "plt.xlabel(\"Level\")\n",
        "plt.ylabel(\"Salary\");"
      ],
      "metadata": {
        "id": "-hcFaOd8NYZw",
        "colab": {
          "base_uri": "https://localhost:8080/",
          "height": 571
        },
        "outputId": "e0470a5c-0ffa-4b3a-a319-2832f7ee474a"
      },
      "execution_count": null,
      "outputs": [
        {
          "output_type": "display_data",
          "data": {
            "text/plain": [
              "<Figure size 864x360 with 1 Axes>"
            ],
            "image/png": "[encoded data removed]"
          },
          "metadata": {
            "needs_background": "light"
          }
        }
      ]
    },
    {
      "cell_type": "markdown",
      "source": [
        "### 💡 Q12 INSIGHTS: \n",
        "This graph shows that continuing on to higher education is an excellent choice for someone moving into the analytics field. We can conclude there is a significant jump in salary from Bachelor's to Master's to Doctorate!\n",
        "\n"
      ],
      "metadata": {
        "id": "t1nFNA8ipEpY"
      }
    },
    {
      "cell_type": "markdown",
      "source": [
        "### Q13: How Does Years Writing Code Affect Salary?"
      ],
      "metadata": {
        "id": "pi6naVusKKnW"
      }
    },
    {
      "cell_type": "code",
      "source": [
        "#Take a look at the bins for years coding\n",
        "DA_DS_df['Years Writing Code'].unique()"
      ],
      "metadata": {
        "colab": {
          "base_uri": "https://localhost:8080/"
        },
        "id": "mAB3gFMLZ1c8",
        "outputId": "331258b9-eaf6-4a6c-e77f-5e7a1524096a"
      },
      "execution_count": null,
      "outputs": [
        {
          "output_type": "execute_result",
          "data": {
            "text/plain": [
              "array(['1-3 years', '10-20 years', '< 1 years',\n",
              "       'I have never written code', '20+ years', '5-10 years',\n",
              "       '3-5 years'], dtype=object)"
            ]
          },
          "metadata": {},
          "execution_count": 264
        }
      ]
    },
    {
      "cell_type": "code",
      "source": [
        "#Convert bins to higher of the range in order to perform numeric methods on the column\n",
        "numeric_years_coding = {'I have never written code':'0','< 1 years':'1', '1-3 years': '3', '3-5 years':'5', '5-10 years':'10', '10-20 years':'20', '20+ years':'25'}"
      ],
      "metadata": {
        "id": "hRBejCijxy1R"
      },
      "execution_count": null,
      "outputs": []
    },
    {
      "cell_type": "code",
      "source": [
        "DA_DS_df['Num Years Writing Code']= DA_DS_df['Years Writing Code'].replace(numeric_years_coding.keys(),numeric_years_coding.values())\n",
        "DA_DS_df['Num Years Writing Code']"
      ],
      "metadata": {
        "colab": {
          "base_uri": "https://localhost:8080/"
        },
        "id": "2LP6BWR2yb3Y",
        "outputId": "874f403b-0bb5-4b68-ca44-752188eccf2a"
      },
      "execution_count": null,
      "outputs": [
        {
          "output_type": "execute_result",
          "data": {
            "text/plain": [
              "40        3\n",
              "74       20\n",
              "76        1\n",
              "95       20\n",
              "100       0\n",
              "         ..\n",
              "23972     3\n",
              "23977     3\n",
              "23982     3\n",
              "23984     1\n",
              "23988     0\n",
              "Name: Num Years Writing Code, Length: 3467, dtype: object"
            ]
          },
          "metadata": {},
          "execution_count": 266
        }
      ]
    },
    {
      "cell_type": "code",
      "source": [
        "#Graph years writing code and salary averages \n",
        "num_years_code =(DA_DS_df.groupby(['Years Writing Code'])['Salary_averages'].mean()).round(2).sort_values(ascending = False)\n",
        "num_years_code.plot(kind='bar', color ='plum')\n",
        "#ax.set_xticklabels(num_years_code.values)\n",
        "plt.xlabel(\"Number of Years Writing Code\")\n",
        "plt.ylabel(\"Counts\")\n",
        "plt.title(\"Number of Years Spent Coding\");"
      ],
      "metadata": {
        "colab": {
          "base_uri": "https://localhost:8080/",
          "height": 468
        },
        "id": "t-TPQjc3zb-i",
        "outputId": "37adfb42-be1c-49c9-b5cd-1df9bee66679"
      },
      "execution_count": null,
      "outputs": [
        {
          "output_type": "display_data",
          "data": {
            "text/plain": [
              "<Figure size 864x360 with 1 Axes>"
            ],
            "image/png": "[encoded data removed]"
          },
          "metadata": {
            "needs_background": "light"
          }
        }
      ]
    },
    {
      "cell_type": "markdown",
      "source": [
        "### 💡 Q13 INSIGHTS: \n",
        "As expexted, the number of years writing code is only going to help you earn a higher salary. However, you want to always be aware of ways you can make yuor code more efficient or try to learn new skills along the way.\n"
      ],
      "metadata": {
        "id": "S2yzO755pRd6"
      }
    },
    {
      "cell_type": "markdown",
      "source": [
        "# ↪Section 5: Main Analysis- Analysis 2"
      ],
      "metadata": {
        "id": "Iy51A5BCwfH6"
      }
    },
    {
      "cell_type": "markdown",
      "source": [
        "##Data Review/ Preparation of New DF\n"
      ],
      "metadata": {
        "id": "-wjxqF-GITZc"
      }
    },
    {
      "cell_type": "code",
      "source": [
        "#Create 3 new Dataframes for new job titles \n",
        "MG_df = grouped.get_group('Manager (Program, Project, Operations, Executive-level, etc)')\n",
        "Dataarch_df = grouped.get_group('Data Architect')\n",
        "Dataadmin_df = grouped.get_group('Data Administrator')"
      ],
      "metadata": {
        "id": "OsqntGx1WzkM"
      },
      "execution_count": null,
      "outputs": []
    },
    {
      "cell_type": "code",
      "source": [
        "#Combine the 3 new DF's into 1\n",
        "Upper_level_df = pd.concat([MG_df, Dataarch_df, Dataadmin_df])\n",
        "Upper_level_df"
      ],
      "metadata": {
        "id": "j76Ipf0UXmSg",
        "colab": {
          "base_uri": "https://localhost:8080/",
          "height": 1000
        },
        "outputId": "f4d5397c-07a1-45e2-e376-b9e77b6dc957"
      },
      "execution_count": null,
      "outputs": [
        {
          "output_type": "execute_result",
          "data": {
            "text/plain": [
              "      Duration (in seconds)    Age Gender                   Country  \\\n",
              "78                      825  45-49    Man                 Argentina   \n",
              "103                    1253  45-49    Man                 Argentina   \n",
              "110                    1220  55-59  Woman                 Argentina   \n",
              "172                    1582  50-54    Man                 Argentina   \n",
              "234                     302  50-54    Man                 Argentina   \n",
              "...                     ...    ...    ...                       ...   \n",
              "22046                   605  45-49    Man  United States of America   \n",
              "22917                   251  25-29    Man  United States of America   \n",
              "23010                   290  30-34  Woman  United States of America   \n",
              "23145                   161  25-29  Woman  United States of America   \n",
              "23629                   625  40-44    Man  United States of America   \n",
              "\n",
              "      Currently In school?      Q6_1 Q6_2                  Q6_3 Q6_4 Q6_5  \\\n",
              "78                      No  Coursera  NaN                   NaN  NaN  NaN   \n",
              "103                     No  Coursera  NaN  Kaggle Learn Courses  NaN  NaN   \n",
              "110                     No       NaN  NaN  Kaggle Learn Courses  NaN  NaN   \n",
              "172                     No       NaN  NaN                   NaN  NaN  NaN   \n",
              "234                     No       NaN  NaN                   NaN  NaN  NaN   \n",
              "...                    ...       ...  ...                   ...  ...  ...   \n",
              "22046                   No       NaN  NaN                   NaN  NaN  NaN   \n",
              "22917                   No  Coursera  edX  Kaggle Learn Courses  NaN  NaN   \n",
              "23010                   No  Coursera  NaN                   NaN  NaN  NaN   \n",
              "23145                   No  Coursera  NaN                   NaN  NaN  NaN   \n",
              "23629                   No  Coursera  NaN  Kaggle Learn Courses  NaN  NaN   \n",
              "\n",
              "       ...                            Q44_3                            Q44_4  \\\n",
              "78     ...                              NaN                              NaN   \n",
              "103    ...                              NaN  Kaggle (notebooks, forums, etc)   \n",
              "110    ...                              NaN  Kaggle (notebooks, forums, etc)   \n",
              "172    ...                              NaN                              NaN   \n",
              "234    ...                              NaN  Kaggle (notebooks, forums, etc)   \n",
              "...    ...                              ...                              ...   \n",
              "22046  ...  Reddit (r/machinelearning, etc)  Kaggle (notebooks, forums, etc)   \n",
              "22917  ...  Reddit (r/machinelearning, etc)                              NaN   \n",
              "23010  ...                              NaN  Kaggle (notebooks, forums, etc)   \n",
              "23145  ...                              NaN                              NaN   \n",
              "23629  ...                              NaN  Kaggle (notebooks, forums, etc)   \n",
              "\n",
              "                                                   Q44_5  \\\n",
              "78                                                   NaN   \n",
              "103    Course Forums (forums.fast.ai, Coursera forums...   \n",
              "110                                                  NaN   \n",
              "172                                                  NaN   \n",
              "234                                                  NaN   \n",
              "...                                                  ...   \n",
              "22046                                                NaN   \n",
              "22917                                                NaN   \n",
              "23010                                                NaN   \n",
              "23145                                                NaN   \n",
              "23629                                                NaN   \n",
              "\n",
              "                                                   Q44_6  \\\n",
              "78                                                   NaN   \n",
              "103    YouTube (Kaggle YouTube, Cloud AI Adventures, ...   \n",
              "110                                                  NaN   \n",
              "172                                                  NaN   \n",
              "234    YouTube (Kaggle YouTube, Cloud AI Adventures, ...   \n",
              "...                                                  ...   \n",
              "22046  YouTube (Kaggle YouTube, Cloud AI Adventures, ...   \n",
              "22917  YouTube (Kaggle YouTube, Cloud AI Adventures, ...   \n",
              "23010                                                NaN   \n",
              "23145                                                NaN   \n",
              "23629                                                NaN   \n",
              "\n",
              "                                                   Q44_7  \\\n",
              "78                                                   NaN   \n",
              "103                                                  NaN   \n",
              "110                                                  NaN   \n",
              "172    Podcasts (Chai Time Data Science, O’Reilly Dat...   \n",
              "234                                                  NaN   \n",
              "...                                                  ...   \n",
              "22046                                                NaN   \n",
              "22917                                                NaN   \n",
              "23010                                                NaN   \n",
              "23145                                                NaN   \n",
              "23629                                                NaN   \n",
              "\n",
              "                                                   Q44_8  \\\n",
              "78                                                   NaN   \n",
              "103                                                  NaN   \n",
              "110                                                  NaN   \n",
              "172                                                  NaN   \n",
              "234                                                  NaN   \n",
              "...                                                  ...   \n",
              "22046  Blogs (Towards Data Science, Analytics Vidhya,...   \n",
              "22917                                                NaN   \n",
              "23010                                                NaN   \n",
              "23145                                                NaN   \n",
              "23629                                                NaN   \n",
              "\n",
              "                                                   Q44_9 Q44_10 Q44_11 Q44_12  \n",
              "78                                                   NaN    NaN   None    NaN  \n",
              "103                                                  NaN    NaN    NaN    NaN  \n",
              "110                                                  NaN    NaN    NaN    NaN  \n",
              "172                                                  NaN    NaN    NaN    NaN  \n",
              "234                                                  NaN    NaN    NaN    NaN  \n",
              "...                                                  ...    ...    ...    ...  \n",
              "22046  Journal Publications (peer-reviewed journals, ...    NaN    NaN    NaN  \n",
              "22917                                                NaN    NaN    NaN    NaN  \n",
              "23010                                                NaN    NaN    NaN    NaN  \n",
              "23145                                                NaN    NaN    NaN    NaN  \n",
              "23629                                                NaN    NaN    NaN    NaN  \n",
              "\n",
              "[997 rows x 124 columns]"
            ],
            "text/html": [
              "\n",
              "  <div id=\"df-8befbea7-76b4-44ef-8a95-ba2f7cd5ba42\">\n",
              "    <div class=\"colab-df-container\">\n",
              "      <div>\n",
              "<style scoped>\n",
              "    .dataframe tbody tr th:only-of-type {\n",
              "        vertical-align: middle;\n",
              "    }\n",
              "\n",
              "    .dataframe tbody tr th {\n",
              "        vertical-align: top;\n",
              "    }\n",
              "\n",
              "    .dataframe thead th {\n",
              "        text-align: right;\n",
              "    }\n",
              "</style>\n",
              "<table border=\"1\" class=\"dataframe\">\n",
              "  <thead>\n",
              "    <tr style=\"text-align: right;\">\n",
              "      <th></th>\n",
              "      <th>Duration (in seconds)</th>\n",
              "      <th>Age</th>\n",
              "      <th>Gender</th>\n",
              "      <th>Country</th>\n",
              "      <th>Currently In school?</th>\n",
              "      <th>Q6_1</th>\n",
              "      <th>Q6_2</th>\n",
              "      <th>Q6_3</th>\n",
              "      <th>Q6_4</th>\n",
              "      <th>Q6_5</th>\n",
              "      <th>...</th>\n",
              "      <th>Q44_3</th>\n",
              "      <th>Q44_4</th>\n",
              "      <th>Q44_5</th>\n",
              "      <th>Q44_6</th>\n",
              "      <th>Q44_7</th>\n",
              "      <th>Q44_8</th>\n",
              "      <th>Q44_9</th>\n",
              "      <th>Q44_10</th>\n",
              "      <th>Q44_11</th>\n",
              "      <th>Q44_12</th>\n",
              "    </tr>\n",
              "  </thead>\n",
              "  <tbody>\n",
              "    <tr>\n",
              "      <th>78</th>\n",
              "      <td>825</td>\n",
              "      <td>45-49</td>\n",
              "      <td>Man</td>\n",
              "      <td>Argentina</td>\n",
              "      <td>No</td>\n",
              "      <td>Coursera</td>\n",
              "      <td>NaN</td>\n",
              "      <td>NaN</td>\n",
              "      <td>NaN</td>\n",
              "      <td>NaN</td>\n",
              "      <td>...</td>\n",
              "      <td>NaN</td>\n",
              "      <td>NaN</td>\n",
              "      <td>NaN</td>\n",
              "      <td>NaN</td>\n",
              "      <td>NaN</td>\n",
              "      <td>NaN</td>\n",
              "      <td>NaN</td>\n",
              "      <td>NaN</td>\n",
              "      <td>None</td>\n",
              "      <td>NaN</td>\n",
              "    </tr>\n",
              "    <tr>\n",
              "      <th>103</th>\n",
              "      <td>1253</td>\n",
              "      <td>45-49</td>\n",
              "      <td>Man</td>\n",
              "      <td>Argentina</td>\n",
              "      <td>No</td>\n",
              "      <td>Coursera</td>\n",
              "      <td>NaN</td>\n",
              "      <td>Kaggle Learn Courses</td>\n",
              "      <td>NaN</td>\n",
              "      <td>NaN</td>\n",
              "      <td>...</td>\n",
              "      <td>NaN</td>\n",
              "      <td>Kaggle (notebooks, forums, etc)</td>\n",
              "      <td>Course Forums (forums.fast.ai, Coursera forums...</td>\n",
              "      <td>YouTube (Kaggle YouTube, Cloud AI Adventures, ...</td>\n",
              "      <td>NaN</td>\n",
              "      <td>NaN</td>\n",
              "      <td>NaN</td>\n",
              "      <td>NaN</td>\n",
              "      <td>NaN</td>\n",
              "      <td>NaN</td>\n",
              "    </tr>\n",
              "    <tr>\n",
              "      <th>110</th>\n",
              "      <td>1220</td>\n",
              "      <td>55-59</td>\n",
              "      <td>Woman</td>\n",
              "      <td>Argentina</td>\n",
              "      <td>No</td>\n",
              "      <td>NaN</td>\n",
              "      <td>NaN</td>\n",
              "      <td>Kaggle Learn Courses</td>\n",
              "      <td>NaN</td>\n",
              "      <td>NaN</td>\n",
              "      <td>...</td>\n",
              "      <td>NaN</td>\n",
              "      <td>Kaggle (notebooks, forums, etc)</td>\n",
              "      <td>NaN</td>\n",
              "      <td>NaN</td>\n",
              "      <td>NaN</td>\n",
              "      <td>NaN</td>\n",
              "      <td>NaN</td>\n",
              "      <td>NaN</td>\n",
              "      <td>NaN</td>\n",
              "      <td>NaN</td>\n",
              "    </tr>\n",
              "    <tr>\n",
              "      <th>172</th>\n",
              "      <td>1582</td>\n",
              "      <td>50-54</td>\n",
              "      <td>Man</td>\n",
              "      <td>Argentina</td>\n",
              "      <td>No</td>\n",
              "      <td>NaN</td>\n",
              "      <td>NaN</td>\n",
              "      <td>NaN</td>\n",
              "      <td>NaN</td>\n",
              "      <td>NaN</td>\n",
              "      <td>...</td>\n",
              "      <td>NaN</td>\n",
              "      <td>NaN</td>\n",
              "      <td>NaN</td>\n",
              "      <td>NaN</td>\n",
              "      <td>Podcasts (Chai Time Data Science, O’Reilly Dat...</td>\n",
              "      <td>NaN</td>\n",
              "      <td>NaN</td>\n",
              "      <td>NaN</td>\n",
              "      <td>NaN</td>\n",
              "      <td>NaN</td>\n",
              "    </tr>\n",
              "    <tr>\n",
              "      <th>234</th>\n",
              "      <td>302</td>\n",
              "      <td>50-54</td>\n",
              "      <td>Man</td>\n",
              "      <td>Argentina</td>\n",
              "      <td>No</td>\n",
              "      <td>NaN</td>\n",
              "      <td>NaN</td>\n",
              "      <td>NaN</td>\n",
              "      <td>NaN</td>\n",
              "      <td>NaN</td>\n",
              "      <td>...</td>\n",
              "      <td>NaN</td>\n",
              "      <td>Kaggle (notebooks, forums, etc)</td>\n",
              "      <td>NaN</td>\n",
              "      <td>YouTube (Kaggle YouTube, Cloud AI Adventures, ...</td>\n",
              "      <td>NaN</td>\n",
              "      <td>NaN</td>\n",
              "      <td>NaN</td>\n",
              "      <td>NaN</td>\n",
              "      <td>NaN</td>\n",
              "      <td>NaN</td>\n",
              "    </tr>\n",
              "    <tr>\n",
              "      <th>...</th>\n",
              "      <td>...</td>\n",
              "      <td>...</td>\n",
              "      <td>...</td>\n",
              "      <td>...</td>\n",
              "      <td>...</td>\n",
              "      <td>...</td>\n",
              "      <td>...</td>\n",
              "      <td>...</td>\n",
              "      <td>...</td>\n",
              "      <td>...</td>\n",
              "      <td>...</td>\n",
              "      <td>...</td>\n",
              "      <td>...</td>\n",
              "      <td>...</td>\n",
              "      <td>...</td>\n",
              "      <td>...</td>\n",
              "      <td>...</td>\n",
              "      <td>...</td>\n",
              "      <td>...</td>\n",
              "      <td>...</td>\n",
              "      <td>...</td>\n",
              "    </tr>\n",
              "    <tr>\n",
              "      <th>22046</th>\n",
              "      <td>605</td>\n",
              "      <td>45-49</td>\n",
              "      <td>Man</td>\n",
              "      <td>United States of America</td>\n",
              "      <td>No</td>\n",
              "      <td>NaN</td>\n",
              "      <td>NaN</td>\n",
              "      <td>NaN</td>\n",
              "      <td>NaN</td>\n",
              "      <td>NaN</td>\n",
              "      <td>...</td>\n",
              "      <td>Reddit (r/machinelearning, etc)</td>\n",
              "      <td>Kaggle (notebooks, forums, etc)</td>\n",
              "      <td>NaN</td>\n",
              "      <td>YouTube (Kaggle YouTube, Cloud AI Adventures, ...</td>\n",
              "      <td>NaN</td>\n",
              "      <td>Blogs (Towards Data Science, Analytics Vidhya,...</td>\n",
              "      <td>Journal Publications (peer-reviewed journals, ...</td>\n",
              "      <td>NaN</td>\n",
              "      <td>NaN</td>\n",
              "      <td>NaN</td>\n",
              "    </tr>\n",
              "    <tr>\n",
              "      <th>22917</th>\n",
              "      <td>251</td>\n",
              "      <td>25-29</td>\n",
              "      <td>Man</td>\n",
              "      <td>United States of America</td>\n",
              "      <td>No</td>\n",
              "      <td>Coursera</td>\n",
              "      <td>edX</td>\n",
              "      <td>Kaggle Learn Courses</td>\n",
              "      <td>NaN</td>\n",
              "      <td>NaN</td>\n",
              "      <td>...</td>\n",
              "      <td>Reddit (r/machinelearning, etc)</td>\n",
              "      <td>NaN</td>\n",
              "      <td>NaN</td>\n",
              "      <td>YouTube (Kaggle YouTube, Cloud AI Adventures, ...</td>\n",
              "      <td>NaN</td>\n",
              "      <td>NaN</td>\n",
              "      <td>NaN</td>\n",
              "      <td>NaN</td>\n",
              "      <td>NaN</td>\n",
              "      <td>NaN</td>\n",
              "    </tr>\n",
              "    <tr>\n",
              "      <th>23010</th>\n",
              "      <td>290</td>\n",
              "      <td>30-34</td>\n",
              "      <td>Woman</td>\n",
              "      <td>United States of America</td>\n",
              "      <td>No</td>\n",
              "      <td>Coursera</td>\n",
              "      <td>NaN</td>\n",
              "      <td>NaN</td>\n",
              "      <td>NaN</td>\n",
              "      <td>NaN</td>\n",
              "      <td>...</td>\n",
              "      <td>NaN</td>\n",
              "      <td>Kaggle (notebooks, forums, etc)</td>\n",
              "      <td>NaN</td>\n",
              "      <td>NaN</td>\n",
              "      <td>NaN</td>\n",
              "      <td>NaN</td>\n",
              "      <td>NaN</td>\n",
              "      <td>NaN</td>\n",
              "      <td>NaN</td>\n",
              "      <td>NaN</td>\n",
              "    </tr>\n",
              "    <tr>\n",
              "      <th>23145</th>\n",
              "      <td>161</td>\n",
              "      <td>25-29</td>\n",
              "      <td>Woman</td>\n",
              "      <td>United States of America</td>\n",
              "      <td>No</td>\n",
              "      <td>Coursera</td>\n",
              "      <td>NaN</td>\n",
              "      <td>NaN</td>\n",
              "      <td>NaN</td>\n",
              "      <td>NaN</td>\n",
              "      <td>...</td>\n",
              "      <td>NaN</td>\n",
              "      <td>NaN</td>\n",
              "      <td>NaN</td>\n",
              "      <td>NaN</td>\n",
              "      <td>NaN</td>\n",
              "      <td>NaN</td>\n",
              "      <td>NaN</td>\n",
              "      <td>NaN</td>\n",
              "      <td>NaN</td>\n",
              "      <td>NaN</td>\n",
              "    </tr>\n",
              "    <tr>\n",
              "      <th>23629</th>\n",
              "      <td>625</td>\n",
              "      <td>40-44</td>\n",
              "      <td>Man</td>\n",
              "      <td>United States of America</td>\n",
              "      <td>No</td>\n",
              "      <td>Coursera</td>\n",
              "      <td>NaN</td>\n",
              "      <td>Kaggle Learn Courses</td>\n",
              "      <td>NaN</td>\n",
              "      <td>NaN</td>\n",
              "      <td>...</td>\n",
              "      <td>NaN</td>\n",
              "      <td>Kaggle (notebooks, forums, etc)</td>\n",
              "      <td>NaN</td>\n",
              "      <td>NaN</td>\n",
              "      <td>NaN</td>\n",
              "      <td>NaN</td>\n",
              "      <td>NaN</td>\n",
              "      <td>NaN</td>\n",
              "      <td>NaN</td>\n",
              "      <td>NaN</td>\n",
              "    </tr>\n",
              "  </tbody>\n",
              "</table>\n",
              "<p>997 rows × 124 columns</p>\n",
              "</div>\n",
              "      <button class=\"colab-df-convert\" onclick=\"convertToInteractive('df-8befbea7-76b4-44ef-8a95-ba2f7cd5ba42')\"\n",
              "              title=\"Convert this dataframe to an interactive table.\"\n",
              "              style=\"display:none;\">\n",
              "        \n",
              "  <svg xmlns=\"http://www.w3.org/2000/svg\" height=\"24px\"viewBox=\"0 0 24 24\"\n",
              "       width=\"24px\">\n",
              "    <path d=\"M0 0h24v24H0V0z\" fill=\"none\"/>\n",
              "    <path d=\"M18.56 5.44l.94 2.06.94-2.06 2.06-.94-2.06-.94-.94-2.06-.94 2.06-2.06.94zm-11 1L8.5 8.5l.94-2.06 2.06-.94-2.06-.94L8.5 2.5l-.94 2.06-2.06.94zm10 10l.94 2.06.94-2.06 2.06-.94-2.06-.94-.94-2.06-.94 2.06-2.06.94z\"/><path d=\"M17.41 7.96l-1.37-1.37c-.4-.4-.92-.59-1.43-.59-.52 0-1.04.2-1.43.59L10.3 9.45l-7.72 7.72c-.78.78-.78 2.05 0 2.83L4 21.41c.39.39.9.59 1.41.59.51 0 1.02-.2 1.41-.59l7.78-7.78 2.81-2.81c.8-.78.8-2.07 0-2.86zM5.41 20L4 18.59l7.72-7.72 1.47 1.35L5.41 20z\"/>\n",
              "  </svg>\n",
              "      </button>\n",
              "      \n",
              "  <style>\n",
              "    .colab-df-container {\n",
              "      display:flex;\n",
              "      flex-wrap:wrap;\n",
              "      gap: 12px;\n",
              "    }\n",
              "\n",
              "    .colab-df-convert {\n",
              "      background-color: #E8F0FE;\n",
              "      border: none;\n",
              "      border-radius: 50%;\n",
              "      cursor: pointer;\n",
              "      display: none;\n",
              "      fill: #1967D2;\n",
              "      height: 32px;\n",
              "      padding: 0 0 0 0;\n",
              "      width: 32px;\n",
              "    }\n",
              "\n",
              "    .colab-df-convert:hover {\n",
              "      background-color: #E2EBFA;\n",
              "      box-shadow: 0px 1px 2px rgba(60, 64, 67, 0.3), 0px 1px 3px 1px rgba(60, 64, 67, 0.15);\n",
              "      fill: #174EA6;\n",
              "    }\n",
              "\n",
              "    [theme=dark] .colab-df-convert {\n",
              "      background-color: #3B4455;\n",
              "      fill: #D2E3FC;\n",
              "    }\n",
              "\n",
              "    [theme=dark] .colab-df-convert:hover {\n",
              "      background-color: #434B5C;\n",
              "      box-shadow: 0px 1px 3px 1px rgba(0, 0, 0, 0.15);\n",
              "      filter: drop-shadow(0px 1px 2px rgba(0, 0, 0, 0.3));\n",
              "      fill: #FFFFFF;\n",
              "    }\n",
              "  </style>\n",
              "\n",
              "      <script>\n",
              "        const buttonEl =\n",
              "          document.querySelector('#df-8befbea7-76b4-44ef-8a95-ba2f7cd5ba42 button.colab-df-convert');\n",
              "        buttonEl.style.display =\n",
              "          google.colab.kernel.accessAllowed ? 'block' : 'none';\n",
              "\n",
              "        async function convertToInteractive(key) {\n",
              "          const element = document.querySelector('#df-8befbea7-76b4-44ef-8a95-ba2f7cd5ba42');\n",
              "          const dataTable =\n",
              "            await google.colab.kernel.invokeFunction('convertToInteractive',\n",
              "                                                     [key], {});\n",
              "          if (!dataTable) return;\n",
              "\n",
              "          const docLinkHtml = 'Like what you see? Visit the ' +\n",
              "            '<a target=\"_blank\" href=https://colab.research.google.com/notebooks/data_table.ipynb>data table notebook</a>'\n",
              "            + ' to learn more about interactive tables.';\n",
              "          element.innerHTML = '';\n",
              "          dataTable['output_type'] = 'display_data';\n",
              "          await google.colab.output.renderOutput(dataTable, element);\n",
              "          const docLink = document.createElement('div');\n",
              "          docLink.innerHTML = docLinkHtml;\n",
              "          element.appendChild(docLink);\n",
              "        }\n",
              "      </script>\n",
              "    </div>\n",
              "  </div>\n",
              "  "
            ]
          },
          "metadata": {},
          "execution_count": 269
        }
      ]
    },
    {
      "cell_type": "markdown",
      "source": [
        "##Q1: What do Job Responsibilities look like for Upper Level Positions in Analytics?"
      ],
      "metadata": {
        "id": "wnuKouMPIRnt"
      }
    },
    {
      "cell_type": "code",
      "source": [
        "# look at responsibilities \n",
        "#Column Renaming for 6 responsibilities \n",
        "Upper_level_df = Upper_level_df.rename(columns= {'Q28_1':'Analyze and understand data', 'Q28_2': 'Build and run data infrastructure', 'Q28_3':'Build prototypes to explore ML', 'Q28_4':'Build and run ML service', 'Q28_5': 'Improve existing ML models', 'Q28_6': 'Research ML'}).astype(object)"
      ],
      "metadata": {
        "id": "6jfuTYZaYGUZ"
      },
      "execution_count": null,
      "outputs": []
    },
    {
      "cell_type": "code",
      "source": [
        "#Replacing values with Job A, B, C, D, E, and F\n",
        "Upper_level_df['Analyze and understand data'] = Upper_level_df['Analyze and understand data'].str.replace('Analyze and understand data to influence product or business decisions', 'Job A')\n",
        "Upper_level_df['Build and run data infrastructure'] = Upper_level_df['Build and run data infrastructure'].str.replace('Build and/or run the data infrastructure that my business uses for storing, analyzing, and operationalizing data', 'Job B')\n",
        "Upper_level_df['Build prototypes to explore ML'] = Upper_level_df['Build prototypes to explore ML'].str.replace('Build prototypes to explore applying machine learning to new areas', 'Job C')\n",
        "Upper_level_df['Build and run ML service'] = Upper_level_df['Build and run ML service'].str.replace('Build and/or run a machine learning service that operationally improves my product or workflows', 'Job D')\n",
        "Upper_level_df['Improve existing ML models'] = Upper_level_df['Improve existing ML models'].str.replace('Experimentation and iteration to improve existing ML models', 'Job E')\n",
        "Upper_level_df['Research ML'] = Upper_level_df['Research ML'].str.replace('Do research that advances the state of the art of machine learning', 'Job F')"
      ],
      "metadata": {
        "id": "g3iMWPBKX1fI"
      },
      "execution_count": null,
      "outputs": []
    },
    {
      "cell_type": "code",
      "source": [
        "# fill in blanks\n",
        "Upper_level_df['Analyze and understand data']= Upper_level_df['Analyze and understand data'].fillna('')\n",
        "Upper_level_df['Build and run data infrastructure'] = Upper_level_df['Build and run data infrastructure'].fillna('')\n",
        "Upper_level_df['Build prototypes to explore ML']= Upper_level_df['Build prototypes to explore ML'].fillna('')\n",
        "Upper_level_df['Build and run ML service']= Upper_level_df['Build and run ML service'].fillna('')\n",
        "Upper_level_df['Improve existing ML models']= Upper_level_df['Improve existing ML models'].fillna('')\n",
        "Upper_level_df['Research ML']= Upper_level_df['Research ML'].fillna('')"
      ],
      "metadata": {
        "id": "gLesWwjaYOZu"
      },
      "execution_count": null,
      "outputs": []
    },
    {
      "cell_type": "code",
      "source": [
        "#New column to combine all of the columns\n",
        "Upper_level_df['All_upper_level_resp'] = Upper_level_df['Analyze and understand data'].astype(str) +' ' + Upper_level_df['Build and run data infrastructure'].astype(str) + ' ' + Upper_level_df['Build prototypes to explore ML'].astype(str) + ' ' + Upper_level_df['Build and run ML service'].astype(str) + ' ' + Upper_level_df['Improve existing ML models'].astype(str) + ' ' + Upper_level_df['Research ML'].astype(str) "
      ],
      "metadata": {
        "id": "DGvvZFl6Yb2K"
      },
      "execution_count": null,
      "outputs": []
    },
    {
      "cell_type": "code",
      "source": [
        "top10_mg_resp_df= Upper_level_df['All_upper_level_resp'].value_counts().head(10)"
      ],
      "metadata": {
        "id": "Ol62yaD1Yj0q"
      },
      "execution_count": null,
      "outputs": []
    },
    {
      "cell_type": "code",
      "source": [
        "#Graph responsibilities combinations\n",
        "top10_mg_resp_df.plot(kind='bar', color='thistle')\n",
        "plt.legend(['Bar 1 Represents Other Responsibilities'])\n",
        "plt.title('Top 10 Data Administrator, Data Architect, and Manager Responsibilities')\n",
        "plt.xlabel(\"Job Responsibilites Combinations\")\n",
        "plt.ylabel(\"Counts\");"
      ],
      "metadata": {
        "colab": {
          "base_uri": "https://localhost:8080/",
          "height": 505
        },
        "id": "oT9KnWnDY2tD",
        "outputId": "18966b61-9650-438d-dcb4-22777e565f3c"
      },
      "execution_count": null,
      "outputs": [
        {
          "output_type": "display_data",
          "data": {
            "text/plain": [
              "<Figure size 864x360 with 1 Axes>"
            ],
            "image/png": "[encoded data removed]"
          },
          "metadata": {
            "needs_background": "light"
          }
        }
      ]
    },
    {
      "cell_type": "markdown",
      "source": [
        "### 💡INSIGHTS: \n",
        "- **Job A:** Analyze and understand data\n",
        "- **Job B:**Build and run data infrastructure\n",
        "- **Job C:** Build prototypes to explore ML\n",
        "- **Job D:** Build and run ML service\n",
        "- **Job E:** Improve existing ML models \n",
        "- **Job F:** Research ML \n",
        "Overall, we can infer from this visual that this dataset does not provide an accurate representation of Managers, Data Architects, and Data Administrator's Responsibilities. This makes sense because the 3 job titles combined accounted for about 10% of the data, whereas Data Analysts and Scientists were closer to 35%. While we can see that 'Job A' and 'Job B' were fairly universal, we do not know how most 'Upper level' people would define their job responsibilites. "
      ],
      "metadata": {
        "id": "S9-hduZFIp0T"
      }
    },
    {
      "cell_type": "markdown",
      "source": [
        "##Q2: How do Gender and Age Change for Upper Level Positions Compared to Analysts and Scientists?"
      ],
      "metadata": {
        "id": "4V0knFueIesr"
      }
    },
    {
      "cell_type": "code",
      "source": [
        "#Determine counts for each gender at the upper level\n",
        "Upper_level_df['Gender'].value_counts()"
      ],
      "metadata": {
        "colab": {
          "base_uri": "https://localhost:8080/"
        },
        "id": "BlPB-i6IectP",
        "outputId": "338f60c1-c20f-4702-c1ef-ba032c716d00"
      },
      "execution_count": null,
      "outputs": [
        {
          "output_type": "execute_result",
          "data": {
            "text/plain": [
              "Man                  853\n",
              "Woman                123\n",
              "Prefer not to say     14\n",
              "Nonbinary              7\n",
              "Name: Gender, dtype: int64"
            ]
          },
          "metadata": {},
          "execution_count": 276
        }
      ]
    },
    {
      "cell_type": "code",
      "source": [
        "#Graph counts of each gender (percentage)\n",
        "((Upper_level_df['Gender'].value_counts()/(Upper_level_df['Gender'].value_counts().sum()))*100).plot(kind='bar', color = 'lightpink')\n",
        "plt.title('Data Administrator, Data Architect, and Manager Gender Distribution')\n",
        "plt.xlabel(\"Gender\")\n",
        "plt.ylabel(\"Percent\");"
      ],
      "metadata": {
        "colab": {
          "base_uri": "https://localhost:8080/",
          "height": 422
        },
        "id": "Cc7DUJzyiOPT",
        "outputId": "61af9a66-1283-47d0-a502-4bd0755d4d63"
      },
      "execution_count": null,
      "outputs": [
        {
          "output_type": "display_data",
          "data": {
            "text/plain": [
              "<Figure size 864x360 with 1 Axes>"
            ],
            "image/png": "[encoded data removed]"
          },
          "metadata": {
            "needs_background": "light"
          }
        }
      ]
    },
    {
      "cell_type": "code",
      "source": [
        "#Graph counts of each age (percentage)\n",
        "((Upper_level_df['Age'].value_counts()/(Upper_level_df['Age'].value_counts().sum()))*100).plot(kind='bar', color = 'lightpink')\n",
        "plt.title('Data Administrator, Data Architect, and Manager Age Distribution')\n",
        "plt.xlabel(\"Age\")\n",
        "plt.ylabel(\"Percent\");"
      ],
      "metadata": {
        "colab": {
          "base_uri": "https://localhost:8080/",
          "height": 369
        },
        "id": "d22uTCRnjHXy",
        "outputId": "268004b7-5391-4cbe-f7e4-cc0f0d1a4695"
      },
      "execution_count": null,
      "outputs": [
        {
          "output_type": "display_data",
          "data": {
            "text/plain": [
              "<Figure size 864x360 with 1 Axes>"
            ],
            "image/png": "[encoded data removed]"
          },
          "metadata": {
            "needs_background": "light"
          }
        }
      ]
    },
    {
      "cell_type": "markdown",
      "source": [
        "### 💡INSIGHTS: \n",
        "It looks like in the higher up roles there are even less women - meaning a change is happening as we speak! \n",
        "We would hope if we take a look at this in 2032, that women are making up more and more of this field! \n",
        "\n",
        "As expected, it is going to take a few years to reach the upper level positions. \n",
        "\n",
        "That being said, it does not mean that you won’t make a pivot in between your first role and reaching an upper level!\n"
      ],
      "metadata": {
        "id": "Nl4tnPkkIrNB"
      }
    },
    {
      "cell_type": "markdown",
      "source": [
        "##Q3: How Does Salary Change Moving up to an Upper Level Position?"
      ],
      "metadata": {
        "id": "2sN6vQekIicQ"
      }
    },
    {
      "cell_type": "markdown",
      "source": [
        "### Salary Clean- Up"
      ],
      "metadata": {
        "id": "38i9bIPRUOdn"
      }
    },
    {
      "cell_type": "code",
      "source": [
        "#Salary value_counts revealed to us the dollar signs, dashes, and commas\n",
        "#These must all be removed in the following steps in order to apply numeric methods on the salaries\n",
        "Upper_level_df['Salary'].value_counts()"
      ],
      "metadata": {
        "colab": {
          "base_uri": "https://localhost:8080/"
        },
        "outputId": "870e0919-458d-4e6a-96ef-c78147848ac4",
        "id": "q9dhMCVEUOdo"
      },
      "execution_count": null,
      "outputs": [
        {
          "output_type": "execute_result",
          "data": {
            "text/plain": [
              "150,000-199,999     82\n",
              "100,000-124,999     74\n",
              "30,000-39,999       65\n",
              "$0-999              52\n",
              "50,000-59,999       49\n",
              "40,000-49,999       47\n",
              "125,000-149,999     42\n",
              "60,000-69,999       42\n",
              "70,000-79,999       40\n",
              "200,000-249,999     35\n",
              "10,000-14,999       34\n",
              "25,000-29,999       34\n",
              "20,000-24,999       34\n",
              "1,000-1,999         32\n",
              "90,000-99,999       29\n",
              "15,000-19,999       28\n",
              "80,000-89,999       27\n",
              "7,500-9,999         25\n",
              "5,000-7,499         25\n",
              "2,000-2,999         21\n",
              "250,000-299,999     17\n",
              "300,000-499,999     16\n",
              "$500,000-999,999    16\n",
              "3,000-3,999         13\n",
              "4,000-4,999         12\n",
              ">$1,000,000          4\n",
              "Name: Salary, dtype: int64"
            ]
          },
          "metadata": {},
          "execution_count": 279
        }
      ]
    },
    {
      "cell_type": "code",
      "source": [
        "#Change to a string\n",
        "Upper_level_df['Salary'] = Upper_level_df['Salary'].astype(str) "
      ],
      "metadata": {
        "id": "QpNgjAD0UOdo"
      },
      "execution_count": null,
      "outputs": []
    },
    {
      "cell_type": "code",
      "source": [
        "Upper_level_df['Salary'] = Upper_level_df['Salary'].str.replace(',', '') #get rid of commas in numbers "
      ],
      "metadata": {
        "id": "iNKMfE67UOdo"
      },
      "execution_count": null,
      "outputs": []
    },
    {
      "cell_type": "code",
      "source": [
        "Upper_level_df['Salary'] = Upper_level_df['Salary'].str.replace('$','') #get rid of $"
      ],
      "metadata": {
        "colab": {
          "base_uri": "https://localhost:8080/"
        },
        "outputId": "6ff7911e-0ed9-4cfb-8b79-085fc4e51aa8",
        "id": "3ClyNLq4UOdo"
      },
      "execution_count": null,
      "outputs": [
        {
          "output_type": "stream",
          "name": "stderr",
          "text": [
            "<ipython-input-282-0fc5a4a4d1e7>:1: FutureWarning: The default value of regex will change from True to False in a future version. In addition, single character regular expressions will *not* be treated as literal strings when regex=True.\n",
            "  Upper_level_df['Salary'] = Upper_level_df['Salary'].str.replace('$','') #get rid of $\n"
          ]
        }
      ]
    },
    {
      "cell_type": "code",
      "source": [
        "Upper_level_df['Salary'] = Upper_level_df['Salary'].str.replace('>','') #get rid of >"
      ],
      "metadata": {
        "id": "iODJWbg6UOdp"
      },
      "execution_count": null,
      "outputs": []
    },
    {
      "cell_type": "code",
      "source": [
        "Upper_level_df['Salary'] = Upper_level_df['Salary'].str.replace('1000000','1000000-1000000') #replace 1,000,000"
      ],
      "metadata": {
        "id": "wl1Yv61JUOdp"
      },
      "execution_count": null,
      "outputs": []
    },
    {
      "cell_type": "code",
      "source": [
        "Upper_level_df['Salary'] = Upper_level_df['Salary'].str.replace('nan','0-0') #replace nan's "
      ],
      "metadata": {
        "id": "FINwaXwFUOdp"
      },
      "execution_count": null,
      "outputs": []
    },
    {
      "cell_type": "code",
      "source": [
        "Upper_level_df['Salary_lows'] = Upper_level_df['Salary'].apply(lambda x: x.split('-')[0]) #split the column"
      ],
      "metadata": {
        "id": "yU15K14GUOdp"
      },
      "execution_count": null,
      "outputs": []
    },
    {
      "cell_type": "code",
      "source": [
        "Upper_level_df['Salary_highs'] = Upper_level_df['Salary'].apply(lambda x: x.split('-')[1]) #split the column"
      ],
      "metadata": {
        "id": "hIDY7WjwUOdp"
      },
      "execution_count": null,
      "outputs": []
    },
    {
      "cell_type": "code",
      "source": [
        "# change to numeric values \n",
        "Upper_level_df['Salary_highs'] = pd.to_numeric(Upper_level_df['Salary_highs'])\n",
        "Upper_level_df['Salary_lows'] = pd.to_numeric(Upper_level_df['Salary_lows'])"
      ],
      "metadata": {
        "id": "IFUu7B6XUOdp"
      },
      "execution_count": null,
      "outputs": []
    },
    {
      "cell_type": "code",
      "source": [
        "# coloumn to create the average \n",
        "Upper_level_df['Salary_averages'] = ((Upper_level_df['Salary_lows'] + Upper_level_df['Salary_highs'])/2).round(2)"
      ],
      "metadata": {
        "id": "Sof1JzRgUOdq"
      },
      "execution_count": null,
      "outputs": []
    },
    {
      "cell_type": "code",
      "source": [
        "# replace missing values \n",
        "Upper_level_df['Salary_averages']= (Upper_level_df['Salary_averages'].replace(0.0, Upper_level_df['Salary_averages'].mean())).round(2)"
      ],
      "metadata": {
        "id": "ZhKnzNdCUOdq"
      },
      "execution_count": null,
      "outputs": []
    },
    {
      "cell_type": "markdown",
      "source": [
        "### Salary Analysis"
      ],
      "metadata": {
        "id": "Xu4IHi6cazxL"
      }
    },
    {
      "cell_type": "code",
      "source": [
        "#Calculate salary average for upper level roles\n",
        "Upper_level_df['Salary_averages'].mean().round(2)"
      ],
      "metadata": {
        "colab": {
          "base_uri": "https://localhost:8080/"
        },
        "id": "obiy52oAbsOg",
        "outputId": "bb420028-b65f-4c51-9fd5-9bd1d72cdc5d"
      },
      "execution_count": null,
      "outputs": [
        {
          "output_type": "execute_result",
          "data": {
            "text/plain": [
              "93403.71"
            ]
          },
          "metadata": {},
          "execution_count": 291
        }
      ]
    },
    {
      "cell_type": "code",
      "source": [
        "#Graph salaries of upper level roles (percentage)\n",
        "Upper_level_df['Salary_averages'].value_counts().head(10).plot(kind='bar', color='deeppink')\n",
        "plt.title('Top 10 Salary Responses')\n",
        "plt.xlabel(\"Salary\")\n",
        "plt.ylabel(\"Counts\");\n"
      ],
      "metadata": {
        "colab": {
          "base_uri": "https://localhost:8080/",
          "height": 387
        },
        "outputId": "a1e98aaf-e6a9-4726-be0a-498f0ff70fb2",
        "id": "2WHWmYpGUOdq"
      },
      "execution_count": null,
      "outputs": [
        {
          "output_type": "display_data",
          "data": {
            "text/plain": [
              "<Figure size 864x360 with 1 Axes>"
            ],
            "image/png": "[encoded data removed]"
          },
          "metadata": {
            "needs_background": "light"
          }
        }
      ]
    },
    {
      "cell_type": "markdown",
      "source": [
        "### 💡INSIGHTS: \n",
        "Finally, the more you move up, the more money you will make! But remember- years coding and education help with this too!  "
      ],
      "metadata": {
        "id": "j4ApS1x5IsEd"
      }
    },
    {
      "cell_type": "markdown",
      "source": [
        "#↪Section 6: What's Next? "
      ],
      "metadata": {
        "id": "dtenWzBCwwvB"
      }
    },
    {
      "cell_type": "markdown",
      "source": [
        "- Looking at what \"other\" programming languages Data Analysts and Data Scientists know and use. \n",
        "- Looking at what \"other\" responsibilities Data Analysts and Data Scientists perform. \n",
        "- Looking at what \"other\" BI tools Data Analysts and Data Scientists use. \n",
        "- What makes Coursera different from DataCamp.\n",
        "- Looking at what the differences are for a Masters vs. Professional Doctorate. \n",
        "- Answer analytical questions with a data set that pertains only to USA. \n",
        "- Answer analytical questions with a data set that has more information on upper level positions. \n",
        "- Comparing this data to next years data to see if there are any trends or significant differences. "
      ],
      "metadata": {
        "id": "AMNVorrXnTVe"
      }
    },
    {
      "cell_type": "markdown",
      "source": [
        "# ↪Section 7: Lessons Learned and Challenges"
      ],
      "metadata": {
        "id": "jPOxcwQ5ILz0"
      }
    },
    {
      "cell_type": "markdown",
      "source": [
        "* Looking at data in the very beginning is really important. When we first looked at the data, we realized there were a lot of missing values. There were also a large amount of missing \"Job Titles\". \n",
        "- Working with data seperated throughout various columns can be challenging. In some cases it was helpful they were seperated, in some it created another step we had to perfrom before using it to answer a question. This was a challenge when looking at programming languages, BI tools, and every other column in which a user could select more than one option.\n",
        "* The same can be said about responses being bins rather than numbers. When trying to find an average age we had to create a new column that converted the bins into an average. We faced this challenge with age as well as years coding, and salary\n",
        "* It is more challenging to create visualizations then expected. We struggled coming up with ideas/ other ways to present the data. Bar graphs did the job, but we think some other graphs could have helped. \n",
        "* Creating a notebook that is organized is key. By doing so we were able to see what questions we were working on and where the code belongs. This helped us see our progress and keep ourselves organized. \n",
        "* We think the most important lesson we learned was to start with the questions first. In the beginning we had a habit of coming up with an idea and then writing the code. However, that led us to being confused and unsure of what we were really doing. So we stopped writing code, created questions and then wrote the code. This helped us stay on track. Before moving onto the next question, we took a second to see if the result we had actually did answer the right question. \n",
        "\n",
        "\n"
      ],
      "metadata": {
        "id": "aV3kHugxN_P0"
      }
    }
  ]
}